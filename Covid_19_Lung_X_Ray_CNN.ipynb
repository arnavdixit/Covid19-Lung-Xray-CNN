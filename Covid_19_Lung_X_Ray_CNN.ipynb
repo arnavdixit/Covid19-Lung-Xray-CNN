{
  "nbformat": 4,
  "nbformat_minor": 5,
  "metadata": {
    "kernelspec": {
      "display_name": "Python 3",
      "language": "python",
      "name": "python3"
    },
    "language_info": {
      "codemirror_mode": {
        "name": "ipython",
        "version": 3
      },
      "file_extension": ".py",
      "mimetype": "text/x-python",
      "name": "python",
      "nbconvert_exporter": "python",
      "pygments_lexer": "ipython3",
      "version": "3.8.8"
    },
    "colab": {
      "name": "Covid 19 Lung X-Ray CNN.ipynb",
      "provenance": [],
      "collapsed_sections": []
    },
    "accelerator": "GPU"
  },
  "cells": [
    {
      "cell_type": "markdown",
      "metadata": {
        "id": "Ew5BARhKgIbp"
      },
      "source": [
        "# Downloading dataset from Google Drive and Unzipping it"
      ],
      "id": "Ew5BARhKgIbp"
    },
    {
      "cell_type": "code",
      "metadata": {
        "colab": {
          "base_uri": "https://localhost:8080/"
        },
        "id": "tyz8YE5cfJ13",
        "outputId": "3f5ca4b1-49b4-46b8-c024-9067e5ca6d30"
      },
      "source": [
        "!gdown --id \"1N4XzmuU1xeI_qW3Ka4b-lI0eWF68jVwi\""
      ],
      "id": "tyz8YE5cfJ13",
      "execution_count": 1,
      "outputs": [
        {
          "output_type": "stream",
          "text": [
            "Downloading...\n",
            "From: https://drive.google.com/uc?id=1N4XzmuU1xeI_qW3Ka4b-lI0eWF68jVwi\n",
            "To: /content/csc532.zip\n",
            "463MB [00:04, 108MB/s]\n"
          ],
          "name": "stdout"
        }
      ]
    },
    {
      "cell_type": "code",
      "metadata": {
        "colab": {
          "base_uri": "https://localhost:8080/"
        },
        "id": "Z73slofZfcDY",
        "outputId": "1f5b4f90-d59e-4bbd-a281-38b902ba5c68"
      },
      "source": [
        "!unzip \"/content/csc532.zip\" -d \"/content/\""
      ],
      "id": "Z73slofZfcDY",
      "execution_count": 2,
      "outputs": [
        {
          "output_type": "stream",
          "text": [
            "Archive:  /content/csc532.zip\n",
            "  inflating: /content/DLAI3_CXR_Validation_Set/DLAI3_Val_Set1 (1).jpg  \n",
            "  inflating: /content/DLAI3_CXR_Validation_Set/DLAI3_Val_Set1 (10).jpg  \n",
            "  inflating: /content/DLAI3_CXR_Validation_Set/DLAI3_Val_Set1 (100).jpg  \n",
            "  inflating: /content/DLAI3_CXR_Validation_Set/DLAI3_Val_Set1 (101).jpg  \n",
            "  inflating: /content/DLAI3_CXR_Validation_Set/DLAI3_Val_Set1 (102).jpg  \n",
            "  inflating: /content/DLAI3_CXR_Validation_Set/DLAI3_Val_Set1 (103).jpg  \n",
            "  inflating: /content/DLAI3_CXR_Validation_Set/DLAI3_Val_Set1 (104).jpg  \n",
            "  inflating: /content/DLAI3_CXR_Validation_Set/DLAI3_Val_Set1 (105).jpg  \n",
            "  inflating: /content/DLAI3_CXR_Validation_Set/DLAI3_Val_Set1 (106).jpg  \n",
            "  inflating: /content/DLAI3_CXR_Validation_Set/DLAI3_Val_Set1 (107).jpg  \n",
            "  inflating: /content/DLAI3_CXR_Validation_Set/DLAI3_Val_Set1 (108).jpg  \n",
            "  inflating: /content/DLAI3_CXR_Validation_Set/DLAI3_Val_Set1 (109).jpg  \n",
            "  inflating: /content/DLAI3_CXR_Validation_Set/DLAI3_Val_Set1 (11).jpg  \n",
            "  inflating: /content/DLAI3_CXR_Validation_Set/DLAI3_Val_Set1 (110).jpg  \n",
            "  inflating: /content/DLAI3_CXR_Validation_Set/DLAI3_Val_Set1 (111).jpg  \n",
            "  inflating: /content/DLAI3_CXR_Validation_Set/DLAI3_Val_Set1 (112).jpg  \n",
            "  inflating: /content/DLAI3_CXR_Validation_Set/DLAI3_Val_Set1 (113).jpg  \n",
            "  inflating: /content/DLAI3_CXR_Validation_Set/DLAI3_Val_Set1 (114).jpg  \n",
            "  inflating: /content/DLAI3_CXR_Validation_Set/DLAI3_Val_Set1 (115).jpg  \n",
            "  inflating: /content/DLAI3_CXR_Validation_Set/DLAI3_Val_Set1 (116).jpg  \n",
            "  inflating: /content/DLAI3_CXR_Validation_Set/DLAI3_Val_Set1 (117).jpg  \n",
            "  inflating: /content/DLAI3_CXR_Validation_Set/DLAI3_Val_Set1 (118).jpg  \n",
            "  inflating: /content/DLAI3_CXR_Validation_Set/DLAI3_Val_Set1 (119).jpg  \n",
            "  inflating: /content/DLAI3_CXR_Validation_Set/DLAI3_Val_Set1 (12).jpg  \n",
            "  inflating: /content/DLAI3_CXR_Validation_Set/DLAI3_Val_Set1 (120).jpg  \n",
            "  inflating: /content/DLAI3_CXR_Validation_Set/DLAI3_Val_Set1 (121).jpg  \n",
            "  inflating: /content/DLAI3_CXR_Validation_Set/DLAI3_Val_Set1 (122).jpg  \n",
            "  inflating: /content/DLAI3_CXR_Validation_Set/DLAI3_Val_Set1 (123).jpg  \n",
            "  inflating: /content/DLAI3_CXR_Validation_Set/DLAI3_Val_Set1 (124).jpg  \n",
            "  inflating: /content/DLAI3_CXR_Validation_Set/DLAI3_Val_Set1 (125).jpg  \n",
            "  inflating: /content/DLAI3_CXR_Validation_Set/DLAI3_Val_Set1 (126).jpg  \n",
            "  inflating: /content/DLAI3_CXR_Validation_Set/DLAI3_Val_Set1 (127).jpg  \n",
            "  inflating: /content/DLAI3_CXR_Validation_Set/DLAI3_Val_Set1 (128).jpg  \n",
            "  inflating: /content/DLAI3_CXR_Validation_Set/DLAI3_Val_Set1 (129).jpg  \n",
            "  inflating: /content/DLAI3_CXR_Validation_Set/DLAI3_Val_Set1 (13).jpg  \n",
            "  inflating: /content/DLAI3_CXR_Validation_Set/DLAI3_Val_Set1 (130).jpg  \n",
            "  inflating: /content/DLAI3_CXR_Validation_Set/DLAI3_Val_Set1 (131).jpg  \n",
            "  inflating: /content/DLAI3_CXR_Validation_Set/DLAI3_Val_Set1 (132).jpg  \n",
            "  inflating: /content/DLAI3_CXR_Validation_Set/DLAI3_Val_Set1 (133).jpg  \n",
            "  inflating: /content/DLAI3_CXR_Validation_Set/DLAI3_Val_Set1 (134).jpg  \n",
            "  inflating: /content/DLAI3_CXR_Validation_Set/DLAI3_Val_Set1 (135).jpg  \n",
            "  inflating: /content/DLAI3_CXR_Validation_Set/DLAI3_Val_Set1 (136).jpg  \n",
            "  inflating: /content/DLAI3_CXR_Validation_Set/DLAI3_Val_Set1 (137).jpg  \n",
            "  inflating: /content/DLAI3_CXR_Validation_Set/DLAI3_Val_Set1 (138).jpg  \n",
            "  inflating: /content/DLAI3_CXR_Validation_Set/DLAI3_Val_Set1 (139).jpg  \n",
            "  inflating: /content/DLAI3_CXR_Validation_Set/DLAI3_Val_Set1 (14).jpg  \n",
            "  inflating: /content/DLAI3_CXR_Validation_Set/DLAI3_Val_Set1 (140).jpg  \n",
            "  inflating: /content/DLAI3_CXR_Validation_Set/DLAI3_Val_Set1 (141).jpg  \n",
            "  inflating: /content/DLAI3_CXR_Validation_Set/DLAI3_Val_Set1 (142).jpg  \n",
            "  inflating: /content/DLAI3_CXR_Validation_Set/DLAI3_Val_Set1 (143).jpg  \n",
            "  inflating: /content/DLAI3_CXR_Validation_Set/DLAI3_Val_Set1 (144).jpg  \n",
            "  inflating: /content/DLAI3_CXR_Validation_Set/DLAI3_Val_Set1 (145).jpg  \n",
            "  inflating: /content/DLAI3_CXR_Validation_Set/DLAI3_Val_Set1 (146).jpg  \n",
            "  inflating: /content/DLAI3_CXR_Validation_Set/DLAI3_Val_Set1 (147).jpg  \n",
            "  inflating: /content/DLAI3_CXR_Validation_Set/DLAI3_Val_Set1 (148).jpg  \n",
            "  inflating: /content/DLAI3_CXR_Validation_Set/DLAI3_Val_Set1 (149).jpg  \n",
            "  inflating: /content/DLAI3_CXR_Validation_Set/DLAI3_Val_Set1 (15).jpg  \n",
            "  inflating: /content/DLAI3_CXR_Validation_Set/DLAI3_Val_Set1 (150).jpg  \n",
            "  inflating: /content/DLAI3_CXR_Validation_Set/DLAI3_Val_Set1 (151).jpg  \n",
            "  inflating: /content/DLAI3_CXR_Validation_Set/DLAI3_Val_Set1 (152).jpg  \n",
            "  inflating: /content/DLAI3_CXR_Validation_Set/DLAI3_Val_Set1 (153).jpg  \n",
            "  inflating: /content/DLAI3_CXR_Validation_Set/DLAI3_Val_Set1 (154).jpg  \n",
            "  inflating: /content/DLAI3_CXR_Validation_Set/DLAI3_Val_Set1 (155).jpg  \n",
            "  inflating: /content/DLAI3_CXR_Validation_Set/DLAI3_Val_Set1 (156).jpg  \n",
            "  inflating: /content/DLAI3_CXR_Validation_Set/DLAI3_Val_Set1 (157).jpg  \n",
            "  inflating: /content/DLAI3_CXR_Validation_Set/DLAI3_Val_Set1 (158).jpg  \n",
            "  inflating: /content/DLAI3_CXR_Validation_Set/DLAI3_Val_Set1 (159).jpg  \n",
            "  inflating: /content/DLAI3_CXR_Validation_Set/DLAI3_Val_Set1 (16).jpg  \n",
            "  inflating: /content/DLAI3_CXR_Validation_Set/DLAI3_Val_Set1 (160).jpg  \n",
            "  inflating: /content/DLAI3_CXR_Validation_Set/DLAI3_Val_Set1 (161).jpg  \n",
            "  inflating: /content/DLAI3_CXR_Validation_Set/DLAI3_Val_Set1 (162).jpg  \n",
            "  inflating: /content/DLAI3_CXR_Validation_Set/DLAI3_Val_Set1 (163).jpg  \n",
            "  inflating: /content/DLAI3_CXR_Validation_Set/DLAI3_Val_Set1 (164).jpg  \n",
            "  inflating: /content/DLAI3_CXR_Validation_Set/DLAI3_Val_Set1 (165).jpg  \n",
            "  inflating: /content/DLAI3_CXR_Validation_Set/DLAI3_Val_Set1 (166).jpg  \n",
            "  inflating: /content/DLAI3_CXR_Validation_Set/DLAI3_Val_Set1 (167).jpg  \n",
            "  inflating: /content/DLAI3_CXR_Validation_Set/DLAI3_Val_Set1 (168).jpg  \n",
            "  inflating: /content/DLAI3_CXR_Validation_Set/DLAI3_Val_Set1 (169).jpg  \n",
            "  inflating: /content/DLAI3_CXR_Validation_Set/DLAI3_Val_Set1 (17).jpg  \n",
            "  inflating: /content/DLAI3_CXR_Validation_Set/DLAI3_Val_Set1 (170).jpg  \n",
            "  inflating: /content/DLAI3_CXR_Validation_Set/DLAI3_Val_Set1 (171).jpg  \n",
            "  inflating: /content/DLAI3_CXR_Validation_Set/DLAI3_Val_Set1 (172).jpg  \n",
            "  inflating: /content/DLAI3_CXR_Validation_Set/DLAI3_Val_Set1 (173).jpg  \n",
            "  inflating: /content/DLAI3_CXR_Validation_Set/DLAI3_Val_Set1 (174).jpg  \n",
            "  inflating: /content/DLAI3_CXR_Validation_Set/DLAI3_Val_Set1 (175).jpg  \n",
            "  inflating: /content/DLAI3_CXR_Validation_Set/DLAI3_Val_Set1 (176).jpg  \n",
            "  inflating: /content/DLAI3_CXR_Validation_Set/DLAI3_Val_Set1 (177).jpg  \n",
            "  inflating: /content/DLAI3_CXR_Validation_Set/DLAI3_Val_Set1 (178).jpg  \n",
            "  inflating: /content/DLAI3_CXR_Validation_Set/DLAI3_Val_Set1 (179).jpg  \n",
            "  inflating: /content/DLAI3_CXR_Validation_Set/DLAI3_Val_Set1 (18).jpg  \n",
            "  inflating: /content/DLAI3_CXR_Validation_Set/DLAI3_Val_Set1 (180).jpg  \n",
            "  inflating: /content/DLAI3_CXR_Validation_Set/DLAI3_Val_Set1 (181).jpg  \n",
            "  inflating: /content/DLAI3_CXR_Validation_Set/DLAI3_Val_Set1 (182).jpg  \n",
            "  inflating: /content/DLAI3_CXR_Validation_Set/DLAI3_Val_Set1 (183).jpg  \n",
            "  inflating: /content/DLAI3_CXR_Validation_Set/DLAI3_Val_Set1 (184).jpg  \n",
            "  inflating: /content/DLAI3_CXR_Validation_Set/DLAI3_Val_Set1 (185).jpg  \n",
            "  inflating: /content/DLAI3_CXR_Validation_Set/DLAI3_Val_Set1 (186).jpg  \n",
            "  inflating: /content/DLAI3_CXR_Validation_Set/DLAI3_Val_Set1 (187).jpg  \n",
            "  inflating: /content/DLAI3_CXR_Validation_Set/DLAI3_Val_Set1 (188).jpg  \n",
            "  inflating: /content/DLAI3_CXR_Validation_Set/DLAI3_Val_Set1 (189).jpg  \n",
            "  inflating: /content/DLAI3_CXR_Validation_Set/DLAI3_Val_Set1 (19).jpg  \n",
            "  inflating: /content/DLAI3_CXR_Validation_Set/DLAI3_Val_Set1 (190).jpg  \n",
            "  inflating: /content/DLAI3_CXR_Validation_Set/DLAI3_Val_Set1 (191).jpg  \n",
            "  inflating: /content/DLAI3_CXR_Validation_Set/DLAI3_Val_Set1 (192).jpg  \n",
            "  inflating: /content/DLAI3_CXR_Validation_Set/DLAI3_Val_Set1 (193).jpg  \n",
            "  inflating: /content/DLAI3_CXR_Validation_Set/DLAI3_Val_Set1 (194).jpg  \n",
            "  inflating: /content/DLAI3_CXR_Validation_Set/DLAI3_Val_Set1 (195).jpg  \n",
            "  inflating: /content/DLAI3_CXR_Validation_Set/DLAI3_Val_Set1 (196).jpg  \n",
            "  inflating: /content/DLAI3_CXR_Validation_Set/DLAI3_Val_Set1 (197).jpg  \n",
            "  inflating: /content/DLAI3_CXR_Validation_Set/DLAI3_Val_Set1 (198).jpg  \n",
            "  inflating: /content/DLAI3_CXR_Validation_Set/DLAI3_Val_Set1 (199).jpg  \n",
            "  inflating: /content/DLAI3_CXR_Validation_Set/DLAI3_Val_Set1 (2).jpg  \n",
            "  inflating: /content/DLAI3_CXR_Validation_Set/DLAI3_Val_Set1 (20).jpg  \n",
            "  inflating: /content/DLAI3_CXR_Validation_Set/DLAI3_Val_Set1 (200).jpg  \n",
            "  inflating: /content/DLAI3_CXR_Validation_Set/DLAI3_Val_Set1 (201).jpg  \n",
            "  inflating: /content/DLAI3_CXR_Validation_Set/DLAI3_Val_Set1 (202).jpg  \n",
            "  inflating: /content/DLAI3_CXR_Validation_Set/DLAI3_Val_Set1 (203).jpg  \n",
            "  inflating: /content/DLAI3_CXR_Validation_Set/DLAI3_Val_Set1 (204).jpg  \n",
            "  inflating: /content/DLAI3_CXR_Validation_Set/DLAI3_Val_Set1 (205).jpg  \n",
            "  inflating: /content/DLAI3_CXR_Validation_Set/DLAI3_Val_Set1 (206).jpg  \n",
            "  inflating: /content/DLAI3_CXR_Validation_Set/DLAI3_Val_Set1 (207).jpg  \n",
            "  inflating: /content/DLAI3_CXR_Validation_Set/DLAI3_Val_Set1 (208).jpg  \n",
            "  inflating: /content/DLAI3_CXR_Validation_Set/DLAI3_Val_Set1 (209).jpg  \n",
            "  inflating: /content/DLAI3_CXR_Validation_Set/DLAI3_Val_Set1 (21).jpg  \n",
            "  inflating: /content/DLAI3_CXR_Validation_Set/DLAI3_Val_Set1 (210).jpg  \n",
            "  inflating: /content/DLAI3_CXR_Validation_Set/DLAI3_Val_Set1 (211).jpg  \n",
            "  inflating: /content/DLAI3_CXR_Validation_Set/DLAI3_Val_Set1 (212).jpg  \n",
            "  inflating: /content/DLAI3_CXR_Validation_Set/DLAI3_Val_Set1 (213).jpg  \n",
            "  inflating: /content/DLAI3_CXR_Validation_Set/DLAI3_Val_Set1 (214).jpg  \n",
            "  inflating: /content/DLAI3_CXR_Validation_Set/DLAI3_Val_Set1 (215).jpg  \n",
            "  inflating: /content/DLAI3_CXR_Validation_Set/DLAI3_Val_Set1 (216).jpg  \n",
            "  inflating: /content/DLAI3_CXR_Validation_Set/DLAI3_Val_Set1 (217).jpg  \n",
            "  inflating: /content/DLAI3_CXR_Validation_Set/DLAI3_Val_Set1 (218).jpg  \n",
            "  inflating: /content/DLAI3_CXR_Validation_Set/DLAI3_Val_Set1 (219).jpg  \n",
            "  inflating: /content/DLAI3_CXR_Validation_Set/DLAI3_Val_Set1 (22).jpg  \n",
            "  inflating: /content/DLAI3_CXR_Validation_Set/DLAI3_Val_Set1 (220).jpg  \n",
            "  inflating: /content/DLAI3_CXR_Validation_Set/DLAI3_Val_Set1 (221).jpg  \n",
            "  inflating: /content/DLAI3_CXR_Validation_Set/DLAI3_Val_Set1 (222).jpg  \n",
            "  inflating: /content/DLAI3_CXR_Validation_Set/DLAI3_Val_Set1 (223).jpg  \n",
            "  inflating: /content/DLAI3_CXR_Validation_Set/DLAI3_Val_Set1 (224).jpg  \n",
            "  inflating: /content/DLAI3_CXR_Validation_Set/DLAI3_Val_Set1 (225).jpg  \n",
            "  inflating: /content/DLAI3_CXR_Validation_Set/DLAI3_Val_Set1 (226).jpg  \n",
            "  inflating: /content/DLAI3_CXR_Validation_Set/DLAI3_Val_Set1 (227).jpg  \n",
            "  inflating: /content/DLAI3_CXR_Validation_Set/DLAI3_Val_Set1 (228).jpg  \n",
            "  inflating: /content/DLAI3_CXR_Validation_Set/DLAI3_Val_Set1 (229).jpg  \n",
            "  inflating: /content/DLAI3_CXR_Validation_Set/DLAI3_Val_Set1 (23).jpg  \n",
            "  inflating: /content/DLAI3_CXR_Validation_Set/DLAI3_Val_Set1 (230).jpg  \n",
            "  inflating: /content/DLAI3_CXR_Validation_Set/DLAI3_Val_Set1 (231).jpg  \n",
            "  inflating: /content/DLAI3_CXR_Validation_Set/DLAI3_Val_Set1 (232).jpg  \n",
            "  inflating: /content/DLAI3_CXR_Validation_Set/DLAI3_Val_Set1 (233).jpg  \n",
            "  inflating: /content/DLAI3_CXR_Validation_Set/DLAI3_Val_Set1 (234).jpg  \n",
            "  inflating: /content/DLAI3_CXR_Validation_Set/DLAI3_Val_Set1 (24).jpg  \n",
            "  inflating: /content/DLAI3_CXR_Validation_Set/DLAI3_Val_Set1 (25).jpg  \n",
            "  inflating: /content/DLAI3_CXR_Validation_Set/DLAI3_Val_Set1 (26).jpg  \n",
            "  inflating: /content/DLAI3_CXR_Validation_Set/DLAI3_Val_Set1 (27).jpg  \n",
            "  inflating: /content/DLAI3_CXR_Validation_Set/DLAI3_Val_Set1 (28).jpg  \n",
            "  inflating: /content/DLAI3_CXR_Validation_Set/DLAI3_Val_Set1 (29).jpg  \n",
            "  inflating: /content/DLAI3_CXR_Validation_Set/DLAI3_Val_Set1 (3).jpg  \n",
            "  inflating: /content/DLAI3_CXR_Validation_Set/DLAI3_Val_Set1 (30).jpg  \n",
            "  inflating: /content/DLAI3_CXR_Validation_Set/DLAI3_Val_Set1 (31).jpg  \n",
            "  inflating: /content/DLAI3_CXR_Validation_Set/DLAI3_Val_Set1 (32).jpg  \n",
            "  inflating: /content/DLAI3_CXR_Validation_Set/DLAI3_Val_Set1 (33).jpg  \n",
            "  inflating: /content/DLAI3_CXR_Validation_Set/DLAI3_Val_Set1 (34).jpg  \n",
            "  inflating: /content/DLAI3_CXR_Validation_Set/DLAI3_Val_Set1 (35).jpg  \n",
            "  inflating: /content/DLAI3_CXR_Validation_Set/DLAI3_Val_Set1 (36).jpg  \n",
            "  inflating: /content/DLAI3_CXR_Validation_Set/DLAI3_Val_Set1 (37).jpg  \n",
            "  inflating: /content/DLAI3_CXR_Validation_Set/DLAI3_Val_Set1 (38).jpg  \n",
            "  inflating: /content/DLAI3_CXR_Validation_Set/DLAI3_Val_Set1 (39).jpg  \n",
            "  inflating: /content/DLAI3_CXR_Validation_Set/DLAI3_Val_Set1 (4).jpg  \n",
            "  inflating: /content/DLAI3_CXR_Validation_Set/DLAI3_Val_Set1 (40).jpg  \n",
            "  inflating: /content/DLAI3_CXR_Validation_Set/DLAI3_Val_Set1 (41).jpg  \n",
            "  inflating: /content/DLAI3_CXR_Validation_Set/DLAI3_Val_Set1 (42).jpg  \n",
            "  inflating: /content/DLAI3_CXR_Validation_Set/DLAI3_Val_Set1 (43).jpg  \n",
            "  inflating: /content/DLAI3_CXR_Validation_Set/DLAI3_Val_Set1 (44).jpg  \n",
            "  inflating: /content/DLAI3_CXR_Validation_Set/DLAI3_Val_Set1 (45).jpg  \n",
            "  inflating: /content/DLAI3_CXR_Validation_Set/DLAI3_Val_Set1 (46).jpg  \n",
            "  inflating: /content/DLAI3_CXR_Validation_Set/DLAI3_Val_Set1 (47).jpg  \n",
            "  inflating: /content/DLAI3_CXR_Validation_Set/DLAI3_Val_Set1 (48).jpg  \n",
            "  inflating: /content/DLAI3_CXR_Validation_Set/DLAI3_Val_Set1 (49).jpg  \n",
            "  inflating: /content/DLAI3_CXR_Validation_Set/DLAI3_Val_Set1 (5).jpg  \n",
            "  inflating: /content/DLAI3_CXR_Validation_Set/DLAI3_Val_Set1 (50).jpg  \n",
            "  inflating: /content/DLAI3_CXR_Validation_Set/DLAI3_Val_Set1 (51).jpg  \n",
            "  inflating: /content/DLAI3_CXR_Validation_Set/DLAI3_Val_Set1 (52).jpg  \n",
            "  inflating: /content/DLAI3_CXR_Validation_Set/DLAI3_Val_Set1 (53).jpg  \n",
            "  inflating: /content/DLAI3_CXR_Validation_Set/DLAI3_Val_Set1 (54).jpg  \n",
            "  inflating: /content/DLAI3_CXR_Validation_Set/DLAI3_Val_Set1 (55).jpg  \n",
            "  inflating: /content/DLAI3_CXR_Validation_Set/DLAI3_Val_Set1 (56).jpg  \n",
            "  inflating: /content/DLAI3_CXR_Validation_Set/DLAI3_Val_Set1 (57).jpg  \n",
            "  inflating: /content/DLAI3_CXR_Validation_Set/DLAI3_Val_Set1 (58).jpg  \n",
            "  inflating: /content/DLAI3_CXR_Validation_Set/DLAI3_Val_Set1 (59).jpg  \n",
            "  inflating: /content/DLAI3_CXR_Validation_Set/DLAI3_Val_Set1 (6).jpg  \n",
            "  inflating: /content/DLAI3_CXR_Validation_Set/DLAI3_Val_Set1 (60).jpg  \n",
            "  inflating: /content/DLAI3_CXR_Validation_Set/DLAI3_Val_Set1 (61).jpg  \n",
            "  inflating: /content/DLAI3_CXR_Validation_Set/DLAI3_Val_Set1 (62).jpg  \n",
            "  inflating: /content/DLAI3_CXR_Validation_Set/DLAI3_Val_Set1 (63).jpg  \n",
            "  inflating: /content/DLAI3_CXR_Validation_Set/DLAI3_Val_Set1 (64).jpg  \n",
            "  inflating: /content/DLAI3_CXR_Validation_Set/DLAI3_Val_Set1 (65).jpg  \n",
            "  inflating: /content/DLAI3_CXR_Validation_Set/DLAI3_Val_Set1 (66).jpg  \n",
            "  inflating: /content/DLAI3_CXR_Validation_Set/DLAI3_Val_Set1 (67).jpg  \n",
            "  inflating: /content/DLAI3_CXR_Validation_Set/DLAI3_Val_Set1 (68).jpg  \n",
            "  inflating: /content/DLAI3_CXR_Validation_Set/DLAI3_Val_Set1 (69).jpg  \n",
            "  inflating: /content/DLAI3_CXR_Validation_Set/DLAI3_Val_Set1 (7).jpg  \n",
            "  inflating: /content/DLAI3_CXR_Validation_Set/DLAI3_Val_Set1 (70).jpg  \n",
            "  inflating: /content/DLAI3_CXR_Validation_Set/DLAI3_Val_Set1 (71).jpg  \n",
            "  inflating: /content/DLAI3_CXR_Validation_Set/DLAI3_Val_Set1 (72).jpg  \n",
            "  inflating: /content/DLAI3_CXR_Validation_Set/DLAI3_Val_Set1 (73).jpg  \n",
            "  inflating: /content/DLAI3_CXR_Validation_Set/DLAI3_Val_Set1 (74).jpg  \n",
            "  inflating: /content/DLAI3_CXR_Validation_Set/DLAI3_Val_Set1 (75).jpg  \n",
            "  inflating: /content/DLAI3_CXR_Validation_Set/DLAI3_Val_Set1 (76).jpg  \n",
            "  inflating: /content/DLAI3_CXR_Validation_Set/DLAI3_Val_Set1 (77).jpg  \n",
            "  inflating: /content/DLAI3_CXR_Validation_Set/DLAI3_Val_Set1 (78).jpg  \n",
            "  inflating: /content/DLAI3_CXR_Validation_Set/DLAI3_Val_Set1 (79).jpg  \n",
            "  inflating: /content/DLAI3_CXR_Validation_Set/DLAI3_Val_Set1 (8).jpg  \n",
            "  inflating: /content/DLAI3_CXR_Validation_Set/DLAI3_Val_Set1 (80).jpg  \n",
            "  inflating: /content/DLAI3_CXR_Validation_Set/DLAI3_Val_Set1 (81).jpg  \n",
            "  inflating: /content/DLAI3_CXR_Validation_Set/DLAI3_Val_Set1 (82).jpg  \n",
            "  inflating: /content/DLAI3_CXR_Validation_Set/DLAI3_Val_Set1 (83).jpg  \n",
            "  inflating: /content/DLAI3_CXR_Validation_Set/DLAI3_Val_Set1 (84).jpg  \n",
            "  inflating: /content/DLAI3_CXR_Validation_Set/DLAI3_Val_Set1 (85).jpg  \n",
            "  inflating: /content/DLAI3_CXR_Validation_Set/DLAI3_Val_Set1 (86).jpg  \n",
            "  inflating: /content/DLAI3_CXR_Validation_Set/DLAI3_Val_Set1 (87).jpg  \n",
            "  inflating: /content/DLAI3_CXR_Validation_Set/DLAI3_Val_Set1 (88).jpg  \n",
            "  inflating: /content/DLAI3_CXR_Validation_Set/DLAI3_Val_Set1 (89).jpg  \n",
            "  inflating: /content/DLAI3_CXR_Validation_Set/DLAI3_Val_Set1 (9).jpg  \n",
            "  inflating: /content/DLAI3_CXR_Validation_Set/DLAI3_Val_Set1 (90).jpg  \n",
            "  inflating: /content/DLAI3_CXR_Validation_Set/DLAI3_Val_Set1 (91).jpg  \n",
            "  inflating: /content/DLAI3_CXR_Validation_Set/DLAI3_Val_Set1 (92).jpg  \n",
            "  inflating: /content/DLAI3_CXR_Validation_Set/DLAI3_Val_Set1 (93).jpg  \n",
            "  inflating: /content/DLAI3_CXR_Validation_Set/DLAI3_Val_Set1 (94).jpg  \n",
            "  inflating: /content/DLAI3_CXR_Validation_Set/DLAI3_Val_Set1 (95).jpg  \n",
            "  inflating: /content/DLAI3_CXR_Validation_Set/DLAI3_Val_Set1 (96).jpg  \n",
            "  inflating: /content/DLAI3_CXR_Validation_Set/DLAI3_Val_Set1 (97).jpg  \n",
            "  inflating: /content/DLAI3_CXR_Validation_Set/DLAI3_Val_Set1 (98).jpg  \n",
            "  inflating: /content/DLAI3_CXR_Validation_Set/DLAI3_Val_Set1 (99).jpg  \n",
            "  inflating: /content/DLAI3_CXR_Validation_Set/DLAI3_Validation_Set2(10).jpg  \n",
            "  inflating: /content/DLAI3_CXR_Validation_Set/DLAI3_Validation_Set2(11).jpg  \n",
            "  inflating: /content/DLAI3_CXR_Validation_Set/DLAI3_Validation_Set2(12).jpg  \n",
            "  inflating: /content/DLAI3_CXR_Validation_Set/DLAI3_Validation_Set2(13).jpg  \n",
            "  inflating: /content/DLAI3_CXR_Validation_Set/DLAI3_Validation_Set2(14).jpg  \n",
            "  inflating: /content/DLAI3_CXR_Validation_Set/DLAI3_Validation_Set2(15).jpg  \n",
            "  inflating: /content/DLAI3_CXR_Validation_Set/DLAI3_Validation_Set2(16).jpg  \n",
            "  inflating: /content/DLAI3_CXR_Validation_Set/DLAI3_Validation_Set2(2).jpg  \n",
            "  inflating: /content/DLAI3_CXR_Validation_Set/DLAI3_Validation_Set2(3).jpg  \n",
            "  inflating: /content/DLAI3_CXR_Validation_Set/DLAI3_Validation_Set2(4).jpg  \n",
            "  inflating: /content/DLAI3_CXR_Validation_Set/DLAI3_Validation_Set2(5).jpg  \n",
            "  inflating: /content/DLAI3_CXR_Validation_Set/DLAI3_Validation_Set2(6).jpg  \n",
            "  inflating: /content/DLAI3_CXR_Validation_Set/DLAI3_Validation_Set2(7).jpg  \n",
            "  inflating: /content/DLAI3_CXR_Validation_Set/DLAI3_Validation_Set2(8).jpg  \n",
            "  inflating: /content/DLAI3_CXR_Validation_Set/DLAI3_Validation_Set2(9).jpg  \n",
            "  inflating: /content/DLAI3_CXR_Validation_Set/DLAI3_Validation_Set2_(1).jpg  \n",
            "  inflating: /content/datasets/datasets/test/negative/00001303_001.png  \n",
            "  inflating: /content/datasets/datasets/test/negative/00001304_001.png  \n",
            "  inflating: /content/datasets/datasets/test/negative/00001305_001.png  \n",
            "  inflating: /content/datasets/datasets/test/negative/00001308_002.png  \n",
            "  inflating: /content/datasets/datasets/test/negative/00001362_001.png  \n",
            "  inflating: /content/datasets/datasets/test/negative/00001362_004.png  \n",
            "  inflating: /content/datasets/datasets/test/negative/00001362_008.png  \n",
            "  inflating: /content/datasets/datasets/test/negative/00001362_014.png  \n",
            "  inflating: /content/datasets/datasets/test/negative/00001385_000.png  \n",
            "  inflating: /content/datasets/datasets/test/negative/00001385_003.png  \n",
            "  inflating: /content/datasets/datasets/test/negative/00001389_001.png  \n",
            "  inflating: /content/datasets/datasets/test/negative/00001389_002.png  \n",
            "  inflating: /content/datasets/datasets/test/negative/00001426_000.png  \n",
            "  inflating: /content/datasets/datasets/test/negative/00001433_002.png  \n",
            "  inflating: /content/datasets/datasets/test/negative/00001445_000.png  \n",
            "  inflating: /content/datasets/datasets/test/negative/00001452_002.png  \n",
            "  inflating: /content/datasets/datasets/test/negative/00001483_017.png  \n",
            "  inflating: /content/datasets/datasets/test/negative/00001483_021.png  \n",
            "  inflating: /content/datasets/datasets/test/negative/00001489_000.png  \n",
            "  inflating: /content/datasets/datasets/test/negative/00001497_000.png  \n",
            "  inflating: /content/datasets/datasets/test/negative/00001516_000.png  \n",
            "  inflating: /content/datasets/datasets/test/negative/00001526_000.png  \n",
            "  inflating: /content/datasets/datasets/test/negative/00001526_002.png  \n",
            "  inflating: /content/datasets/datasets/test/negative/00001543_000.png  \n",
            "  inflating: /content/datasets/datasets/test/negative/00001543_005.png  \n",
            "  inflating: /content/datasets/datasets/test/negative/00001543_006.png  \n",
            "  inflating: /content/datasets/datasets/test/negative/00001543_007.png  \n",
            "  inflating: /content/datasets/datasets/test/negative/00001568_000.png  \n",
            "  inflating: /content/datasets/datasets/test/negative/00001573_000.png  \n",
            "  inflating: /content/datasets/datasets/test/negative/00001576_001.png  \n",
            "  inflating: /content/datasets/datasets/test/negative/00001591_000.png  \n",
            "  inflating: /content/datasets/datasets/test/negative/00001595_002.png  \n",
            "  inflating: /content/datasets/datasets/test/negative/00001616_009.png  \n",
            "  inflating: /content/datasets/datasets/test/negative/00001616_011.png  \n",
            "  inflating: /content/datasets/datasets/test/negative/00001620_003.png  \n",
            "  inflating: /content/datasets/datasets/test/negative/00001620_005.png  \n",
            "  inflating: /content/datasets/datasets/test/negative/00001650_000.png  \n",
            "  inflating: /content/datasets/datasets/test/negative/00001666_001.png  \n",
            "  inflating: /content/datasets/datasets/test/negative/00001680_000.png  \n",
            "  inflating: /content/datasets/datasets/test/negative/00001682_001.png  \n",
            "  inflating: /content/datasets/datasets/test/negative/00001684_008.png  \n",
            "  inflating: /content/datasets/datasets/test/negative/00001684_010.png  \n",
            "  inflating: /content/datasets/datasets/test/negative/00001684_011.png  \n",
            "  inflating: /content/datasets/datasets/test/negative/00001684_012.png  \n",
            "  inflating: /content/datasets/datasets/test/negative/00001689_009.png  \n",
            "  inflating: /content/datasets/datasets/test/negative/00001689_011.png  \n",
            "  inflating: /content/datasets/datasets/test/negative/00001689_012.png  \n",
            "  inflating: /content/datasets/datasets/test/negative/00001697_001.png  \n",
            "  inflating: /content/datasets/datasets/test/negative/00001699_002.png  \n",
            "  inflating: /content/datasets/datasets/test/negative/00001700_001.png  \n",
            "  inflating: /content/datasets/datasets/test/negative/00001710_000.png  \n",
            "  inflating: /content/datasets/datasets/test/negative/00001719_000.png  \n",
            "  inflating: /content/datasets/datasets/test/negative/00001739_000.png  \n",
            "  inflating: /content/datasets/datasets/test/negative/00001741_002.png  \n",
            "  inflating: /content/datasets/datasets/test/negative/00001754_000.png  \n",
            "  inflating: /content/datasets/datasets/test/negative/00001759_001.png  \n",
            "  inflating: /content/datasets/datasets/test/negative/00001801_000.png  \n",
            "  inflating: /content/datasets/datasets/test/negative/00001803_001.png  \n",
            "  inflating: /content/datasets/datasets/test/negative/00001803_002.png  \n",
            "  inflating: /content/datasets/datasets/test/negative/00001803_005.png  \n",
            "  inflating: /content/datasets/datasets/test/negative/00001820_003.png  \n",
            "  inflating: /content/datasets/datasets/test/negative/00001823_000.png  \n",
            "  inflating: /content/datasets/datasets/test/negative/00001841_000.png  \n",
            "  inflating: /content/datasets/datasets/test/negative/00001847_006.png  \n",
            "  inflating: /content/datasets/datasets/test/negative/00001880_000.png  \n",
            "  inflating: /content/datasets/datasets/test/negative/00001880_001.png  \n",
            "  inflating: /content/datasets/datasets/test/negative/00001885_000.png  \n",
            "  inflating: /content/datasets/datasets/test/negative/00001895_000.png  \n",
            "  inflating: /content/datasets/datasets/test/negative/00001951_010.png  \n",
            "  inflating: /content/datasets/datasets/test/negative/00001951_017.png  \n",
            "  inflating: /content/datasets/datasets/test/negative/00001957_002.png  \n",
            "  inflating: /content/datasets/datasets/test/negative/00001961_005.png  \n",
            "  inflating: /content/datasets/datasets/test/negative/00001986_005.png  \n",
            "  inflating: /content/datasets/datasets/test/negative/00001986_006.png  \n",
            "  inflating: /content/datasets/datasets/test/negative/00001986_007.png  \n",
            "  inflating: /content/datasets/datasets/test/negative/00001986_011.png  \n",
            "  inflating: /content/datasets/datasets/test/negative/00001993_002.png  \n",
            "  inflating: /content/datasets/datasets/test/negative/00001995_004.png  \n",
            "  inflating: /content/datasets/datasets/test/negative/00001996_010.png  \n",
            "  inflating: /content/datasets/datasets/test/negative/00002007_000.png  \n",
            "  inflating: /content/datasets/datasets/test/negative/00002032_006.png  \n",
            "  inflating: /content/datasets/datasets/test/negative/00002034_000.png  \n",
            "  inflating: /content/datasets/datasets/test/negative/00002037_001.png  \n",
            "  inflating: /content/datasets/datasets/test/negative/00002048_014.png  \n",
            "  inflating: /content/datasets/datasets/test/negative/00002071_000.png  \n",
            "  inflating: /content/datasets/datasets/test/negative/00002086_000.png  \n",
            "  inflating: /content/datasets/datasets/test/negative/00002091_000.png  \n",
            "  inflating: /content/datasets/datasets/test/negative/00002094_002.png  \n",
            "  inflating: /content/datasets/datasets/test/negative/00002120_007.png  \n",
            "  inflating: /content/datasets/datasets/test/negative/00002154_000.png  \n",
            "  inflating: /content/datasets/datasets/test/negative/00002184_002.png  \n",
            "  inflating: /content/datasets/datasets/test/negative/00002194_002.png  \n",
            "  inflating: /content/datasets/datasets/test/negative/00002219_008.png  \n",
            "  inflating: /content/datasets/datasets/test/negative/00002229_003.png  \n",
            "  inflating: /content/datasets/datasets/test/negative/00002229_004.png  \n",
            "  inflating: /content/datasets/datasets/test/negative/00002233_000.png  \n",
            "  inflating: /content/datasets/datasets/test/negative/00002262_007.png  \n",
            "  inflating: /content/datasets/datasets/test/negative/00002262_010.png  \n",
            "  inflating: /content/datasets/datasets/test/negative/00002288_010.png  \n",
            "  inflating: /content/datasets/datasets/test/negative/00002301_000.png  \n",
            "  inflating: /content/datasets/datasets/test/negative/00002344_007.png  \n",
            "  inflating: /content/datasets/datasets/test/negative/00002344_008.png  \n",
            "  inflating: /content/datasets/datasets/test/negative/00002356_005.png  \n",
            "  inflating: /content/datasets/datasets/test/negative/00002366_001.png  \n",
            "  inflating: /content/datasets/datasets/test/negative/00002381_004.png  \n",
            "  inflating: /content/datasets/datasets/test/negative/00002381_005.png  \n",
            "  inflating: /content/datasets/datasets/test/negative/00002429_000.png  \n",
            "  inflating: /content/datasets/datasets/test/negative/00002442_001.png  \n",
            "  inflating: /content/datasets/datasets/test/negative/00002457_013.png  \n",
            "  inflating: /content/datasets/datasets/test/negative/00002464_001.png  \n",
            "  inflating: /content/datasets/datasets/test/negative/00002474_006.png  \n",
            "  inflating: /content/datasets/datasets/test/negative/00002482_001.png  \n",
            "  inflating: /content/datasets/datasets/test/negative/00002545_001.png  \n",
            "  inflating: /content/datasets/datasets/test/negative/00002549_003.png  \n",
            "  inflating: /content/datasets/datasets/test/negative/00002549_005.png  \n",
            "  inflating: /content/datasets/datasets/test/negative/00002550_000.png  \n",
            "  inflating: /content/datasets/datasets/test/negative/00002572_004.png  \n",
            "  inflating: /content/datasets/datasets/test/negative/00002572_005.png  \n",
            "  inflating: /content/datasets/datasets/test/negative/00002576_008.png  \n",
            "  inflating: /content/datasets/datasets/test/negative/00002577_000.png  \n",
            "  inflating: /content/datasets/datasets/test/negative/00002594_000.png  \n",
            "  inflating: /content/datasets/datasets/test/negative/00002594_007.png  \n",
            "  inflating: /content/datasets/datasets/test/negative/00002633_005.png  \n",
            "  inflating: /content/datasets/datasets/test/negative/00002633_011.png  \n",
            "  inflating: /content/datasets/datasets/test/negative/00002649_008.png  \n",
            "  inflating: /content/datasets/datasets/test/negative/00002658_001.png  \n",
            "  inflating: /content/datasets/datasets/test/negative/00002658_002.png  \n",
            "  inflating: /content/datasets/datasets/test/negative/00002659_001.png  \n",
            "  inflating: /content/datasets/datasets/test/negative/00002673_019.png  \n",
            "  inflating: /content/datasets/datasets/test/negative/00002678_004.png  \n",
            "  inflating: /content/datasets/datasets/test/negative/00002678_005.png  \n",
            "  inflating: /content/datasets/datasets/test/negative/00002678_006.png  \n",
            "  inflating: /content/datasets/datasets/test/negative/00002735_001.png  \n",
            "  inflating: /content/datasets/datasets/test/negative/00002735_002.png  \n",
            "  inflating: /content/datasets/datasets/test/negative/00002754_000.png  \n",
            "  inflating: /content/datasets/datasets/test/negative/00002790_003.png  \n",
            "  inflating: /content/datasets/datasets/test/negative/00002817_010.png  \n",
            "  inflating: /content/datasets/datasets/test/negative/00002819_000.png  \n",
            "  inflating: /content/datasets/datasets/test/negative/00002827_001.png  \n",
            "  inflating: /content/datasets/datasets/test/negative/00002830_000.png  \n",
            "  inflating: /content/datasets/datasets/test/negative/00002860_021.png  \n",
            "  inflating: /content/datasets/datasets/test/negative/00002860_024.png  \n",
            "  inflating: /content/datasets/datasets/test/negative/00002863_003.png  \n",
            "  inflating: /content/datasets/datasets/test/negative/00002904_000.png  \n",
            "  inflating: /content/datasets/datasets/test/negative/00002933_001.png  \n",
            "  inflating: /content/datasets/datasets/test/negative/00002939_002.png  \n",
            "  inflating: /content/datasets/datasets/test/negative/00002946_000.png  \n",
            "  inflating: /content/datasets/datasets/test/negative/00002949_000.png  \n",
            "  inflating: /content/datasets/datasets/test/negative/00003005_002.png  \n",
            "  inflating: /content/datasets/datasets/test/negative/00003005_012.png  \n",
            "  inflating: /content/datasets/datasets/test/negative/00003005_013.png  \n",
            "  inflating: /content/datasets/datasets/test/negative/00003005_019.png  \n",
            "  inflating: /content/datasets/datasets/test/negative/00003043_000.png  \n",
            "  inflating: /content/datasets/datasets/test/negative/00003053_001.png  \n",
            "  inflating: /content/datasets/datasets/test/negative/00003080_000.png  \n",
            "  inflating: /content/datasets/datasets/test/negative/00003097_003.png  \n",
            "  inflating: /content/datasets/datasets/test/negative/00003126_019.png  \n",
            "  inflating: /content/datasets/datasets/test/negative/00003126_021.png  \n",
            "  inflating: /content/datasets/datasets/test/negative/00003129_008.png  \n",
            "  inflating: /content/datasets/datasets/test/negative/00003130_004.png  \n",
            "  inflating: /content/datasets/datasets/test/negative/00003140_005.png  \n",
            "  inflating: /content/datasets/datasets/test/negative/00003140_006.png  \n",
            "  inflating: /content/datasets/datasets/test/negative/00003140_007.png  \n",
            "  inflating: /content/datasets/datasets/test/negative/00003140_008.png  \n",
            "  inflating: /content/datasets/datasets/test/negative/00003140_017.png  \n",
            "  inflating: /content/datasets/datasets/test/negative/00003150_000.png  \n",
            "  inflating: /content/datasets/datasets/test/negative/00003158_001.png  \n",
            "  inflating: /content/datasets/datasets/test/negative/00003158_002.png  \n",
            "  inflating: /content/datasets/datasets/test/negative/00003190_013.png  \n",
            "  inflating: /content/datasets/datasets/test/negative/00003190_014.png  \n",
            "  inflating: /content/datasets/datasets/test/negative/00003190_015.png  \n",
            "  inflating: /content/datasets/datasets/test/negative/00003198_005.png  \n",
            "  inflating: /content/datasets/datasets/test/negative/00003248_001.png  \n",
            "  inflating: /content/datasets/datasets/test/negative/00003248_003.png  \n",
            "  inflating: /content/datasets/datasets/test/negative/00003249_002.png  \n",
            "  inflating: /content/datasets/datasets/test/negative/00003259_000.png  \n",
            "  inflating: /content/datasets/datasets/test/negative/00003275_005.png  \n",
            "  inflating: /content/datasets/datasets/test/negative/00003276_000.png  \n",
            "  inflating: /content/datasets/datasets/test/negative/00003291_001.png  \n",
            "  inflating: /content/datasets/datasets/test/negative/00003292_002.png  \n",
            "  inflating: /content/datasets/datasets/test/negative/00003330_005.png  \n",
            "  inflating: /content/datasets/datasets/test/negative/00003331_000.png  \n",
            "  inflating: /content/datasets/datasets/test/negative/00003353_003.png  \n",
            "  inflating: /content/datasets/datasets/test/negative/00003353_004.png  \n",
            "  inflating: /content/datasets/datasets/test/negative/00003361_004.png  \n",
            "  inflating: /content/datasets/datasets/test/negative/00003361_008.png  \n",
            "  inflating: /content/datasets/datasets/test/negative/00003361_012.png  \n",
            "  inflating: /content/datasets/datasets/test/negative/00003363_001.png  \n",
            "  inflating: /content/datasets/datasets/test/negative/00003370_001.png  \n",
            "  inflating: /content/datasets/datasets/test/negative/00003382_009.png  \n",
            "  inflating: /content/datasets/datasets/test/negative/00003384_000.png  \n",
            "  inflating: /content/datasets/datasets/test/negative/00003392_004.png  \n",
            "  inflating: /content/datasets/datasets/test/negative/00003392_031.png  \n",
            "  inflating: /content/datasets/datasets/test/negative/00003393_030.png  \n",
            "  inflating: /content/datasets/datasets/test/negative/00003395_003.png  \n",
            "  inflating: /content/datasets/datasets/test/negative/00003407_005.png  \n",
            "  inflating: /content/datasets/datasets/test/negative/00003421_004.png  \n",
            "  inflating: /content/datasets/datasets/test/negative/00003426_008.png  \n",
            "  inflating: /content/datasets/datasets/test/negative/00003426_014.png  \n",
            "  inflating: /content/datasets/datasets/test/negative/00003426_015.png  \n",
            "  inflating: /content/datasets/datasets/test/negative/00003438_000.png  \n",
            "  inflating: /content/datasets/datasets/test/negative/00003441_000.png  \n",
            "  inflating: /content/datasets/datasets/test/negative/00003442_000.png  \n",
            "  inflating: /content/datasets/datasets/test/negative/00003447_001.png  \n",
            "  inflating: /content/datasets/datasets/test/negative/00003463_001.png  \n",
            "  inflating: /content/datasets/datasets/test/negative/00003468_006.png  \n",
            "  inflating: /content/datasets/datasets/test/negative/00003478_000.png  \n",
            "  inflating: /content/datasets/datasets/test/negative/00003478_002.png  \n",
            "  inflating: /content/datasets/datasets/test/negative/00003490_010.png  \n",
            "  inflating: /content/datasets/datasets/test/negative/00003490_011.png  \n",
            "  inflating: /content/datasets/datasets/test/negative/00003490_012.png  \n",
            "  inflating: /content/datasets/datasets/test/negative/00003490_013.png  \n",
            "  inflating: /content/datasets/datasets/test/negative/00003510_007.png  \n",
            "  inflating: /content/datasets/datasets/test/negative/00003510_015.png  \n",
            "  inflating: /content/datasets/datasets/test/negative/00003517_000.png  \n",
            "  inflating: /content/datasets/datasets/test/negative/00003518_000.png  \n",
            "  inflating: /content/datasets/datasets/test/negative/00003541_000.png  \n",
            "  inflating: /content/datasets/datasets/test/negative/00003552_004.png  \n",
            "  inflating: /content/datasets/datasets/test/negative/00003552_005.png  \n",
            "  inflating: /content/datasets/datasets/test/negative/00003560_001.png  \n",
            "  inflating: /content/datasets/datasets/test/negative/00003572_000.png  \n",
            "  inflating: /content/datasets/datasets/test/negative/00003574_006.png  \n",
            "  inflating: /content/datasets/datasets/test/negative/00003580_000.png  \n",
            "  inflating: /content/datasets/datasets/test/negative/00003580_001.png  \n",
            "  inflating: /content/datasets/datasets/test/negative/00003623_000.png  \n",
            "  inflating: /content/datasets/datasets/test/negative/00003628_000.png  \n",
            "  inflating: /content/datasets/datasets/test/negative/00003628_002.png  \n",
            "  inflating: /content/datasets/datasets/test/negative/00003646_001.png  \n",
            "  inflating: /content/datasets/datasets/test/negative/00003689_010.png  \n",
            "  inflating: /content/datasets/datasets/test/negative/00003693_006.png  \n",
            "  inflating: /content/datasets/datasets/test/negative/00003693_007.png  \n",
            "  inflating: /content/datasets/datasets/test/negative/00003698_000.png  \n",
            "  inflating: /content/datasets/datasets/test/negative/00003742_001.png  \n",
            "  inflating: /content/datasets/datasets/test/negative/00003748_000.png  \n",
            "  inflating: /content/datasets/datasets/test/negative/00003750_003.png  \n",
            "  inflating: /content/datasets/datasets/test/negative/00003758_005.png  \n",
            "  inflating: /content/datasets/datasets/test/negative/00003779_005.png  \n",
            "  inflating: /content/datasets/datasets/test/negative/00003806_001.png  \n",
            "  inflating: /content/datasets/datasets/test/negative/00003828_000.png  \n",
            "  inflating: /content/datasets/datasets/test/negative/00003837_004.png  \n",
            "  inflating: /content/datasets/datasets/test/negative/00003847_012.png  \n",
            "  inflating: /content/datasets/datasets/test/negative/00003849_000.png  \n",
            "  inflating: /content/datasets/datasets/test/negative/00003867_004.png  \n",
            "  inflating: /content/datasets/datasets/test/negative/00003872_001.png  \n",
            "  inflating: /content/datasets/datasets/test/negative/00003896_003.png  \n",
            "  inflating: /content/datasets/datasets/test/negative/00003896_006.png  \n",
            "  inflating: /content/datasets/datasets/test/negative/00003908_000.png  \n",
            "  inflating: /content/datasets/datasets/test/negative/00003914_001.png  \n",
            "  inflating: /content/datasets/datasets/test/negative/IM-0033-0001-0001.jpeg  \n",
            "  inflating: /content/datasets/datasets/test/negative/IM-0061-0001.jpeg  \n",
            "  inflating: /content/datasets/datasets/test/negative/IM-0089-0001.jpeg  \n",
            "  inflating: /content/datasets/datasets/test/negative/IM-0097-0001.jpeg  \n",
            "  inflating: /content/datasets/datasets/test/negative/IM-0240-0001.jpeg  \n",
            "  inflating: /content/datasets/datasets/test/negative/IM-0466-0001.jpeg  \n",
            "  inflating: /content/datasets/datasets/test/negative/NORMAL2-IM-0035-0001.jpeg  \n",
            "  inflating: /content/datasets/datasets/test/negative/NORMAL2-IM-0045-0001.jpeg  \n",
            "  inflating: /content/datasets/datasets/test/negative/NORMAL2-IM-0051-0001.jpeg  \n",
            "  inflating: /content/datasets/datasets/test/negative/NORMAL2-IM-0086-0001.jpeg  \n",
            "  inflating: /content/datasets/datasets/test/negative/NORMAL2-IM-0092-0001.jpeg  \n",
            "  inflating: /content/datasets/datasets/test/negative/NORMAL2-IM-0098-0001.jpeg  \n",
            "  inflating: /content/datasets/datasets/test/negative/NORMAL2-IM-0217-0001.jpeg  \n",
            "  inflating: /content/datasets/datasets/test/negative/NORMAL2-IM-0267-0001.jpeg  \n",
            "  inflating: /content/datasets/datasets/test/negative/NORMAL2-IM-0273-0001.jpeg  \n",
            "  inflating: /content/datasets/datasets/test/negative/NORMAL2-IM-0279-0001.jpeg  \n",
            "  inflating: /content/datasets/datasets/test/negative/NORMAL2-IM-0285-0001.jpeg  \n",
            "  inflating: /content/datasets/datasets/test/negative/NORMAL2-IM-0315-0001.jpeg  \n",
            "  inflating: /content/datasets/datasets/test/negative/NORMAL2-IM-0335-0001.jpeg  \n",
            "  inflating: /content/datasets/datasets/test/negative/NORMAL2-IM-0345-0001.jpeg  \n",
            "  inflating: /content/datasets/datasets/test/negative/NORMAL2-IM-0351-0001.jpeg  \n",
            "  inflating: /content/datasets/datasets/test/negative/NORMAL2-IM-0696-0001.jpeg  \n",
            "  inflating: /content/datasets/datasets/test/negative/NORMAL2-IM-0869-0001.jpeg  \n",
            "  inflating: /content/datasets/datasets/test/negative/NORMAL2-IM-1179-0001.jpeg  \n",
            "  inflating: /content/datasets/datasets/test/negative/person1102_bacteria_3043.jpeg  \n",
            "  inflating: /content/datasets/datasets/test/negative/person1290_virus_2215.jpeg  \n",
            "  inflating: /content/datasets/datasets/test/negative/person1558_bacteria_4066.jpeg  \n",
            "  inflating: /content/datasets/datasets/test/negative/person1599_virus_2776.jpeg  \n",
            "  inflating: /content/datasets/datasets/test/negative/person1830_bacteria_4693.jpeg  \n",
            "  inflating: /content/datasets/datasets/test/negative/person1935_bacteria_4849.jpeg  \n",
            "  inflating: /content/datasets/datasets/test/negative/person1_bacteria_2.jpeg  \n",
            "  inflating: /content/datasets/datasets/test/negative/person259_bacteria_1220.jpeg  \n",
            "  inflating: /content/datasets/datasets/test/negative/person339_bacteria_1574.jpeg  \n",
            "  inflating: /content/datasets/datasets/test/negative/person378_virus_761.jpeg  \n",
            "  inflating: /content/datasets/datasets/test/negative/person438_bacteria_1893.jpeg  \n",
            "  inflating: /content/datasets/datasets/test/negative/person525_bacteria_2216.jpeg  \n",
            "  inflating: /content/datasets/datasets/test/negative/person612_bacteria_2478.jpeg  \n",
            "  inflating: /content/datasets/datasets/test/negative/person651_bacteria_2543.jpeg  \n",
            "  inflating: /content/datasets/datasets/test/negative/person925_virus_1582.jpeg  \n",
            "  inflating: /content/datasets/datasets/test/negative/person934_virus_1595.jpeg  \n",
            "  inflating: /content/datasets/datasets/test/negative/person939_bacteria_2864.jpeg  \n",
            "  inflating: /content/datasets/datasets/test/negative/person989_virus_1667.jpeg  \n",
            "  inflating: /content/datasets/datasets/test/positive/1-s2.0-S0140673620303706-fx1_lrg.jpg  \n",
            "  inflating: /content/datasets/datasets/test/positive/1-s2.0-S0929664620300449-gr2_lrg-a.jpg  \n",
            "  inflating: /content/datasets/datasets/test/positive/1-s2.0-S0929664620300449-gr2_lrg-b.jpg  \n",
            "  inflating: /content/datasets/datasets/test/positive/1-s2.0-S0929664620300449-gr2_lrg-c.jpg  \n",
            "  inflating: /content/datasets/datasets/test/positive/1-s2.0-S0929664620300449-gr2_lrg-d.jpg  \n",
            "  inflating: /content/datasets/datasets/test/positive/1-s2.0-S1684118220300608-main.pdf-002.jpg  \n",
            "  inflating: /content/datasets/datasets/test/positive/1-s2.0-S1684118220300682-main.pdf-002-a1.png  \n",
            "  inflating: /content/datasets/datasets/test/positive/1-s2.0-S1684118220300682-main.pdf-002-a2.png  \n",
            "  inflating: /content/datasets/datasets/test/positive/1-s2.0-S1684118220300682-main.pdf-003-b1.png  \n",
            "  inflating: /content/datasets/datasets/test/positive/1-s2.0-S1684118220300682-main.pdf-003-b2 (1).png  \n",
            "  inflating: /content/datasets/datasets/test/positive/1-s2.0-S1684118220300682-main.pdf-003-b2(1).png  \n",
            "  inflating: /content/datasets/datasets/test/positive/1-s2.0-S1684118220300682-main.pdf-003-b2.png  \n",
            "  inflating: /content/datasets/datasets/test/positive/1.CXRCTThoraximagesofCOVID-19fromSingapore.pdf-001-fig2b.png  \n",
            "  inflating: /content/datasets/datasets/test/positive/1.CXRCTThoraximagesofCOVID-19fromSingapore.pdf-002-fig3a.png  \n",
            "  inflating: /content/datasets/datasets/test/positive/1.CXRCTThoraximagesofCOVID-19fromSingapore.pdf-002-fig3b.png  \n",
            "  inflating: /content/datasets/datasets/test/positive/1.CXRCTThoraximagesofCOVID-19fromSingapore.pdf-003-fig4a.png  \n",
            "  inflating: /content/datasets/datasets/test/positive/171CB377-62FF-4B76-906C-F3787A01CB2E.jpeg  \n",
            "  inflating: /content/datasets/datasets/test/positive/2966893D-5DDF-4B68-9E2B-4979D5956C8E.jpeg  \n",
            "  inflating: /content/datasets/datasets/test/positive/2B8649B2-00C4-4233-85D5-1CE240CF233B.jpeg  \n",
            "  inflating: /content/datasets/datasets/test/positive/2C10A413-AABE-4807-8CCE-6A2025594067.jpeg  \n",
            "  inflating: /content/datasets/datasets/test/positive/353889E0-A1E8-4F9E-A0B8-F24F36BCFBFB.jpeg  \n",
            "  inflating: /content/datasets/datasets/test/positive/41591_2020_819_Fig1_HTML.webp-day10 (1).png  \n",
            "  inflating: /content/datasets/datasets/test/positive/41591_2020_819_Fig1_HTML.webp-day10(1).png  \n",
            "  inflating: /content/datasets/datasets/test/positive/41591_2020_819_Fig1_HTML.webp-day10.png  \n",
            "  inflating: /content/datasets/datasets/test/positive/41591_2020_819_Fig1_HTML.webp-day5(1).png  \n",
            "  inflating: /content/datasets/datasets/test/positive/41591_2020_819_Fig1_HTML.webp-day5.png  \n",
            "  inflating: /content/datasets/datasets/test/positive/58cb9263f16e94305c730685358e4e_jumbo.jpeg  \n",
            "  inflating: /content/datasets/datasets/test/positive/5e6dd879fde9502400e58b2f.jpeg  \n",
            "  inflating: /content/datasets/datasets/test/positive/6C94A287-C059-46A0-8600-AFB95F4727B7.jpeg  \n",
            "  inflating: /content/datasets/datasets/test/positive/6CB4EFC6-68FA-4CD5-940C-BEFA8DAFE9A7.jpeg  \n",
            "  inflating: /content/datasets/datasets/test/positive/6b44464d-73a7-4cf3-bbb6-ffe7168300e3.annot.original.jpeg  \n",
            "  inflating: /content/datasets/datasets/test/positive/7EF28E12-F628-4BEC-A8C5-E6277C2E4F60.png  \n",
            "  inflating: /content/datasets/datasets/test/positive/80446565-E090-4187-A031-9D3CEAA586C8.jpeg  \n",
            "  inflating: /content/datasets/datasets/test/positive/85E52EB3-56E9-4D67-82DA-DEA247C82886.jpeg  \n",
            "  inflating: /content/datasets/datasets/test/positive/8FDE8DBA-CFBD-4B4C-B1A4-6F36A93B7E87.jpeg  \n",
            "  inflating: /content/datasets/datasets/test/positive/93FE0BB1-022D-4F24-9727-987A07975FFB.jpeg  \n",
            "  inflating: /content/datasets/datasets/test/positive/9C34AF49-E589-44D5-92D3-168B3B04E4A6.jpeg  \n",
            "  inflating: /content/datasets/datasets/test/positive/9fdd3c3032296fd04d2cad5d9070d4_jumbo.jpeg  \n",
            "  inflating: /content/datasets/datasets/test/positive/CD50BA96-6982-4C80-AE7B-5F67ACDBFA56.jpeg  \n",
            "  inflating: /content/datasets/datasets/test/positive/D7AF463C-2369-492D-908D-BE1911CCD74C.jpeg  \n",
            "  inflating: /content/datasets/datasets/test/positive/E1724330-1866-4581-8CD8-CEC9B8AFEDDE.jpeg  \n",
            "  inflating: /content/datasets/datasets/test/positive/E63574A7-4188-4C8D-8D17-9D67A18A1AFA.jpeg  \n",
            "  inflating: /content/datasets/datasets/test/positive/FE9F9A5D-2830-46F9-851B-1FF4534959BE(1).jpeg  \n",
            "  inflating: /content/datasets/datasets/test/positive/FE9F9A5D-2830-46F9-851B-1FF4534959BE.jpeg  \n",
            "  inflating: /content/datasets/datasets/test/positive/all14238-fig-0002-m-f.jpg  \n",
            "  inflating: /content/datasets/datasets/test/positive/auntminnie-a-2020_01_28_23_51_6665_2020_01_28_Vietnam_coronavirus.jpeg  \n",
            "  inflating: /content/datasets/datasets/test/positive/auntminnie-b-2020_01_28_23_51_6665_2020_01_28_Vietnam_coronavirus.jpeg  \n",
            "  inflating: /content/datasets/datasets/test/positive/auntminnie-c-2020_01_28_23_51_6665_2020_01_28_Vietnam_coronavirus.jpeg  \n",
            "  inflating: /content/datasets/datasets/test/positive/auntminnie-d-2020_01_28_23_51_6665_2020_01_28_Vietnam_coronavirus.jpeg  \n",
            "  inflating: /content/datasets/datasets/test/positive/ciaa199.pdf-001-a (1).png  \n",
            "  inflating: /content/datasets/datasets/test/positive/ciaa199.pdf-001-a(1).png  \n",
            "  inflating: /content/datasets/datasets/test/positive/ciaa199.pdf-001-a.png  \n",
            "  inflating: /content/datasets/datasets/test/positive/ciaa199.pdf-001-b (1).png  \n",
            "  inflating: /content/datasets/datasets/test/positive/ciaa199.pdf-001-b(1).png  \n",
            "  inflating: /content/datasets/datasets/test/positive/ciaa199.pdf-001-b.png  \n",
            "  inflating: /content/datasets/datasets/test/positive/ciaa199.pdf-001-c (1).png  \n",
            "  inflating: /content/datasets/datasets/test/positive/ciaa199.pdf-001-c(1).png  \n",
            "  inflating: /content/datasets/datasets/test/positive/ciaa199.pdf-001-c.png  \n",
            "  inflating: /content/datasets/datasets/test/positive/covid-19-pneumonia-14-PA.png  \n",
            "  inflating: /content/datasets/datasets/test/positive/covid-19-pneumonia-15-PA.jpg  \n",
            "  inflating: /content/datasets/datasets/test/positive/covid-19-pneumonia-19.jpg  \n",
            "  inflating: /content/datasets/datasets/test/positive/covid-19-pneumonia-24-day6.jpg  \n",
            "  inflating: /content/datasets/datasets/test/positive/covid-19-pneumonia-evolution-over-a-week-1-day0-PA.jpg  \n",
            "  inflating: /content/datasets/datasets/test/positive/covid-19-pneumonia-evolution-over-a-week-1-day3.jpg  \n",
            "  inflating: /content/datasets/datasets/test/positive/covid-19-pneumonia-evolution-over-a-week-1-day4.jpg  \n",
            "  inflating: /content/datasets/datasets/test/positive/covid-19-pneumonia-rapidly-progressive-3-days.jpg  \n",
            "  inflating: /content/datasets/datasets/test/positive/covid-19-rapidly-progressive-acute-respiratory-distress-syndrome-ards-day-2.jpg  \n",
            "  inflating: /content/datasets/datasets/test/positive/figure1-5e71be566aa8714a04de3386-98-left.jpeg  \n",
            "  inflating: /content/datasets/datasets/test/positive/figure1-5e73d7ae897e27ff066a30cb-98.jpeg  \n",
            "  inflating: /content/datasets/datasets/test/positive/figure1-5e75d0940b71e1b702629659-98-right.jpeg  \n",
            "  inflating: /content/datasets/datasets/test/positive/gr1_lrg-a(1).jpg  \n",
            "  inflating: /content/datasets/datasets/test/positive/gr1_lrg-a.jpg  \n",
            "  inflating: /content/datasets/datasets/test/positive/gr1_lrg-b(1).jpg  \n",
            "  inflating: /content/datasets/datasets/test/positive/gr1_lrg-b.jpg  \n",
            "  inflating: /content/datasets/datasets/test/positive/jkms-35-e79-g001-l-a.jpg  \n",
            "  inflating: /content/datasets/datasets/test/positive/kjr-21-e24-g001-l-a(1).jpg  \n",
            "  inflating: /content/datasets/datasets/test/positive/kjr-21-e24-g001-l-a.jpg  \n",
            "  inflating: /content/datasets/datasets/test/positive/kjr-21-e24-g002-l-a(1).jpg  \n",
            "  inflating: /content/datasets/datasets/test/positive/kjr-21-e24-g002-l-a.jpg  \n",
            "  inflating: /content/datasets/datasets/test/positive/kjr-21-e24-g003-l-a (1).jpg  \n",
            "  inflating: /content/datasets/datasets/test/positive/kjr-21-e24-g003-l-a(1).jpg  \n",
            "  inflating: /content/datasets/datasets/test/positive/kjr-21-e24-g003-l-a.jpg  \n",
            "  inflating: /content/datasets/datasets/test/positive/kjr-21-e25-g001-l-a (1).jpg  \n",
            "  inflating: /content/datasets/datasets/test/positive/kjr-21-e25-g001-l-a(1).jpg  \n",
            "  inflating: /content/datasets/datasets/test/positive/kjr-21-e25-g001-l-a.jpg  \n",
            "  inflating: /content/datasets/datasets/test/positive/lancet-case2a.jpg  \n",
            "  inflating: /content/datasets/datasets/test/positive/lancet-case2b.jpg  \n",
            "  inflating: /content/datasets/datasets/test/positive/nCoV-radiol.2020200269.fig1-day7.jpeg  \n",
            "  inflating: /content/datasets/datasets/test/positive/nejmc2001573_f1a.jpeg  \n",
            "  inflating: /content/datasets/datasets/test/positive/nejmc2001573_f1b.jpeg  \n",
            "  inflating: /content/datasets/datasets/test/positive/nejmoa2001191_f1-PA.jpeg  \n",
            "  inflating: /content/datasets/datasets/test/positive/nejmoa2001191_f3-PA.jpeg  \n",
            "  inflating: /content/datasets/datasets/test/positive/nejmoa2001191_f4.jpeg  \n",
            "  inflating: /content/datasets/datasets/test/positive/nejmoa2001191_f5-PA.jpeg  \n",
            "  inflating: /content/datasets/datasets/test/positive/person1102_bacteria_3043.jpeg  \n",
            "  inflating: /content/datasets/datasets/test/positive/person1290_virus_2215.jpeg  \n",
            "  inflating: /content/datasets/datasets/test/positive/person1558_bacteria_4066.jpeg  \n",
            "  inflating: /content/datasets/datasets/test/positive/person1599_virus_2776.jpeg  \n",
            "  inflating: /content/datasets/datasets/test/positive/person1830_bacteria_4693.jpeg  \n",
            "  inflating: /content/datasets/datasets/test/positive/person1935_bacteria_4849.jpeg  \n",
            "  inflating: /content/datasets/datasets/test/positive/person259_bacteria_1220.jpeg  \n",
            "  inflating: /content/datasets/datasets/test/positive/person339_bacteria_1574.jpeg  \n",
            "  inflating: /content/datasets/datasets/test/positive/person378_virus_761.jpeg  \n",
            "  inflating: /content/datasets/datasets/test/positive/person438_bacteria_1893.jpeg  \n",
            "  inflating: /content/datasets/datasets/test/positive/person525_bacteria_2216.jpeg  \n",
            "  inflating: /content/datasets/datasets/test/positive/person612_bacteria_2478.jpeg  \n",
            "  inflating: /content/datasets/datasets/test/positive/person651_bacteria_2543.jpeg  \n",
            "  inflating: /content/datasets/datasets/test/positive/person925_virus_1582.jpeg  \n",
            "  inflating: /content/datasets/datasets/test/positive/person934_virus_1595.jpeg  \n",
            "  inflating: /content/datasets/datasets/test/positive/person939_bacteria_2864.jpeg  \n",
            "  inflating: /content/datasets/datasets/test/positive/person989_virus_1667.jpeg  \n",
            "  inflating: /content/datasets/datasets/test/positive/radiol.2020200490.fig3.jpeg  \n",
            "  inflating: /content/datasets/datasets/test/positive/radiopedia-covid-19-pneumonia-2.jpg  \n",
            "  inflating: /content/datasets/datasets/test/positive/ryct.2020200028.fig1a.jpeg  \n",
            "  inflating: /content/datasets/datasets/test/positive/ryct.2020200034.fig2.jpeg  \n",
            "  inflating: /content/datasets/datasets/test/positive/ryct.2020200034.fig5-day0.jpeg  \n",
            "  inflating: /content/datasets/datasets/test/positive/ryct.2020200034.fig5-day4.jpeg  \n",
            "  inflating: /content/datasets/datasets/test/positive/ryct.2020200034.fig5-day7.jpeg  \n",
            "  inflating: /content/datasets/datasets/train/negative/00001280_004.png  \n",
            "  inflating: /content/datasets/datasets/train/negative/00001281_000.png  \n",
            "  inflating: /content/datasets/datasets/train/negative/00001299_000.png  \n",
            "  inflating: /content/datasets/datasets/train/negative/00001300_000.png  \n",
            "  inflating: /content/datasets/datasets/train/negative/00001303_001.png  \n",
            "  inflating: /content/datasets/datasets/train/negative/00001304_001.png  \n",
            "  inflating: /content/datasets/datasets/train/negative/00001305_001.png  \n",
            "  inflating: /content/datasets/datasets/train/negative/00001308_002.png  \n",
            "  inflating: /content/datasets/datasets/train/negative/00001315_006.png  \n",
            "  inflating: /content/datasets/datasets/train/negative/00001323_001.png  \n",
            "  inflating: /content/datasets/datasets/train/negative/00001323_002.png  \n",
            "  inflating: /content/datasets/datasets/train/negative/00001326_002.png  \n",
            "  inflating: /content/datasets/datasets/train/negative/00001362_001.png  \n",
            "  inflating: /content/datasets/datasets/train/negative/00001362_004.png  \n",
            "  inflating: /content/datasets/datasets/train/negative/00001362_008.png  \n",
            "  inflating: /content/datasets/datasets/train/negative/00001362_014.png  \n",
            "  inflating: /content/datasets/datasets/train/negative/00001362_017.png  \n",
            "  inflating: /content/datasets/datasets/train/negative/00001371_001.png  \n",
            "  inflating: /content/datasets/datasets/train/negative/00001371_002.png  \n",
            "  inflating: /content/datasets/datasets/train/negative/00001371_003.png  \n",
            "  inflating: /content/datasets/datasets/train/negative/00001385_000.png  \n",
            "  inflating: /content/datasets/datasets/train/negative/00001385_003.png  \n",
            "  inflating: /content/datasets/datasets/train/negative/00001389_001.png  \n",
            "  inflating: /content/datasets/datasets/train/negative/00001389_002.png  \n",
            "  inflating: /content/datasets/datasets/train/negative/00001389_003.png  \n",
            "  inflating: /content/datasets/datasets/train/negative/00001395_009.png  \n",
            "  inflating: /content/datasets/datasets/train/negative/00001401_001.png  \n",
            "  inflating: /content/datasets/datasets/train/negative/00001403_002.png  \n",
            "  inflating: /content/datasets/datasets/train/negative/00001426_000.png  \n",
            "  inflating: /content/datasets/datasets/train/negative/00001433_002.png  \n",
            "  inflating: /content/datasets/datasets/train/negative/00001445_000.png  \n",
            "  inflating: /content/datasets/datasets/train/negative/00001452_002.png  \n",
            "  inflating: /content/datasets/datasets/train/negative/00001460_004.png  \n",
            "  inflating: /content/datasets/datasets/train/negative/00001464_000.png  \n",
            "  inflating: /content/datasets/datasets/train/negative/00001470_003.png  \n",
            "  inflating: /content/datasets/datasets/train/negative/00001471_001.png  \n",
            "  inflating: /content/datasets/datasets/train/negative/00001483_017.png  \n",
            "  inflating: /content/datasets/datasets/train/negative/00001483_021.png  \n",
            "  inflating: /content/datasets/datasets/train/negative/00001489_000.png  \n",
            "  inflating: /content/datasets/datasets/train/negative/00001497_000.png  \n",
            "  inflating: /content/datasets/datasets/train/negative/00001504_000.png  \n",
            "  inflating: /content/datasets/datasets/train/negative/00001504_001.png  \n",
            "  inflating: /content/datasets/datasets/train/negative/00001504_002.png  \n",
            "  inflating: /content/datasets/datasets/train/negative/00001507_002.png  \n",
            "  inflating: /content/datasets/datasets/train/negative/00001516_000.png  \n",
            "  inflating: /content/datasets/datasets/train/negative/00001526_000.png  \n",
            "  inflating: /content/datasets/datasets/train/negative/00001526_002.png  \n",
            "  inflating: /content/datasets/datasets/train/negative/00001543_000.png  \n",
            "  inflating: /content/datasets/datasets/train/negative/00001543_001.png  \n",
            "  inflating: /content/datasets/datasets/train/negative/00001543_002.png  \n",
            "  inflating: /content/datasets/datasets/train/negative/00001543_003.png  \n",
            "  inflating: /content/datasets/datasets/train/negative/00001543_004.png  \n",
            "  inflating: /content/datasets/datasets/train/negative/00001543_005.png  \n",
            "  inflating: /content/datasets/datasets/train/negative/00001543_006.png  \n",
            "  inflating: /content/datasets/datasets/train/negative/00001543_007.png  \n",
            "  inflating: /content/datasets/datasets/train/negative/00001568_000.png  \n",
            "  inflating: /content/datasets/datasets/train/negative/00001568_001.png  \n",
            "  inflating: /content/datasets/datasets/train/negative/00001568_003.png  \n",
            "  inflating: /content/datasets/datasets/train/negative/00001568_004.png  \n",
            "  inflating: /content/datasets/datasets/train/negative/00001569_003.png  \n",
            "  inflating: /content/datasets/datasets/train/negative/00001573_000.png  \n",
            "  inflating: /content/datasets/datasets/train/negative/00001576_001.png  \n",
            "  inflating: /content/datasets/datasets/train/negative/00001591_000.png  \n",
            "  inflating: /content/datasets/datasets/train/negative/00001595_002.png  \n",
            "  inflating: /content/datasets/datasets/train/negative/00001613_000.png  \n",
            "  inflating: /content/datasets/datasets/train/negative/00001613_003.png  \n",
            "  inflating: /content/datasets/datasets/train/negative/00001613_004.png  \n",
            "  inflating: /content/datasets/datasets/train/negative/00001616_008.png  \n",
            "  inflating: /content/datasets/datasets/train/negative/00001616_009.png  \n",
            "  inflating: /content/datasets/datasets/train/negative/00001616_011.png  \n",
            "  inflating: /content/datasets/datasets/train/negative/00001620_003.png  \n",
            "  inflating: /content/datasets/datasets/train/negative/00001620_005.png  \n",
            "  inflating: /content/datasets/datasets/train/negative/00001629_001.png  \n",
            "  inflating: /content/datasets/datasets/train/negative/00001629_002.png  \n",
            "  inflating: /content/datasets/datasets/train/negative/00001634_008.png  \n",
            "  inflating: /content/datasets/datasets/train/negative/00001638_000.png  \n",
            "  inflating: /content/datasets/datasets/train/negative/00001650_000.png  \n",
            "  inflating: /content/datasets/datasets/train/negative/00001666_001.png  \n",
            "  inflating: /content/datasets/datasets/train/negative/00001680_000.png  \n",
            "  inflating: /content/datasets/datasets/train/negative/00001682_001.png  \n",
            "  inflating: /content/datasets/datasets/train/negative/00001684_000.png  \n",
            "  inflating: /content/datasets/datasets/train/negative/00001684_003.png  \n",
            "  inflating: /content/datasets/datasets/train/negative/00001684_005.png  \n",
            "  inflating: /content/datasets/datasets/train/negative/00001684_006.png  \n",
            "  inflating: /content/datasets/datasets/train/negative/00001684_008.png  \n",
            "  inflating: /content/datasets/datasets/train/negative/00001684_010.png  \n",
            "  inflating: /content/datasets/datasets/train/negative/00001684_011.png  \n",
            "  inflating: /content/datasets/datasets/train/negative/00001684_012.png  \n",
            "  inflating: /content/datasets/datasets/train/negative/00001684_015.png  \n",
            "  inflating: /content/datasets/datasets/train/negative/00001684_021.png  \n",
            "  inflating: /content/datasets/datasets/train/negative/00001684_028.png  \n",
            "  inflating: /content/datasets/datasets/train/negative/00001689_008.png  \n",
            "  inflating: /content/datasets/datasets/train/negative/00001689_009.png  \n",
            "  inflating: /content/datasets/datasets/train/negative/00001689_011.png  \n",
            "  inflating: /content/datasets/datasets/train/negative/00001689_012.png  \n",
            "  inflating: /content/datasets/datasets/train/negative/00001697_001.png  \n",
            "  inflating: /content/datasets/datasets/train/negative/00001697_011.png  \n",
            "  inflating: /content/datasets/datasets/train/negative/00001697_014.png  \n",
            "  inflating: /content/datasets/datasets/train/negative/00001697_015.png  \n",
            "  inflating: /content/datasets/datasets/train/negative/00001699_000.png  \n",
            "  inflating: /content/datasets/datasets/train/negative/00001699_002.png  \n",
            "  inflating: /content/datasets/datasets/train/negative/00001700_001.png  \n",
            "  inflating: /content/datasets/datasets/train/negative/00001710_000.png  \n",
            "  inflating: /content/datasets/datasets/train/negative/00001719_000.png  \n",
            "  inflating: /content/datasets/datasets/train/negative/00001720_002.png  \n",
            "  inflating: /content/datasets/datasets/train/negative/00001724_005.png  \n",
            "  inflating: /content/datasets/datasets/train/negative/00001724_006.png  \n",
            "  inflating: /content/datasets/datasets/train/negative/00001734_001.png  \n",
            "  inflating: /content/datasets/datasets/train/negative/00001739_000.png  \n",
            "  inflating: /content/datasets/datasets/train/negative/00001741_002.png  \n",
            "  inflating: /content/datasets/datasets/train/negative/00001754_000.png  \n",
            "  inflating: /content/datasets/datasets/train/negative/00001759_001.png  \n",
            "  inflating: /content/datasets/datasets/train/negative/00001763_000.png  \n",
            "  inflating: /content/datasets/datasets/train/negative/00001769_000.png  \n",
            "  inflating: /content/datasets/datasets/train/negative/00001769_002.png  \n",
            "  inflating: /content/datasets/datasets/train/negative/00001772_007.png  \n",
            "  inflating: /content/datasets/datasets/train/negative/00001801_000.png  \n",
            "  inflating: /content/datasets/datasets/train/negative/00001803_001.png  \n",
            "  inflating: /content/datasets/datasets/train/negative/00001803_002.png  \n",
            "  inflating: /content/datasets/datasets/train/negative/00001803_005.png  \n",
            "  inflating: /content/datasets/datasets/train/negative/00001803_017.png  \n",
            "  inflating: /content/datasets/datasets/train/negative/00001804_000.png  \n",
            "  inflating: /content/datasets/datasets/train/negative/00001807_000.png  \n",
            "  inflating: /content/datasets/datasets/train/negative/00001820_002.png  \n",
            "  inflating: /content/datasets/datasets/train/negative/00001820_003.png  \n",
            "  inflating: /content/datasets/datasets/train/negative/00001823_000.png  \n",
            "  inflating: /content/datasets/datasets/train/negative/00001841_000.png  \n",
            "  inflating: /content/datasets/datasets/train/negative/00001847_006.png  \n",
            "  inflating: /content/datasets/datasets/train/negative/00001854_002.png  \n",
            "  inflating: /content/datasets/datasets/train/negative/00001854_003.png  \n",
            "  inflating: /content/datasets/datasets/train/negative/00001864_003.png  \n",
            "  inflating: /content/datasets/datasets/train/negative/00001865_000.png  \n",
            "  inflating: /content/datasets/datasets/train/negative/00001880_000.png  \n",
            "  inflating: /content/datasets/datasets/train/negative/00001880_001.png  \n",
            "  inflating: /content/datasets/datasets/train/negative/00001885_000.png  \n",
            "  inflating: /content/datasets/datasets/train/negative/00001895_000.png  \n",
            "  inflating: /content/datasets/datasets/train/negative/00001921_002.png  \n",
            "  inflating: /content/datasets/datasets/train/negative/00001935_000.png  \n",
            "  inflating: /content/datasets/datasets/train/negative/00001951_000.png  \n",
            "  inflating: /content/datasets/datasets/train/negative/00001951_008.png  \n",
            "  inflating: /content/datasets/datasets/train/negative/00001951_010.png  \n",
            "  inflating: /content/datasets/datasets/train/negative/00001951_017.png  \n",
            "  inflating: /content/datasets/datasets/train/negative/00001957_002.png  \n",
            "  inflating: /content/datasets/datasets/train/negative/00001961_005.png  \n",
            "  inflating: /content/datasets/datasets/train/negative/00001968_003.png  \n",
            "  inflating: /content/datasets/datasets/train/negative/00001970_001.png  \n",
            "  inflating: /content/datasets/datasets/train/negative/00001974_001.png  \n",
            "  inflating: /content/datasets/datasets/train/negative/00001981_000.png  \n",
            "  inflating: /content/datasets/datasets/train/negative/00001986_005.png  \n",
            "  inflating: /content/datasets/datasets/train/negative/00001986_006.png  \n",
            "  inflating: /content/datasets/datasets/train/negative/00001986_007.png  \n",
            "  inflating: /content/datasets/datasets/train/negative/00001986_011.png  \n",
            "  inflating: /content/datasets/datasets/train/negative/00001992_000.png  \n",
            "  inflating: /content/datasets/datasets/train/negative/00001992_010.png  \n",
            "  inflating: /content/datasets/datasets/train/negative/00001992_015.png  \n",
            "  inflating: /content/datasets/datasets/train/negative/00001992_016.png  \n",
            "  inflating: /content/datasets/datasets/train/negative/00001993_002.png  \n",
            "  inflating: /content/datasets/datasets/train/negative/00001995_004.png  \n",
            "  inflating: /content/datasets/datasets/train/negative/00001996_010.png  \n",
            "  inflating: /content/datasets/datasets/train/negative/00002007_000.png  \n",
            "  inflating: /content/datasets/datasets/train/negative/00002013_002.png  \n",
            "  inflating: /content/datasets/datasets/train/negative/00002016_003.png  \n",
            "  inflating: /content/datasets/datasets/train/negative/00002022_000.png  \n",
            "  inflating: /content/datasets/datasets/train/negative/00002032_003.png  \n",
            "  inflating: /content/datasets/datasets/train/negative/00002032_006.png  \n",
            "  inflating: /content/datasets/datasets/train/negative/00002034_000.png  \n",
            "  inflating: /content/datasets/datasets/train/negative/00002037_001.png  \n",
            "  inflating: /content/datasets/datasets/train/negative/00002048_014.png  \n",
            "  inflating: /content/datasets/datasets/train/negative/00002053_000.png  \n",
            "  inflating: /content/datasets/datasets/train/negative/00002058_013.png  \n",
            "  inflating: /content/datasets/datasets/train/negative/00002058_014.png  \n",
            "  inflating: /content/datasets/datasets/train/negative/00002070_003.png  \n",
            "  inflating: /content/datasets/datasets/train/negative/00002071_000.png  \n",
            "  inflating: /content/datasets/datasets/train/negative/00002086_000.png  \n",
            "  inflating: /content/datasets/datasets/train/negative/00002091_000.png  \n",
            "  inflating: /content/datasets/datasets/train/negative/00002094_002.png  \n",
            "  inflating: /content/datasets/datasets/train/negative/00002102_000.png  \n",
            "  inflating: /content/datasets/datasets/train/negative/00002104_006.png  \n",
            "  inflating: /content/datasets/datasets/train/negative/00002117_005.png  \n",
            "  inflating: /content/datasets/datasets/train/negative/00002117_011.png  \n",
            "  inflating: /content/datasets/datasets/train/negative/00002120_007.png  \n",
            "  inflating: /content/datasets/datasets/train/negative/00002154_000.png  \n",
            "  inflating: /content/datasets/datasets/train/negative/00002184_002.png  \n",
            "  inflating: /content/datasets/datasets/train/negative/00002194_002.png  \n",
            "  inflating: /content/datasets/datasets/train/negative/00002194_003.png  \n",
            "  inflating: /content/datasets/datasets/train/negative/00002195_002.png  \n",
            "  inflating: /content/datasets/datasets/train/negative/00002215_002.png  \n",
            "  inflating: /content/datasets/datasets/train/negative/00002218_003.png  \n",
            "  inflating: /content/datasets/datasets/train/negative/00002219_008.png  \n",
            "  inflating: /content/datasets/datasets/train/negative/00002229_003.png  \n",
            "  inflating: /content/datasets/datasets/train/negative/00002229_004.png  \n",
            "  inflating: /content/datasets/datasets/train/negative/00002233_000.png  \n",
            "  inflating: /content/datasets/datasets/train/negative/00002237_000.png  \n",
            "  inflating: /content/datasets/datasets/train/negative/00002239_004.png  \n",
            "  inflating: /content/datasets/datasets/train/negative/00002250_002.png  \n",
            "  inflating: /content/datasets/datasets/train/negative/00002262_006.png  \n",
            "  inflating: /content/datasets/datasets/train/negative/00002262_007.png  \n",
            "  inflating: /content/datasets/datasets/train/negative/00002262_010.png  \n",
            "  inflating: /content/datasets/datasets/train/negative/00002288_010.png  \n",
            "  inflating: /content/datasets/datasets/train/negative/00002301_000.png  \n",
            "  inflating: /content/datasets/datasets/train/negative/00002311_002.png  \n",
            "  inflating: /content/datasets/datasets/train/negative/00002339_011.png  \n",
            "  inflating: /content/datasets/datasets/train/negative/00002339_012.png  \n",
            "  inflating: /content/datasets/datasets/train/negative/00002344_002.png  \n",
            "  inflating: /content/datasets/datasets/train/negative/00002344_007.png  \n",
            "  inflating: /content/datasets/datasets/train/negative/00002344_008.png  \n",
            "  inflating: /content/datasets/datasets/train/negative/00002356_005.png  \n",
            "  inflating: /content/datasets/datasets/train/negative/00002366_001.png  \n",
            "  inflating: /content/datasets/datasets/train/negative/00002371_010.png  \n",
            "  inflating: /content/datasets/datasets/train/negative/00002371_012.png  \n",
            "  inflating: /content/datasets/datasets/train/negative/00002376_001.png  \n",
            "  inflating: /content/datasets/datasets/train/negative/00002380_002.png  \n",
            "  inflating: /content/datasets/datasets/train/negative/00002381_004.png  \n",
            "  inflating: /content/datasets/datasets/train/negative/00002381_005.png  \n",
            "  inflating: /content/datasets/datasets/train/negative/00002429_000.png  \n",
            "  inflating: /content/datasets/datasets/train/negative/00002442_001.png  \n",
            "  inflating: /content/datasets/datasets/train/negative/00002451_005.png  \n",
            "  inflating: /content/datasets/datasets/train/negative/00002452_000.png  \n",
            "  inflating: /content/datasets/datasets/train/negative/00002457_003.png  \n",
            "  inflating: /content/datasets/datasets/train/negative/00002457_011.png  \n",
            "  inflating: /content/datasets/datasets/train/negative/00002457_013.png  \n",
            "  inflating: /content/datasets/datasets/train/negative/00002464_001.png  \n",
            "  inflating: /content/datasets/datasets/train/negative/00002474_006.png  \n",
            "  inflating: /content/datasets/datasets/train/negative/00002482_001.png  \n",
            "  inflating: /content/datasets/datasets/train/negative/00002491_012.png  \n",
            "  inflating: /content/datasets/datasets/train/negative/00002497_000.png  \n",
            "  inflating: /content/datasets/datasets/train/negative/00002505_002.png  \n",
            "  inflating: /content/datasets/datasets/train/negative/00002540_001.png  \n",
            "  inflating: /content/datasets/datasets/train/negative/00002545_001.png  \n",
            "  inflating: /content/datasets/datasets/train/negative/00002549_003.png  \n",
            "  inflating: /content/datasets/datasets/train/negative/00002549_005.png  \n",
            "  inflating: /content/datasets/datasets/train/negative/00002550_000.png  \n",
            "  inflating: /content/datasets/datasets/train/negative/00002555_000.png  \n",
            "  inflating: /content/datasets/datasets/train/negative/00002556_000.png  \n",
            "  inflating: /content/datasets/datasets/train/negative/00002572_000.png  \n",
            "  inflating: /content/datasets/datasets/train/negative/00002572_003.png  \n",
            "  inflating: /content/datasets/datasets/train/negative/00002572_004.png  \n",
            "  inflating: /content/datasets/datasets/train/negative/00002572_005.png  \n",
            "  inflating: /content/datasets/datasets/train/negative/00002576_008.png  \n",
            "  inflating: /content/datasets/datasets/train/negative/00002577_000.png  \n",
            "  inflating: /content/datasets/datasets/train/negative/00002582_001.png  \n",
            "  inflating: /content/datasets/datasets/train/negative/00002582_005.png  \n",
            "  inflating: /content/datasets/datasets/train/negative/00002582_006.png  \n",
            "  inflating: /content/datasets/datasets/train/negative/00002582_008.png  \n",
            "  inflating: /content/datasets/datasets/train/negative/00002594_000.png  \n",
            "  inflating: /content/datasets/datasets/train/negative/00002594_007.png  \n",
            "  inflating: /content/datasets/datasets/train/negative/00002633_005.png  \n",
            "  inflating: /content/datasets/datasets/train/negative/00002633_011.png  \n",
            "  inflating: /content/datasets/datasets/train/negative/00002633_021.png  \n",
            "  inflating: /content/datasets/datasets/train/negative/00002633_030.png  \n",
            "  inflating: /content/datasets/datasets/train/negative/00002644_000.png  \n",
            "  inflating: /content/datasets/datasets/train/negative/00002645_002.png  \n",
            "  inflating: /content/datasets/datasets/train/negative/00002649_008.png  \n",
            "  inflating: /content/datasets/datasets/train/negative/00002658_001.png  \n",
            "  inflating: /content/datasets/datasets/train/negative/00002658_002.png  \n",
            "  inflating: /content/datasets/datasets/train/negative/00002659_001.png  \n",
            "  inflating: /content/datasets/datasets/train/negative/00002670_000.png  \n",
            "  inflating: /content/datasets/datasets/train/negative/00002673_002.png  \n",
            "  inflating: /content/datasets/datasets/train/negative/00002673_004.png  \n",
            "  inflating: /content/datasets/datasets/train/negative/00002673_010.png  \n",
            "  inflating: /content/datasets/datasets/train/negative/00002673_019.png  \n",
            "  inflating: /content/datasets/datasets/train/negative/00002678_004.png  \n",
            "  inflating: /content/datasets/datasets/train/negative/00002678_005.png  \n",
            "  inflating: /content/datasets/datasets/train/negative/00002678_006.png  \n",
            "  inflating: /content/datasets/datasets/train/negative/00002679_000.png  \n",
            "  inflating: /content/datasets/datasets/train/negative/00002720_024.png  \n",
            "  inflating: /content/datasets/datasets/train/negative/00002726_001.png  \n",
            "  inflating: /content/datasets/datasets/train/negative/00002728_003.png  \n",
            "  inflating: /content/datasets/datasets/train/negative/00002735_001.png  \n",
            "  inflating: /content/datasets/datasets/train/negative/00002735_002.png  \n",
            "  inflating: /content/datasets/datasets/train/negative/00002754_000.png  \n",
            "  inflating: /content/datasets/datasets/train/negative/00002790_003.png  \n",
            "  inflating: /content/datasets/datasets/train/negative/00002806_003.png  \n",
            "  inflating: /content/datasets/datasets/train/negative/00002811_000.png  \n",
            "  inflating: /content/datasets/datasets/train/negative/00002812_000.png  \n",
            "  inflating: /content/datasets/datasets/train/negative/00002812_001.png  \n",
            "  inflating: /content/datasets/datasets/train/negative/00002817_010.png  \n",
            "  inflating: /content/datasets/datasets/train/negative/00002819_000.png  \n",
            "  inflating: /content/datasets/datasets/train/negative/00002827_001.png  \n",
            "  inflating: /content/datasets/datasets/train/negative/00002830_000.png  \n",
            "  inflating: /content/datasets/datasets/train/negative/00002843_019.png  \n",
            "  inflating: /content/datasets/datasets/train/negative/00002846_011.png  \n",
            "  inflating: /content/datasets/datasets/train/negative/00002852_000.png  \n",
            "  inflating: /content/datasets/datasets/train/negative/00002860_002.png  \n",
            "  inflating: /content/datasets/datasets/train/negative/00002860_021.png  \n",
            "  inflating: /content/datasets/datasets/train/negative/00002860_024.png  \n",
            "  inflating: /content/datasets/datasets/train/negative/00002863_003.png  \n",
            "  inflating: /content/datasets/datasets/train/negative/00002904_000.png  \n",
            "  inflating: /content/datasets/datasets/train/negative/00002915_002.png  \n",
            "  inflating: /content/datasets/datasets/train/negative/00002921_000.png  \n",
            "  inflating: /content/datasets/datasets/train/negative/00002922_000.png  \n",
            "  inflating: /content/datasets/datasets/train/negative/00002933_000.png  \n",
            "  inflating: /content/datasets/datasets/train/negative/00002933_001.png  \n",
            "  inflating: /content/datasets/datasets/train/negative/00002939_002.png  \n",
            "  inflating: /content/datasets/datasets/train/negative/00002946_000.png  \n",
            "  inflating: /content/datasets/datasets/train/negative/00002949_000.png  \n",
            "  inflating: /content/datasets/datasets/train/negative/00002954_007.png  \n",
            "  inflating: /content/datasets/datasets/train/negative/00002981_006.png  \n",
            "  inflating: /content/datasets/datasets/train/negative/00002993_001.png  \n",
            "  inflating: /content/datasets/datasets/train/negative/00003002_014.png  \n",
            "  inflating: /content/datasets/datasets/train/negative/00003005_002.png  \n",
            "  inflating: /content/datasets/datasets/train/negative/00003005_012.png  \n",
            "  inflating: /content/datasets/datasets/train/negative/00003005_013.png  \n",
            "  inflating: /content/datasets/datasets/train/negative/00003005_019.png  \n",
            "  inflating: /content/datasets/datasets/train/negative/00003005_022.png  \n",
            "  inflating: /content/datasets/datasets/train/negative/00003006_001.png  \n",
            "  inflating: /content/datasets/datasets/train/negative/00003024_001.png  \n",
            "  inflating: /content/datasets/datasets/train/negative/00003040_000.png  \n",
            "  inflating: /content/datasets/datasets/train/negative/00003043_000.png  \n",
            "  inflating: /content/datasets/datasets/train/negative/00003053_001.png  \n",
            "  inflating: /content/datasets/datasets/train/negative/00003080_000.png  \n",
            "  inflating: /content/datasets/datasets/train/negative/00003097_003.png  \n",
            "  inflating: /content/datasets/datasets/train/negative/00003098_001.png  \n",
            "  inflating: /content/datasets/datasets/train/negative/00003098_010.png  \n",
            "  inflating: /content/datasets/datasets/train/negative/00003098_014.png  \n",
            "  inflating: /content/datasets/datasets/train/negative/00003120_000.png  \n",
            "  inflating: /content/datasets/datasets/train/negative/00003126_019.png  \n",
            "  inflating: /content/datasets/datasets/train/negative/00003126_021.png  \n",
            "  inflating: /content/datasets/datasets/train/negative/00003129_008.png  \n",
            "  inflating: /content/datasets/datasets/train/negative/00003130_004.png  \n",
            "  inflating: /content/datasets/datasets/train/negative/00003137_001.png  \n",
            "  inflating: /content/datasets/datasets/train/negative/00003140_001.png  \n",
            "  inflating: /content/datasets/datasets/train/negative/00003140_003.png  \n",
            "  inflating: /content/datasets/datasets/train/negative/00003140_004.png  \n",
            "  inflating: /content/datasets/datasets/train/negative/00003140_005.png  \n",
            "  inflating: /content/datasets/datasets/train/negative/00003140_006.png  \n",
            "  inflating: /content/datasets/datasets/train/negative/00003140_007.png  \n",
            "  inflating: /content/datasets/datasets/train/negative/00003140_008.png  \n",
            "  inflating: /content/datasets/datasets/train/negative/00003140_010.png  \n",
            "  inflating: /content/datasets/datasets/train/negative/00003140_014.png  \n",
            "  inflating: /content/datasets/datasets/train/negative/00003140_015.png  \n",
            "  inflating: /content/datasets/datasets/train/negative/00003140_016.png  \n",
            "  inflating: /content/datasets/datasets/train/negative/00003140_017.png  \n",
            "  inflating: /content/datasets/datasets/train/negative/00003150_000.png  \n",
            "  inflating: /content/datasets/datasets/train/negative/00003158_001.png  \n",
            "  inflating: /content/datasets/datasets/train/negative/00003158_002.png  \n",
            "  inflating: /content/datasets/datasets/train/negative/00003161_003.png  \n",
            "  inflating: /content/datasets/datasets/train/negative/00003176_001.png  \n",
            "  inflating: /content/datasets/datasets/train/negative/00003176_002.png  \n",
            "  inflating: /content/datasets/datasets/train/negative/00003178_000.png  \n",
            "  inflating: /content/datasets/datasets/train/negative/00003190_013.png  \n",
            "  inflating: /content/datasets/datasets/train/negative/00003190_014.png  \n",
            "  inflating: /content/datasets/datasets/train/negative/00003190_015.png  \n",
            "  inflating: /content/datasets/datasets/train/negative/00003198_005.png  \n",
            "  inflating: /content/datasets/datasets/train/negative/00003209_001.png  \n",
            "  inflating: /content/datasets/datasets/train/negative/00003211_004.png  \n",
            "  inflating: /content/datasets/datasets/train/negative/00003226_004.png  \n",
            "  inflating: /content/datasets/datasets/train/negative/00003230_006.png  \n",
            "  inflating: /content/datasets/datasets/train/negative/00003248_001.png  \n",
            "  inflating: /content/datasets/datasets/train/negative/00003248_003.png  \n",
            "  inflating: /content/datasets/datasets/train/negative/00003249_002.png  \n",
            "  inflating: /content/datasets/datasets/train/negative/00003259_000.png  \n",
            "  inflating: /content/datasets/datasets/train/negative/00003259_001.png  \n",
            "  inflating: /content/datasets/datasets/train/negative/00003263_001.png  \n",
            "  inflating: /content/datasets/datasets/train/negative/00003264_000.png  \n",
            "  inflating: /content/datasets/datasets/train/negative/00003264_004.png  \n",
            "  inflating: /content/datasets/datasets/train/negative/00003275_005.png  \n",
            "  inflating: /content/datasets/datasets/train/negative/00003276_000.png  \n",
            "  inflating: /content/datasets/datasets/train/negative/00003291_001.png  \n",
            "  inflating: /content/datasets/datasets/train/negative/00003292_002.png  \n",
            "  inflating: /content/datasets/datasets/train/negative/00003310_000.png  \n",
            "  inflating: /content/datasets/datasets/train/negative/00003324_000.png  \n",
            "  inflating: /content/datasets/datasets/train/negative/00003324_001.png  \n",
            "  inflating: /content/datasets/datasets/train/negative/00003330_003.png  \n",
            "  inflating: /content/datasets/datasets/train/negative/00003330_005.png  \n",
            "  inflating: /content/datasets/datasets/train/negative/00003331_000.png  \n",
            "  inflating: /content/datasets/datasets/train/negative/00003353_003.png  \n",
            "  inflating: /content/datasets/datasets/train/negative/00003353_004.png  \n",
            "  inflating: /content/datasets/datasets/train/negative/00003353_005.png  \n",
            "  inflating: /content/datasets/datasets/train/negative/00003353_006.png  \n",
            "  inflating: /content/datasets/datasets/train/negative/00003354_002.png  \n",
            "  inflating: /content/datasets/datasets/train/negative/00003356_000.png  \n",
            "  inflating: /content/datasets/datasets/train/negative/00003361_004.png  \n",
            "  inflating: /content/datasets/datasets/train/negative/00003361_008.png  \n",
            "  inflating: /content/datasets/datasets/train/negative/00003361_012.png  \n",
            "  inflating: /content/datasets/datasets/train/negative/00003363_001.png  \n",
            "  inflating: /content/datasets/datasets/train/negative/00003363_002.png  \n",
            "  inflating: /content/datasets/datasets/train/negative/00003366_002.png  \n",
            "  inflating: /content/datasets/datasets/train/negative/00003367_003.png  \n",
            "  inflating: /content/datasets/datasets/train/negative/00003369_013.png  \n",
            "  inflating: /content/datasets/datasets/train/negative/00003370_001.png  \n",
            "  inflating: /content/datasets/datasets/train/negative/00003382_009.png  \n",
            "  inflating: /content/datasets/datasets/train/negative/00003384_000.png  \n",
            "  inflating: /content/datasets/datasets/train/negative/00003392_004.png  \n",
            "  inflating: /content/datasets/datasets/train/negative/00003392_007.png  \n",
            "  inflating: /content/datasets/datasets/train/negative/00003392_018.png  \n",
            "  inflating: /content/datasets/datasets/train/negative/00003392_019.png  \n",
            "  inflating: /content/datasets/datasets/train/negative/00003392_021.png  \n",
            "  inflating: /content/datasets/datasets/train/negative/00003392_031.png  \n",
            "  inflating: /content/datasets/datasets/train/negative/00003393_030.png  \n",
            "  inflating: /content/datasets/datasets/train/negative/00003395_003.png  \n",
            "  inflating: /content/datasets/datasets/train/negative/00003407_005.png  \n",
            "  inflating: /content/datasets/datasets/train/negative/00003412_000.png  \n",
            "  inflating: /content/datasets/datasets/train/negative/00003415_000.png  \n",
            "  inflating: /content/datasets/datasets/train/negative/00003417_000.png  \n",
            "  inflating: /content/datasets/datasets/train/negative/00003418_000.png  \n",
            "  inflating: /content/datasets/datasets/train/negative/00003421_004.png  \n",
            "  inflating: /content/datasets/datasets/train/negative/00003426_008.png  \n",
            "  inflating: /content/datasets/datasets/train/negative/00003426_014.png  \n",
            "  inflating: /content/datasets/datasets/train/negative/00003426_015.png  \n",
            "  inflating: /content/datasets/datasets/train/negative/00003426_016.png  \n",
            "  inflating: /content/datasets/datasets/train/negative/00003426_018.png  \n",
            "  inflating: /content/datasets/datasets/train/negative/00003428_002.png  \n",
            "  inflating: /content/datasets/datasets/train/negative/00003437_000.png  \n",
            "  inflating: /content/datasets/datasets/train/negative/00003438_000.png  \n",
            "  inflating: /content/datasets/datasets/train/negative/00003441_000.png  \n",
            "  inflating: /content/datasets/datasets/train/negative/00003442_000.png  \n",
            "  inflating: /content/datasets/datasets/train/negative/00003447_001.png  \n",
            "  inflating: /content/datasets/datasets/train/negative/00003448_000.png  \n",
            "  inflating: /content/datasets/datasets/train/negative/00003453_000.png  \n",
            "  inflating: /content/datasets/datasets/train/negative/00003459_015.png  \n",
            "  inflating: /content/datasets/datasets/train/negative/00003461_000.png  \n",
            "  inflating: /content/datasets/datasets/train/negative/00003463_001.png  \n",
            "  inflating: /content/datasets/datasets/train/negative/00003468_006.png  \n",
            "  inflating: /content/datasets/datasets/train/negative/00003478_000.png  \n",
            "  inflating: /content/datasets/datasets/train/negative/00003478_002.png  \n",
            "  inflating: /content/datasets/datasets/train/negative/00003478_003.png  \n",
            "  inflating: /content/datasets/datasets/train/negative/00003478_004.png  \n",
            "  inflating: /content/datasets/datasets/train/negative/00003478_005.png  \n",
            "  inflating: /content/datasets/datasets/train/negative/00003490_008.png  \n",
            "  inflating: /content/datasets/datasets/train/negative/00003490_010.png  \n",
            "  inflating: /content/datasets/datasets/train/negative/00003490_011.png  \n",
            "  inflating: /content/datasets/datasets/train/negative/00003490_012.png  \n",
            "  inflating: /content/datasets/datasets/train/negative/00003490_013.png  \n",
            "  inflating: /content/datasets/datasets/train/negative/00003497_000.png  \n",
            "  inflating: /content/datasets/datasets/train/negative/00003497_001.png  \n",
            "  inflating: /content/datasets/datasets/train/negative/00003507_000.png  \n",
            "  inflating: /content/datasets/datasets/train/negative/00003510_003.png  \n",
            "  inflating: /content/datasets/datasets/train/negative/00003510_007.png  \n",
            "  inflating: /content/datasets/datasets/train/negative/00003510_015.png  \n",
            "  inflating: /content/datasets/datasets/train/negative/00003517_000.png  \n",
            "  inflating: /content/datasets/datasets/train/negative/00003518_000.png  \n",
            "  inflating: /content/datasets/datasets/train/negative/00003535_019.png  \n",
            "  inflating: /content/datasets/datasets/train/negative/00003535_020.png  \n",
            "  inflating: /content/datasets/datasets/train/negative/00003535_021.png  \n",
            "  inflating: /content/datasets/datasets/train/negative/00003539_003.png  \n",
            "  inflating: /content/datasets/datasets/train/negative/00003541_000.png  \n",
            "  inflating: /content/datasets/datasets/train/negative/00003552_004.png  \n",
            "  inflating: /content/datasets/datasets/train/negative/00003552_005.png  \n",
            "  inflating: /content/datasets/datasets/train/negative/00003560_001.png  \n",
            "  inflating: /content/datasets/datasets/train/negative/00003562_001.png  \n",
            "  inflating: /content/datasets/datasets/train/negative/00003564_000.png  \n",
            "  inflating: /content/datasets/datasets/train/negative/00003570_003.png  \n",
            "  inflating: /content/datasets/datasets/train/negative/00003571_000.png  \n",
            "  inflating: /content/datasets/datasets/train/negative/00003572_000.png  \n",
            "  inflating: /content/datasets/datasets/train/negative/00003574_006.png  \n",
            "  inflating: /content/datasets/datasets/train/negative/00003580_000.png  \n",
            "  inflating: /content/datasets/datasets/train/negative/00003580_001.png  \n",
            "  inflating: /content/datasets/datasets/train/negative/00003580_002.png  \n",
            "  inflating: /content/datasets/datasets/train/negative/00003601_006.png  \n",
            "  inflating: /content/datasets/datasets/train/negative/00003601_007.png  \n",
            "  inflating: /content/datasets/datasets/train/negative/00003611_007.png  \n",
            "  inflating: /content/datasets/datasets/train/negative/00003623_000.png  \n",
            "  inflating: /content/datasets/datasets/train/negative/00003628_000.png  \n",
            "  inflating: /content/datasets/datasets/train/negative/00003628_002.png  \n",
            "  inflating: /content/datasets/datasets/train/negative/00003646_001.png  \n",
            "  inflating: /content/datasets/datasets/train/negative/00003647_001.png  \n",
            "  inflating: /content/datasets/datasets/train/negative/00003661_000.png  \n",
            "  inflating: /content/datasets/datasets/train/negative/00003672_002.png  \n",
            "  inflating: /content/datasets/datasets/train/negative/00003680_000.png  \n",
            "  inflating: /content/datasets/datasets/train/negative/00003689_010.png  \n",
            "  inflating: /content/datasets/datasets/train/negative/00003693_006.png  \n",
            "  inflating: /content/datasets/datasets/train/negative/00003693_007.png  \n",
            "  inflating: /content/datasets/datasets/train/negative/00003698_000.png  \n",
            "  inflating: /content/datasets/datasets/train/negative/00003707_000.png  \n",
            "  inflating: /content/datasets/datasets/train/negative/00003709_007.png  \n",
            "  inflating: /content/datasets/datasets/train/negative/00003726_002.png  \n",
            "  inflating: /content/datasets/datasets/train/negative/00003741_002.png  \n",
            "  inflating: /content/datasets/datasets/train/negative/00003742_001.png  \n",
            "  inflating: /content/datasets/datasets/train/negative/00003748_000.png  \n",
            "  inflating: /content/datasets/datasets/train/negative/00003750_003.png  \n",
            "  inflating: /content/datasets/datasets/train/negative/00003758_005.png  \n",
            "  inflating: /content/datasets/datasets/train/negative/00003759_001.png  \n",
            "  inflating: /content/datasets/datasets/train/negative/00003759_002.png  \n",
            "  inflating: /content/datasets/datasets/train/negative/00003771_003.png  \n",
            "  inflating: /content/datasets/datasets/train/negative/00003773_000.png  \n",
            "  inflating: /content/datasets/datasets/train/negative/00003779_005.png  \n",
            "  inflating: /content/datasets/datasets/train/negative/00003806_001.png  \n",
            "  inflating: /content/datasets/datasets/train/negative/00003828_000.png  \n",
            "  inflating: /content/datasets/datasets/train/negative/00003837_004.png  \n",
            "  inflating: /content/datasets/datasets/train/negative/00003847_004.png  \n",
            "  inflating: /content/datasets/datasets/train/negative/00003847_005.png  \n",
            "  inflating: /content/datasets/datasets/train/negative/00003847_010.png  \n",
            "  inflating: /content/datasets/datasets/train/negative/00003847_011.png  \n",
            "  inflating: /content/datasets/datasets/train/negative/00003847_012.png  \n",
            "  inflating: /content/datasets/datasets/train/negative/00003849_000.png  \n",
            "  inflating: /content/datasets/datasets/train/negative/00003867_004.png  \n",
            "  inflating: /content/datasets/datasets/train/negative/00003872_001.png  \n",
            "  inflating: /content/datasets/datasets/train/negative/00003872_002.png  \n",
            "  inflating: /content/datasets/datasets/train/negative/00003875_007.png  \n",
            "  inflating: /content/datasets/datasets/train/negative/00003882_007.png  \n",
            "  inflating: /content/datasets/datasets/train/negative/00003895_000.png  \n",
            "  inflating: /content/datasets/datasets/train/negative/00003896_003.png  \n",
            "  inflating: /content/datasets/datasets/train/negative/00003896_006.png  \n",
            "  inflating: /content/datasets/datasets/train/negative/00003908_000.png  \n",
            "  inflating: /content/datasets/datasets/train/negative/00003914_001.png  \n",
            "  inflating: /content/datasets/datasets/train/negative/00003930_000.png  \n",
            "  inflating: /content/datasets/datasets/train/negative/00003956_001.png  \n",
            "  inflating: /content/datasets/datasets/train/negative/00003966_000.png  \n",
            "  inflating: /content/datasets/datasets/train/negative/00003970_002.png  \n",
            "  inflating: /content/datasets/datasets/train/negative/IM-0009-0001.jpeg  \n",
            "  inflating: /content/datasets/datasets/train/negative/IM-0010-0001.jpeg  \n",
            "  inflating: /content/datasets/datasets/train/negative/IM-0011-0001-0001.jpeg  \n",
            "  inflating: /content/datasets/datasets/train/negative/IM-0016-0001.jpeg  \n",
            "  inflating: /content/datasets/datasets/train/negative/IM-0023-0001.jpeg  \n",
            "  inflating: /content/datasets/datasets/train/negative/IM-0025-0001.jpeg  \n",
            "  inflating: /content/datasets/datasets/train/negative/IM-0028-0001.jpeg  \n",
            "  inflating: /content/datasets/datasets/train/negative/IM-0031-0001.jpeg  \n",
            "  inflating: /content/datasets/datasets/train/negative/IM-0037-0001.jpeg  \n",
            "  inflating: /content/datasets/datasets/train/negative/IM-0046-0001.jpeg  \n",
            "  inflating: /content/datasets/datasets/train/negative/IM-0059-0001.jpeg  \n",
            "  inflating: /content/datasets/datasets/train/negative/IM-0067-0001.jpeg  \n",
            "  inflating: /content/datasets/datasets/train/negative/IM-0073-0001.jpeg  \n",
            "  inflating: /content/datasets/datasets/train/negative/IM-0075-0001.jpeg  \n",
            "  inflating: /content/datasets/datasets/train/negative/IM-0084-0001.jpeg  \n",
            "  inflating: /content/datasets/datasets/train/negative/NORMAL2-IM-0012-0001.jpeg  \n",
            "  inflating: /content/datasets/datasets/train/negative/NORMAL2-IM-0019-0001.jpeg  \n",
            "  inflating: /content/datasets/datasets/train/negative/NORMAL2-IM-0027-0001.jpeg  \n",
            "  inflating: /content/datasets/datasets/train/negative/NORMAL2-IM-0033-0001.jpeg  \n",
            "  inflating: /content/datasets/datasets/train/negative/NORMAL2-IM-0102-0001.jpeg  \n",
            "  inflating: /content/datasets/datasets/train/negative/NORMAL2-IM-0110-0001.jpeg  \n",
            "  inflating: /content/datasets/datasets/train/negative/NORMAL2-IM-0123-0001.jpeg  \n",
            "  inflating: /content/datasets/datasets/train/negative/NORMAL2-IM-0131-0001.jpeg  \n",
            "  inflating: /content/datasets/datasets/train/negative/NORMAL2-IM-0146-0001.jpeg  \n",
            "  inflating: /content/datasets/datasets/train/negative/NORMAL2-IM-0173-0001-0002.jpeg  \n",
            "  inflating: /content/datasets/datasets/train/negative/NORMAL2-IM-0196-0001.jpeg  \n",
            "  inflating: /content/datasets/datasets/train/negative/NORMAL2-IM-0222-0001.jpeg  \n",
            "  inflating: /content/datasets/datasets/train/negative/NORMAL2-IM-0229-0001.jpeg  \n",
            "  inflating: /content/datasets/datasets/train/negative/NORMAL2-IM-0241-0001.jpeg  \n",
            "  inflating: /content/datasets/datasets/train/negative/NORMAL2-IM-0246-0001-0002.jpeg  \n",
            "  inflating: /content/datasets/datasets/train/negative/NORMAL2-IM-0272-0001.jpeg  \n",
            "  inflating: /content/datasets/datasets/train/negative/NORMAL2-IM-0274-0001.jpeg  \n",
            "  inflating: /content/datasets/datasets/train/negative/NORMAL2-IM-0283-0001.jpeg  \n",
            "  inflating: /content/datasets/datasets/train/negative/NORMAL2-IM-0288-0001.jpeg  \n",
            "  inflating: /content/datasets/datasets/train/negative/NORMAL2-IM-0297-0001.jpeg  \n",
            "  inflating: /content/datasets/datasets/train/negative/NORMAL2-IM-0301-0001.jpeg  \n",
            "  inflating: /content/datasets/datasets/train/negative/NORMAL2-IM-0307-0001.jpeg  \n",
            "  inflating: /content/datasets/datasets/train/negative/NORMAL2-IM-0313-0001.jpeg  \n",
            "  inflating: /content/datasets/datasets/train/negative/NORMAL2-IM-0315-0001.jpeg  \n",
            "  inflating: /content/datasets/datasets/train/negative/NORMAL2-IM-0326-0001.jpeg  \n",
            "  inflating: /content/datasets/datasets/train/negative/NORMAL2-IM-0332-0001.jpeg  \n",
            "  inflating: /content/datasets/datasets/train/negative/NORMAL2-IM-0339-0001.jpeg  \n",
            "  inflating: /content/datasets/datasets/train/negative/NORMAL2-IM-0343-0001.jpeg  \n",
            "  inflating: /content/datasets/datasets/train/negative/NORMAL2-IM-0348-0001.jpeg  \n",
            "  inflating: /content/datasets/datasets/train/negative/NORMAL2-IM-0357-0001.jpeg  \n",
            "  inflating: /content/datasets/datasets/train/negative/NORMAL2-IM-0362-0001.jpeg  \n",
            "  inflating: /content/datasets/datasets/train/negative/NORMAL2-IM-0364-0001.jpeg  \n",
            "  inflating: /content/datasets/datasets/train/negative/NORMAL2-IM-0369-0001.jpeg  \n",
            "  inflating: /content/datasets/datasets/train/negative/NORMAL2-IM-0370-0001.jpeg  \n",
            "  inflating: /content/datasets/datasets/train/negative/NORMAL2-IM-0376-0001.jpeg  \n",
            "  inflating: /content/datasets/datasets/train/negative/NORMAL2-IM-0381-0001.jpeg  \n",
            "  inflating: /content/datasets/datasets/train/positive/01E392EE-69F9-4E33-BFCE-E5C968654078.jpeg  \n",
            "  inflating: /content/datasets/datasets/train/positive/03BF7561-A9BA-4C3C-B8A0-D3E585F73F3C.jpeg  \n",
            "  inflating: /content/datasets/datasets/train/positive/1-s2.0-S0140673620303706-fx1_lrg.jpg  \n",
            "  inflating: /content/datasets/datasets/train/positive/1-s2.0-S0929664620300449-gr2_lrg-a.jpg  \n",
            "  inflating: /content/datasets/datasets/train/positive/1-s2.0-S0929664620300449-gr2_lrg-b.jpg  \n",
            "  inflating: /content/datasets/datasets/train/positive/1-s2.0-S0929664620300449-gr2_lrg-c.jpg  \n",
            "  inflating: /content/datasets/datasets/train/positive/1-s2.0-S0929664620300449-gr2_lrg-d.jpg  \n",
            "  inflating: /content/datasets/datasets/train/positive/1-s2.0-S1684118220300608-main.pdf-001.jpg  \n",
            "  inflating: /content/datasets/datasets/train/positive/1-s2.0-S1684118220300608-main.pdf-002.jpg  \n",
            "  inflating: /content/datasets/datasets/train/positive/1-s2.0-S1684118220300682-main.pdf-002-a1.png  \n",
            "  inflating: /content/datasets/datasets/train/positive/1-s2.0-S1684118220300682-main.pdf-002-a2.png  \n",
            "  inflating: /content/datasets/datasets/train/positive/1-s2.0-S1684118220300682-main.pdf-003-b1.png  \n",
            "  inflating: /content/datasets/datasets/train/positive/1-s2.0-S1684118220300682-main.pdf-003-b2.png  \n",
            "  inflating: /content/datasets/datasets/train/positive/1.CXRCTThoraximagesofCOVID-19fromSingapore.pdf-000-fig1a.png  \n",
            "  inflating: /content/datasets/datasets/train/positive/1.CXRCTThoraximagesofCOVID-19fromSingapore.pdf-000-fig1b.png  \n",
            "  inflating: /content/datasets/datasets/train/positive/1.CXRCTThoraximagesofCOVID-19fromSingapore.pdf-001-fig2a.png  \n",
            "  inflating: /content/datasets/datasets/train/positive/1.CXRCTThoraximagesofCOVID-19fromSingapore.pdf-001-fig2b.png  \n",
            "  inflating: /content/datasets/datasets/train/positive/1.CXRCTThoraximagesofCOVID-19fromSingapore.pdf-002-fig3a.png  \n",
            "  inflating: /content/datasets/datasets/train/positive/1.CXRCTThoraximagesofCOVID-19fromSingapore.pdf-002-fig3b.png  \n",
            "  inflating: /content/datasets/datasets/train/positive/1.CXRCTThoraximagesofCOVID-19fromSingapore.pdf-003-fig4a.png  \n",
            "  inflating: /content/datasets/datasets/train/positive/1.CXRCTThoraximagesofCOVID-19fromSingapore.pdf-003-fig4b.png  \n",
            "  inflating: /content/datasets/datasets/train/positive/1312A392-67A3-4EBF-9319-810CF6DA5EF6.jpeg  \n",
            "  inflating: /content/datasets/datasets/train/positive/171CB377-62FF-4B76-906C-F3787A01CB2E.jpeg  \n",
            "  inflating: /content/datasets/datasets/train/positive/1B734A89-A1BF-49A8-A1D3-66FAFA4FAC5D.jpeg  \n",
            "  inflating: /content/datasets/datasets/train/positive/1F6343EE-AFEC-4B7D-97F5-62797EE18767.jpeg  \n",
            "  inflating: /content/datasets/datasets/train/positive/23E99E2E-447C-46E5-8EB2-D35D12473C39.png  \n",
            "  inflating: /content/datasets/datasets/train/positive/2966893D-5DDF-4B68-9E2B-4979D5956C8E.jpeg  \n",
            "  inflating: /content/datasets/datasets/train/positive/2B8649B2-00C4-4233-85D5-1CE240CF233B.jpeg  \n",
            "  inflating: /content/datasets/datasets/train/positive/2C10A413-AABE-4807-8CCE-6A2025594067.jpeg  \n",
            "  inflating: /content/datasets/datasets/train/positive/2C26F453-AF3B-4517-BB9E-802CF2179543.jpeg  \n",
            "  inflating: /content/datasets/datasets/train/positive/31BA3780-2323-493F-8AED-62081B9C383B.jpeg  \n",
            "  inflating: /content/datasets/datasets/train/positive/353889E0-A1E8-4F9E-A0B8-F24F36BCFBFB.jpeg  \n",
            "  inflating: /content/datasets/datasets/train/positive/39EE8E69-5801-48DE-B6E3-BE7D1BCF3092.jpeg  \n",
            "  inflating: /content/datasets/datasets/train/positive/41591_2020_819_Fig1_HTML.webp-day10.png  \n",
            "  inflating: /content/datasets/datasets/train/positive/41591_2020_819_Fig1_HTML.webp-day5.png  \n",
            "  inflating: /content/datasets/datasets/train/positive/446B2CB6-B572-40AB-B01F-1910CA07086A.jpeg  \n",
            "  inflating: /content/datasets/datasets/train/positive/53EC07C9-5CC6-4BE4-9B6F-D7B0D72AAA7E.jpeg  \n",
            "  inflating: /content/datasets/datasets/train/positive/58cb9263f16e94305c730685358e4e_jumbo.jpeg  \n",
            "  inflating: /content/datasets/datasets/train/positive/5931B64A-7B97-485D-BE60-3F1EA76BC4F0.jpeg  \n",
            "  inflating: /content/datasets/datasets/train/positive/5A78BCA9-5B7A-440D-8A4E-AE7710EA6EAD.jpeg  \n",
            "  inflating: /content/datasets/datasets/train/positive/5CBC2E94-D358-401E-8928-965CCD965C5C.jpeg  \n",
            "  inflating: /content/datasets/datasets/train/positive/5e6dd879fde9502400e58b2f.jpeg  \n",
            "  inflating: /content/datasets/datasets/train/positive/6C94A287-C059-46A0-8600-AFB95F4727B7.jpeg  \n",
            "  inflating: /content/datasets/datasets/train/positive/6CB4EFC6-68FA-4CD5-940C-BEFA8DAFE9A7.jpeg  \n",
            "  inflating: /content/datasets/datasets/train/positive/6b44464d-73a7-4cf3-bbb6-ffe7168300e3.annot.original.jpeg  \n",
            "  inflating: /content/datasets/datasets/train/positive/7AF6C1AF-D249-4BD2-8C26-449304105D03.jpeg  \n",
            "  inflating: /content/datasets/datasets/train/positive/7C69C012-7479-493F-8722-ABC29C60A2DD.jpeg  \n",
            "  inflating: /content/datasets/datasets/train/positive/7D2CF6CE-F529-4470-8356-D33FFAF98600.jpeg  \n",
            "  inflating: /content/datasets/datasets/train/positive/7E335538-2F86-424E-A0AB-6397783A38D0.jpeg  \n",
            "  inflating: /content/datasets/datasets/train/positive/7EF28E12-F628-4BEC-A8C5-E6277C2E4F60.png  \n",
            "  inflating: /content/datasets/datasets/train/positive/80446565-E090-4187-A031-9D3CEAA586C8.jpeg  \n",
            "  inflating: /content/datasets/datasets/train/positive/85E52EB3-56E9-4D67-82DA-DEA247C82886.jpeg  \n",
            "  inflating: /content/datasets/datasets/train/positive/8FDE8DBA-CFBD-4B4C-B1A4-6F36A93B7E87.jpeg  \n",
            "  inflating: /content/datasets/datasets/train/positive/93FE0BB1-022D-4F24-9727-987A07975FFB.jpeg  \n",
            "  inflating: /content/datasets/datasets/train/positive/9C34AF49-E589-44D5-92D3-168B3B04E4A6.jpeg  \n",
            "  inflating: /content/datasets/datasets/train/positive/9fdd3c3032296fd04d2cad5d9070d4_jumbo.jpeg  \n",
            "  inflating: /content/datasets/datasets/train/positive/B2D20576-00B7-4519-A415-72DE29C90C34.jpeg  \n",
            "  inflating: /content/datasets/datasets/train/positive/B59DD164-51D5-40DF-A926-6A42DD52EBE8.jpeg  \n",
            "  inflating: /content/datasets/datasets/train/positive/C6EA0BE5-B01E-4113-B194-18D956675E25.jpeg  \n",
            "  inflating: /content/datasets/datasets/train/positive/CD50BA96-6982-4C80-AE7B-5F67ACDBFA56.jpeg  \n",
            "  inflating: /content/datasets/datasets/train/positive/D7AF463C-2369-492D-908D-BE1911CCD74C.jpeg  \n",
            "  inflating: /content/datasets/datasets/train/positive/E1724330-1866-4581-8CD8-CEC9B8AFEDDE.jpeg  \n",
            "  inflating: /content/datasets/datasets/train/positive/E63574A7-4188-4C8D-8D17-9D67A18A1AFA.jpeg  \n",
            "  inflating: /content/datasets/datasets/train/positive/F2DE909F-E19C-4900-92F5-8F435B031AC6.jpeg  \n",
            "  inflating: /content/datasets/datasets/train/positive/F4341CE7-73C9-45C6-99C8-8567A5484B63.jpeg  \n",
            "  inflating: /content/datasets/datasets/train/positive/F63AB6CE-1968-4154-A70F-913AF154F53D.jpeg  \n",
            "  inflating: /content/datasets/datasets/train/positive/FE9F9A5D-2830-46F9-851B-1FF4534959BE.jpeg  \n",
            "  inflating: /content/datasets/datasets/train/positive/all14238-fig-0001-m-b.jpg  \n",
            "  inflating: /content/datasets/datasets/train/positive/all14238-fig-0001-m-c.jpg  \n",
            "  inflating: /content/datasets/datasets/train/positive/all14238-fig-0002-m-d.jpg  \n",
            "  inflating: /content/datasets/datasets/train/positive/all14238-fig-0002-m-e.jpg  \n",
            "  inflating: /content/datasets/datasets/train/positive/all14238-fig-0002-m-f.jpg  \n",
            "  inflating: /content/datasets/datasets/train/positive/auntminnie-a-2020_01_28_23_51_6665_2020_01_28_Vietnam_coronavirus.jpeg  \n",
            "  inflating: /content/datasets/datasets/train/positive/auntminnie-b-2020_01_28_23_51_6665_2020_01_28_Vietnam_coronavirus.jpeg  \n",
            "  inflating: /content/datasets/datasets/train/positive/auntminnie-c-2020_01_28_23_51_6665_2020_01_28_Vietnam_coronavirus.jpeg  \n",
            "  inflating: /content/datasets/datasets/train/positive/auntminnie-d-2020_01_28_23_51_6665_2020_01_28_Vietnam_coronavirus.jpeg  \n",
            "  inflating: /content/datasets/datasets/train/positive/ciaa199.pdf-001-a.png  \n",
            "  inflating: /content/datasets/datasets/train/positive/ciaa199.pdf-001-b.png  \n",
            "  inflating: /content/datasets/datasets/train/positive/ciaa199.pdf-001-c.png  \n",
            "  inflating: /content/datasets/datasets/train/positive/covid-19-infection-exclusive-gastrointestinal-symptoms-pa.png  \n",
            "  inflating: /content/datasets/datasets/train/positive/covid-19-pneumonia-12.jpg  \n",
            "  inflating: /content/datasets/datasets/train/positive/covid-19-pneumonia-14-PA.png  \n",
            "  inflating: /content/datasets/datasets/train/positive/covid-19-pneumonia-15-PA.jpg  \n",
            "  inflating: /content/datasets/datasets/train/positive/covid-19-pneumonia-19.jpg  \n",
            "  inflating: /content/datasets/datasets/train/positive/covid-19-pneumonia-2.jpg  \n",
            "  inflating: /content/datasets/datasets/train/positive/covid-19-pneumonia-24-day12.jpg  \n",
            "  inflating: /content/datasets/datasets/train/positive/covid-19-pneumonia-24-day6.jpg  \n",
            "  inflating: /content/datasets/datasets/train/positive/covid-19-pneumonia-24-day7.jpg  \n",
            "  inflating: /content/datasets/datasets/train/positive/covid-19-pneumonia-28.png  \n",
            "  inflating: /content/datasets/datasets/train/positive/covid-19-pneumonia-30-PA.jpg  \n",
            "  inflating: /content/datasets/datasets/train/positive/covid-19-pneumonia-7-PA.jpg  \n",
            "  inflating: /content/datasets/datasets/train/positive/covid-19-pneumonia-evolution-over-a-week-1-day0-PA.jpg  \n",
            "  inflating: /content/datasets/datasets/train/positive/covid-19-pneumonia-evolution-over-a-week-1-day3.jpg  \n",
            "  inflating: /content/datasets/datasets/train/positive/covid-19-pneumonia-evolution-over-a-week-1-day4.jpg  \n",
            "  inflating: /content/datasets/datasets/train/positive/covid-19-pneumonia-rapidly-progressive-12-hours.jpg  \n",
            "  inflating: /content/datasets/datasets/train/positive/covid-19-pneumonia-rapidly-progressive-3-days.jpg  \n",
            "  inflating: /content/datasets/datasets/train/positive/covid-19-pneumonia-rapidly-progressive-admission.jpg  \n",
            "  inflating: /content/datasets/datasets/train/positive/covid-19-rapidly-progressive-acute-respiratory-distress-syndrome-ards-admission.jpg  \n",
            "  inflating: /content/datasets/datasets/train/positive/covid-19-rapidly-progressive-acute-respiratory-distress-syndrome-ards-day-1.jpg  \n",
            "  inflating: /content/datasets/datasets/train/positive/covid-19-rapidly-progressive-acute-respiratory-distress-syndrome-ards-day-2.jpg  \n",
            "  inflating: /content/datasets/datasets/train/positive/figure1-5e71be566aa8714a04de3386-98-left.jpeg  \n",
            "  inflating: /content/datasets/datasets/train/positive/figure1-5e73d7ae897e27ff066a30cb-98.jpeg  \n",
            "  inflating: /content/datasets/datasets/train/positive/figure1-5e75d0940b71e1b702629659-98-right.jpeg  \n",
            "  inflating: /content/datasets/datasets/train/positive/jkms-35-e79-g001-l-a.jpg  \n",
            "  inflating: /content/datasets/datasets/train/positive/jkms-35-e79-g001-l-b.jpg  \n",
            "  inflating: /content/datasets/datasets/train/positive/jkms-35-e79-g001-l-c.jpg  \n",
            "  inflating: /content/datasets/datasets/train/positive/kjr-21-e24-g001-l-a.jpg  \n",
            "  inflating: /content/datasets/datasets/train/positive/kjr-21-e24-g002-l-a.jpg  \n",
            "  inflating: /content/datasets/datasets/train/positive/kjr-21-e24-g003-l-a.jpg  \n",
            "  inflating: /content/datasets/datasets/train/positive/kjr-21-e25-g001-l-a.jpg  \n",
            "  inflating: /content/datasets/datasets/train/positive/lancet-case2a.jpg  \n",
            "  inflating: /content/datasets/datasets/train/positive/lancet-case2b.jpg  \n",
            "  inflating: /content/datasets/datasets/train/positive/nCoV-radiol.2020200269.fig1-day7.jpeg  \n",
            "  inflating: /content/datasets/datasets/train/positive/nejmc2001573_f1a.jpeg  \n",
            "  inflating: /content/datasets/datasets/train/positive/nejmc2001573_f1b.jpeg  \n",
            "  inflating: /content/datasets/datasets/train/positive/nejmoa2001191_f1-PA.jpeg  \n",
            "  inflating: /content/datasets/datasets/train/positive/nejmoa2001191_f3-PA.jpeg  \n",
            "  inflating: /content/datasets/datasets/train/positive/nejmoa2001191_f4.jpeg  \n",
            "  inflating: /content/datasets/datasets/train/positive/nejmoa2001191_f5-PA.jpeg  \n",
            "  inflating: /content/datasets/datasets/train/positive/radiol.2020200490.fig3.jpeg  \n",
            "  inflating: /content/datasets/datasets/train/positive/ryct.2020200028.fig1a.jpeg  \n",
            "  inflating: /content/datasets/datasets/train/positive/ryct.2020200034.fig2.jpeg  \n",
            "  inflating: /content/datasets/datasets/train/positive/ryct.2020200034.fig5-day0.jpeg  \n",
            "  inflating: /content/datasets/datasets/train/positive/ryct.2020200034.fig5-day4.jpeg  \n",
            "  inflating: /content/datasets/datasets/train/positive/ryct.2020200034.fig5-day7.jpeg  \n",
            "  inflating: /content/mini-dataset/dataset/covid/1-s2.0-S0140673620303706-fx1_lrg.jpg  \n",
            "  inflating: /content/mini-dataset/dataset/covid/1-s2.0-S0929664620300449-gr2_lrg-a.jpg  \n",
            "  inflating: /content/mini-dataset/dataset/covid/1-s2.0-S0929664620300449-gr2_lrg-b.jpg  \n",
            "  inflating: /content/mini-dataset/dataset/covid/1-s2.0-S0929664620300449-gr2_lrg-c.jpg  \n",
            "  inflating: /content/mini-dataset/dataset/covid/1-s2.0-S0929664620300449-gr2_lrg-d.jpg  \n",
            "  inflating: /content/mini-dataset/dataset/covid/auntminnie-a-2020_01_28_23_51_6665_2020_01_28_Vietnam_coronavirus.jpeg  \n",
            "  inflating: /content/mini-dataset/dataset/covid/auntminnie-b-2020_01_28_23_51_6665_2020_01_28_Vietnam_coronavirus.jpeg  \n",
            "  inflating: /content/mini-dataset/dataset/covid/auntminnie-c-2020_01_28_23_51_6665_2020_01_28_Vietnam_coronavirus.jpeg  \n",
            "  inflating: /content/mini-dataset/dataset/covid/auntminnie-d-2020_01_28_23_51_6665_2020_01_28_Vietnam_coronavirus.jpeg  \n",
            "  inflating: /content/mini-dataset/dataset/covid/lancet-case2a.jpg  \n",
            "  inflating: /content/mini-dataset/dataset/covid/lancet-case2b.jpg  \n",
            "  inflating: /content/mini-dataset/dataset/covid/nCoV-radiol.2020200269.fig1-day7.jpeg  \n",
            "  inflating: /content/mini-dataset/dataset/covid/nejmc2001573_f1a.jpeg  \n",
            "  inflating: /content/mini-dataset/dataset/covid/nejmc2001573_f1b.jpeg  \n",
            "  inflating: /content/mini-dataset/dataset/covid/nejmoa2001191_f1-PA.jpeg  \n",
            "  inflating: /content/mini-dataset/dataset/covid/nejmoa2001191_f3-PA.jpeg  \n",
            "  inflating: /content/mini-dataset/dataset/covid/nejmoa2001191_f4.jpeg  \n",
            "  inflating: /content/mini-dataset/dataset/covid/nejmoa2001191_f5-PA.jpeg  \n",
            "  inflating: /content/mini-dataset/dataset/covid/radiol.2020200490.fig3.jpeg  \n",
            "  inflating: /content/mini-dataset/dataset/covid/radiopedia-covid-19-pneumonia-2.jpg  \n",
            "  inflating: /content/mini-dataset/dataset/covid/ryct.2020200028.fig1a.jpeg  \n",
            "  inflating: /content/mini-dataset/dataset/covid/ryct.2020200034.fig2.jpeg  \n",
            "  inflating: /content/mini-dataset/dataset/covid/ryct.2020200034.fig5-day0.jpeg  \n",
            "  inflating: /content/mini-dataset/dataset/covid/ryct.2020200034.fig5-day4.jpeg  \n",
            "  inflating: /content/mini-dataset/dataset/covid/ryct.2020200034.fig5-day7.jpeg  \n",
            "  inflating: /content/mini-dataset/dataset/normal/IM-0033-0001-0001.jpeg  \n",
            "  inflating: /content/mini-dataset/dataset/normal/IM-0240-0001.jpeg  \n",
            "  inflating: /content/mini-dataset/dataset/normal/IM-0466-0001.jpeg  \n",
            "  inflating: /content/mini-dataset/dataset/normal/NORMAL2-IM-0315-0001.jpeg  \n",
            "  inflating: /content/mini-dataset/dataset/normal/NORMAL2-IM-0696-0001.jpeg  \n",
            "  inflating: /content/mini-dataset/dataset/normal/NORMAL2-IM-0869-0001.jpeg  \n",
            "  inflating: /content/mini-dataset/dataset/normal/NORMAL2-IM-1179-0001.jpeg  \n",
            "  inflating: /content/mini-dataset/dataset/normal/person1102_bacteria_3043.jpeg  \n",
            "  inflating: /content/mini-dataset/dataset/normal/person1290_virus_2215.jpeg  \n",
            "  inflating: /content/mini-dataset/dataset/normal/person1558_bacteria_4066.jpeg  \n",
            "  inflating: /content/mini-dataset/dataset/normal/person1599_virus_2776.jpeg  \n",
            "  inflating: /content/mini-dataset/dataset/normal/person1830_bacteria_4693.jpeg  \n",
            "  inflating: /content/mini-dataset/dataset/normal/person1935_bacteria_4849.jpeg  \n",
            "  inflating: /content/mini-dataset/dataset/normal/person1_bacteria_2.jpeg  \n",
            "  inflating: /content/mini-dataset/dataset/normal/person259_bacteria_1220.jpeg  \n",
            "  inflating: /content/mini-dataset/dataset/normal/person339_bacteria_1574.jpeg  \n",
            "  inflating: /content/mini-dataset/dataset/normal/person378_virus_761.jpeg  \n",
            "  inflating: /content/mini-dataset/dataset/normal/person438_bacteria_1893.jpeg  \n",
            "  inflating: /content/mini-dataset/dataset/normal/person525_bacteria_2216.jpeg  \n",
            "  inflating: /content/mini-dataset/dataset/normal/person612_bacteria_2478.jpeg  \n",
            "  inflating: /content/mini-dataset/dataset/normal/person651_bacteria_2543.jpeg  \n",
            "  inflating: /content/mini-dataset/dataset/normal/person925_virus_1582.jpeg  \n",
            "  inflating: /content/mini-dataset/dataset/normal/person934_virus_1595.jpeg  \n",
            "  inflating: /content/mini-dataset/dataset/normal/person939_bacteria_2864.jpeg  \n",
            "  inflating: /content/mini-dataset/dataset/normal/person989_virus_1667.jpeg  \n",
            "  inflating: /content/sampleSubmission.csv  \n"
          ],
          "name": "stdout"
        }
      ]
    },
    {
      "cell_type": "markdown",
      "metadata": {
        "id": "qCsn3enGgPoC"
      },
      "source": [
        "# Importing Libraries"
      ],
      "id": "qCsn3enGgPoC"
    },
    {
      "cell_type": "code",
      "metadata": {
        "id": "IcYkxcFNfcGL"
      },
      "source": [
        "import pandas as pd \n",
        "import numpy as np\n",
        "import matplotlib.pyplot as plt \n",
        "%matplotlib inline\n",
        "import tensorflow as tf\n",
        "from tensorflow import keras \n",
        "from tensorflow.keras.models import Sequential\n",
        "from keras.preprocessing.image import ImageDataGenerator\n",
        "from tensorflow.keras.layers import Conv2D, MaxPool2D, Flatten, Dense, Dropout, BatchNormalization\n",
        "from tensorflow.keras import regularizers"
      ],
      "id": "IcYkxcFNfcGL",
      "execution_count": 3,
      "outputs": []
    },
    {
      "cell_type": "markdown",
      "metadata": {
        "id": "-GgIFKDxgRrm"
      },
      "source": [
        "# Using ImageDataGenerator to get the training and test set"
      ],
      "id": "-GgIFKDxgRrm"
    },
    {
      "cell_type": "code",
      "metadata": {
        "colab": {
          "base_uri": "https://localhost:8080/"
        },
        "id": "b10cf0f7",
        "outputId": "74e88bc9-f461-4949-f770-0315e73b5b10"
      },
      "source": [
        "train_datagen = ImageDataGenerator(\n",
        "        rescale=1./255,\n",
        "        shear_range=0.2,\n",
        "        zoom_range=0.2,\n",
        "        horizontal_flip=True\n",
        "        )\n",
        "training_set = train_datagen.flow_from_directory(\n",
        "        'datasets/datasets/train',\n",
        "        target_size=(250, 250),\n",
        "        batch_size=32,\n",
        "        class_mode='binary')"
      ],
      "id": "b10cf0f7",
      "execution_count": 4,
      "outputs": [
        {
          "output_type": "stream",
          "text": [
            "Found 676 images belonging to 2 classes.\n"
          ],
          "name": "stdout"
        }
      ]
    },
    {
      "cell_type": "code",
      "metadata": {
        "colab": {
          "base_uri": "https://localhost:8080/"
        },
        "id": "a9cf3c17",
        "outputId": "ae4d89c2-d00b-43d1-d719-5fac433f6a7a"
      },
      "source": [
        "test_datagen = ImageDataGenerator(rescale=1./255)\n",
        "test_set = test_datagen.flow_from_directory(\n",
        "        'datasets/datasets/test',\n",
        "        target_size=(250, 250),\n",
        "        batch_size=32,\n",
        "        class_mode='binary')"
      ],
      "id": "a9cf3c17",
      "execution_count": 5,
      "outputs": [
        {
          "output_type": "stream",
          "text": [
            "Found 408 images belonging to 2 classes.\n"
          ],
          "name": "stdout"
        }
      ]
    },
    {
      "cell_type": "markdown",
      "metadata": {
        "id": "4XqobZLzgXvC"
      },
      "source": [
        "# CNN Models"
      ],
      "id": "4XqobZLzgXvC"
    },
    {
      "cell_type": "markdown",
      "metadata": {
        "id": "f28027c1"
      },
      "source": [
        "## Model 1"
      ],
      "id": "f28027c1"
    },
    {
      "cell_type": "code",
      "metadata": {
        "id": "c2d2c6b7"
      },
      "source": [
        "cnn = Sequential([\n",
        "    Conv2D(filters=32, kernel_size=3, activation='relu', input_shape=(250,250,3)),\n",
        "    Conv2D(filters=32, kernel_size=3, activation='relu'),\n",
        "    MaxPool2D(),\n",
        "    Dropout(0.25),\n",
        "    \n",
        "    Conv2D(filters=64, kernel_size=3, activation='relu'),\n",
        "    MaxPool2D(),\n",
        "    Dropout(0.25),\n",
        "    \n",
        "    Flatten(),\n",
        "    Dense(units=128, activation='relu'),\n",
        "    Dropout(0.5),\n",
        "    Dense(units=1, activation='sigmoid')\n",
        "])"
      ],
      "id": "c2d2c6b7",
      "execution_count": 10,
      "outputs": []
    },
    {
      "cell_type": "code",
      "metadata": {
        "colab": {
          "base_uri": "https://localhost:8080/"
        },
        "id": "88d8f7b0",
        "outputId": "83e56eb7-4019-4bbc-e88b-2b71f3e87744"
      },
      "source": [
        "cnn.summary()"
      ],
      "id": "88d8f7b0",
      "execution_count": 11,
      "outputs": [
        {
          "output_type": "stream",
          "text": [
            "Model: \"sequential_1\"\n",
            "_________________________________________________________________\n",
            "Layer (type)                 Output Shape              Param #   \n",
            "=================================================================\n",
            "conv2d_3 (Conv2D)            (None, 248, 248, 32)      896       \n",
            "_________________________________________________________________\n",
            "conv2d_4 (Conv2D)            (None, 246, 246, 32)      9248      \n",
            "_________________________________________________________________\n",
            "max_pooling2d_2 (MaxPooling2 (None, 123, 123, 32)      0         \n",
            "_________________________________________________________________\n",
            "dropout_3 (Dropout)          (None, 123, 123, 32)      0         \n",
            "_________________________________________________________________\n",
            "conv2d_5 (Conv2D)            (None, 121, 121, 64)      18496     \n",
            "_________________________________________________________________\n",
            "max_pooling2d_3 (MaxPooling2 (None, 60, 60, 64)        0         \n",
            "_________________________________________________________________\n",
            "dropout_4 (Dropout)          (None, 60, 60, 64)        0         \n",
            "_________________________________________________________________\n",
            "flatten_1 (Flatten)          (None, 230400)            0         \n",
            "_________________________________________________________________\n",
            "dense_2 (Dense)              (None, 128)               29491328  \n",
            "_________________________________________________________________\n",
            "dropout_5 (Dropout)          (None, 128)               0         \n",
            "_________________________________________________________________\n",
            "dense_3 (Dense)              (None, 1)                 129       \n",
            "=================================================================\n",
            "Total params: 29,520,097\n",
            "Trainable params: 29,520,097\n",
            "Non-trainable params: 0\n",
            "_________________________________________________________________\n"
          ],
          "name": "stdout"
        }
      ]
    },
    {
      "cell_type": "code",
      "metadata": {
        "id": "af7c33c9"
      },
      "source": [
        "cnn.compile(optimizer='adam', loss='binary_crossentropy', metrics=['accuracy','AUC'])"
      ],
      "id": "af7c33c9",
      "execution_count": 12,
      "outputs": []
    },
    {
      "cell_type": "code",
      "metadata": {
        "colab": {
          "base_uri": "https://localhost:8080/"
        },
        "id": "89931f04",
        "outputId": "426cbacc-8c54-4ac9-fadf-02e4ac040c4c"
      },
      "source": [
        "r = cnn.fit(training_set, validation_data = test_set, epochs=50)"
      ],
      "id": "89931f04",
      "execution_count": 13,
      "outputs": [
        {
          "output_type": "stream",
          "text": [
            "Epoch 1/50\n",
            "22/22 [==============================] - 33s 1s/step - loss: 2.1269 - accuracy: 0.7544 - auc: 0.5551 - val_loss: 0.6382 - val_accuracy: 0.7108 - val_auc: 0.8133\n",
            "Epoch 2/50\n",
            "22/22 [==============================] - 29s 1s/step - loss: 0.4957 - accuracy: 0.8062 - auc: 0.5835 - val_loss: 0.5336 - val_accuracy: 0.7108 - val_auc: 0.8037\n",
            "Epoch 3/50\n",
            "22/22 [==============================] - 30s 1s/step - loss: 0.3760 - accuracy: 0.8284 - auc: 0.8301 - val_loss: 0.5187 - val_accuracy: 0.7475 - val_auc: 0.8423\n",
            "Epoch 4/50\n",
            "22/22 [==============================] - 29s 1s/step - loss: 0.3116 - accuracy: 0.8550 - auc: 0.8876 - val_loss: 0.5010 - val_accuracy: 0.8015 - val_auc: 0.8460\n",
            "Epoch 5/50\n",
            "22/22 [==============================] - 30s 1s/step - loss: 0.2722 - accuracy: 0.8580 - auc: 0.9213 - val_loss: 0.4425 - val_accuracy: 0.8333 - val_auc: 0.8934\n",
            "Epoch 6/50\n",
            "22/22 [==============================] - 30s 1s/step - loss: 0.2582 - accuracy: 0.8713 - auc: 0.9285 - val_loss: 0.6150 - val_accuracy: 0.8382 - val_auc: 0.8636\n",
            "Epoch 7/50\n",
            "22/22 [==============================] - 30s 1s/step - loss: 0.2671 - accuracy: 0.8891 - auc: 0.9214 - val_loss: 0.4072 - val_accuracy: 0.8750 - val_auc: 0.9032\n",
            "Epoch 8/50\n",
            "22/22 [==============================] - 30s 1s/step - loss: 0.2900 - accuracy: 0.8772 - auc: 0.9091 - val_loss: 0.4756 - val_accuracy: 0.8113 - val_auc: 0.8867\n",
            "Epoch 9/50\n",
            "22/22 [==============================] - 29s 1s/step - loss: 0.2451 - accuracy: 0.8905 - auc: 0.9383 - val_loss: 0.4998 - val_accuracy: 0.8701 - val_auc: 0.8888\n",
            "Epoch 10/50\n",
            "22/22 [==============================] - 30s 1s/step - loss: 0.2353 - accuracy: 0.9024 - auc: 0.9419 - val_loss: 0.6781 - val_accuracy: 0.8015 - val_auc: 0.8550\n",
            "Epoch 11/50\n",
            "22/22 [==============================] - 30s 1s/step - loss: 0.2461 - accuracy: 0.8861 - auc: 0.9347 - val_loss: 0.5423 - val_accuracy: 0.8309 - val_auc: 0.8756\n",
            "Epoch 12/50\n",
            "22/22 [==============================] - 30s 1s/step - loss: 0.2596 - accuracy: 0.8861 - auc: 0.9319 - val_loss: 0.5079 - val_accuracy: 0.8480 - val_auc: 0.8605\n",
            "Epoch 13/50\n",
            "22/22 [==============================] - 30s 1s/step - loss: 0.2337 - accuracy: 0.8979 - auc: 0.9412 - val_loss: 0.8100 - val_accuracy: 0.8775 - val_auc: 0.8529\n",
            "Epoch 14/50\n",
            "22/22 [==============================] - 29s 1s/step - loss: 0.2545 - accuracy: 0.9098 - auc: 0.9425 - val_loss: 0.5420 - val_accuracy: 0.8456 - val_auc: 0.8825\n",
            "Epoch 15/50\n",
            "22/22 [==============================] - 30s 1s/step - loss: 0.2540 - accuracy: 0.9053 - auc: 0.9363 - val_loss: 0.7341 - val_accuracy: 0.7745 - val_auc: 0.8143\n",
            "Epoch 16/50\n",
            "22/22 [==============================] - 29s 1s/step - loss: 0.2542 - accuracy: 0.9038 - auc: 0.9330 - val_loss: 0.5584 - val_accuracy: 0.8333 - val_auc: 0.8848\n",
            "Epoch 17/50\n",
            "22/22 [==============================] - 29s 1s/step - loss: 0.2353 - accuracy: 0.9083 - auc: 0.9436 - val_loss: 0.6936 - val_accuracy: 0.8113 - val_auc: 0.8700\n",
            "Epoch 18/50\n",
            "22/22 [==============================] - 29s 1s/step - loss: 0.1847 - accuracy: 0.9246 - auc: 0.9655 - val_loss: 0.6568 - val_accuracy: 0.8529 - val_auc: 0.8767\n",
            "Epoch 19/50\n",
            "22/22 [==============================] - 29s 1s/step - loss: 0.2171 - accuracy: 0.9201 - auc: 0.9489 - val_loss: 0.6403 - val_accuracy: 0.8431 - val_auc: 0.8830\n",
            "Epoch 20/50\n",
            "22/22 [==============================] - 30s 1s/step - loss: 0.2118 - accuracy: 0.9083 - auc: 0.9524 - val_loss: 0.5127 - val_accuracy: 0.8775 - val_auc: 0.8935\n",
            "Epoch 21/50\n",
            "22/22 [==============================] - 29s 1s/step - loss: 0.1959 - accuracy: 0.9186 - auc: 0.9626 - val_loss: 0.6626 - val_accuracy: 0.8309 - val_auc: 0.8864\n",
            "Epoch 22/50\n",
            "22/22 [==============================] - 29s 1s/step - loss: 0.2141 - accuracy: 0.9083 - auc: 0.9471 - val_loss: 0.6491 - val_accuracy: 0.8775 - val_auc: 0.8901\n",
            "Epoch 23/50\n",
            "22/22 [==============================] - 30s 1s/step - loss: 0.2088 - accuracy: 0.9172 - auc: 0.9561 - val_loss: 0.6650 - val_accuracy: 0.8676 - val_auc: 0.8885\n",
            "Epoch 24/50\n",
            "22/22 [==============================] - 29s 1s/step - loss: 0.2101 - accuracy: 0.9231 - auc: 0.9559 - val_loss: 0.6405 - val_accuracy: 0.8529 - val_auc: 0.8954\n",
            "Epoch 25/50\n",
            "22/22 [==============================] - 30s 1s/step - loss: 0.1959 - accuracy: 0.9246 - auc: 0.9576 - val_loss: 0.6889 - val_accuracy: 0.8725 - val_auc: 0.8891\n",
            "Epoch 26/50\n",
            "22/22 [==============================] - 29s 1s/step - loss: 0.1814 - accuracy: 0.9305 - auc: 0.9681 - val_loss: 0.7513 - val_accuracy: 0.8775 - val_auc: 0.8840\n",
            "Epoch 27/50\n",
            "22/22 [==============================] - 30s 1s/step - loss: 0.1737 - accuracy: 0.9305 - auc: 0.9694 - val_loss: 0.8450 - val_accuracy: 0.8750 - val_auc: 0.8654\n",
            "Epoch 28/50\n",
            "22/22 [==============================] - 29s 1s/step - loss: 0.1666 - accuracy: 0.9379 - auc: 0.9720 - val_loss: 0.9932 - val_accuracy: 0.8431 - val_auc: 0.8337\n",
            "Epoch 29/50\n",
            "22/22 [==============================] - 29s 1s/step - loss: 0.2068 - accuracy: 0.9157 - auc: 0.9584 - val_loss: 0.5225 - val_accuracy: 0.8505 - val_auc: 0.9021\n",
            "Epoch 30/50\n",
            "22/22 [==============================] - 30s 1s/step - loss: 0.1745 - accuracy: 0.9408 - auc: 0.9707 - val_loss: 0.6808 - val_accuracy: 0.8799 - val_auc: 0.9036\n",
            "Epoch 31/50\n",
            "22/22 [==============================] - 29s 1s/step - loss: 0.1850 - accuracy: 0.9320 - auc: 0.9685 - val_loss: 0.8281 - val_accuracy: 0.8235 - val_auc: 0.8836\n",
            "Epoch 32/50\n",
            "22/22 [==============================] - 30s 1s/step - loss: 0.2081 - accuracy: 0.9172 - auc: 0.9525 - val_loss: 0.4719 - val_accuracy: 0.9020 - val_auc: 0.9030\n",
            "Epoch 33/50\n",
            "22/22 [==============================] - 30s 1s/step - loss: 0.1943 - accuracy: 0.9157 - auc: 0.9624 - val_loss: 0.5595 - val_accuracy: 0.8995 - val_auc: 0.9070\n",
            "Epoch 34/50\n",
            "22/22 [==============================] - 29s 1s/step - loss: 0.2016 - accuracy: 0.9186 - auc: 0.9569 - val_loss: 0.8062 - val_accuracy: 0.8113 - val_auc: 0.8639\n",
            "Epoch 35/50\n",
            "22/22 [==============================] - 29s 1s/step - loss: 0.2260 - accuracy: 0.9157 - auc: 0.9493 - val_loss: 0.5427 - val_accuracy: 0.8358 - val_auc: 0.9146\n",
            "Epoch 36/50\n",
            "22/22 [==============================] - 29s 1s/step - loss: 0.1631 - accuracy: 0.9305 - auc: 0.9693 - val_loss: 0.7612 - val_accuracy: 0.8676 - val_auc: 0.8991\n",
            "Epoch 37/50\n",
            "22/22 [==============================] - 30s 1s/step - loss: 0.2025 - accuracy: 0.9260 - auc: 0.9628 - val_loss: 0.5899 - val_accuracy: 0.8480 - val_auc: 0.9081\n",
            "Epoch 38/50\n",
            "22/22 [==============================] - 29s 1s/step - loss: 0.1693 - accuracy: 0.9349 - auc: 0.9688 - val_loss: 0.4409 - val_accuracy: 0.8897 - val_auc: 0.9215\n",
            "Epoch 39/50\n",
            "22/22 [==============================] - 29s 1s/step - loss: 0.1779 - accuracy: 0.9349 - auc: 0.9690 - val_loss: 0.6625 - val_accuracy: 0.8848 - val_auc: 0.9077\n",
            "Epoch 40/50\n",
            "22/22 [==============================] - 29s 1s/step - loss: 0.1773 - accuracy: 0.9423 - auc: 0.9641 - val_loss: 0.5129 - val_accuracy: 0.8848 - val_auc: 0.9178\n",
            "Epoch 41/50\n",
            "22/22 [==============================] - 29s 1s/step - loss: 0.1363 - accuracy: 0.9423 - auc: 0.9839 - val_loss: 0.5632 - val_accuracy: 0.8824 - val_auc: 0.9002\n",
            "Epoch 42/50\n",
            "22/22 [==============================] - 30s 1s/step - loss: 0.1682 - accuracy: 0.9320 - auc: 0.9773 - val_loss: 0.6331 - val_accuracy: 0.8824 - val_auc: 0.9075\n",
            "Epoch 43/50\n",
            "22/22 [==============================] - 30s 1s/step - loss: 0.1392 - accuracy: 0.9497 - auc: 0.9837 - val_loss: 0.6919 - val_accuracy: 0.8971 - val_auc: 0.9032\n",
            "Epoch 44/50\n",
            "22/22 [==============================] - 29s 1s/step - loss: 0.1520 - accuracy: 0.9349 - auc: 0.9780 - val_loss: 0.9900 - val_accuracy: 0.8725 - val_auc: 0.8646\n",
            "Epoch 45/50\n",
            "22/22 [==============================] - 29s 1s/step - loss: 0.1500 - accuracy: 0.9379 - auc: 0.9733 - val_loss: 0.5176 - val_accuracy: 0.9093 - val_auc: 0.9181\n",
            "Epoch 46/50\n",
            "22/22 [==============================] - 29s 1s/step - loss: 0.1364 - accuracy: 0.9571 - auc: 0.9844 - val_loss: 0.6929 - val_accuracy: 0.8750 - val_auc: 0.9041\n",
            "Epoch 47/50\n",
            "22/22 [==============================] - 30s 1s/step - loss: 0.1782 - accuracy: 0.9275 - auc: 0.9683 - val_loss: 0.6231 - val_accuracy: 0.8873 - val_auc: 0.9044\n",
            "Epoch 48/50\n",
            "22/22 [==============================] - 29s 1s/step - loss: 0.1475 - accuracy: 0.9379 - auc: 0.9788 - val_loss: 0.9557 - val_accuracy: 0.8725 - val_auc: 0.8724\n",
            "Epoch 49/50\n",
            "22/22 [==============================] - 30s 1s/step - loss: 0.1606 - accuracy: 0.9305 - auc: 0.9708 - val_loss: 0.5604 - val_accuracy: 0.9069 - val_auc: 0.9070\n",
            "Epoch 50/50\n",
            "22/22 [==============================] - 29s 1s/step - loss: 0.1454 - accuracy: 0.9541 - auc: 0.9770 - val_loss: 0.5519 - val_accuracy: 0.9167 - val_auc: 0.9008\n"
          ],
          "name": "stdout"
        }
      ]
    },
    {
      "cell_type": "code",
      "metadata": {
        "colab": {
          "base_uri": "https://localhost:8080/",
          "height": 282
        },
        "id": "1e0bfef2",
        "outputId": "b3b58793-cccd-4142-f125-4fa2fb350097"
      },
      "source": [
        "plt.plot(r.history['loss'], label='Loss')\n",
        "plt.plot(r.history['val_loss'], label='Val_Loss')\n",
        "plt.legend()"
      ],
      "id": "1e0bfef2",
      "execution_count": 14,
      "outputs": [
        {
          "output_type": "execute_result",
          "data": {
            "text/plain": [
              "<matplotlib.legend.Legend at 0x7fea2a534450>"
            ]
          },
          "metadata": {
            "tags": []
          },
          "execution_count": 14
        },
        {
          "output_type": "display_data",
          "data": {
            "image/png": "[encoded data removed]",
            "text/plain": [
              "<Figure size 432x288 with 1 Axes>"
            ]
          },
          "metadata": {
            "tags": [],
            "needs_background": "light"
          }
        }
      ]
    },
    {
      "cell_type": "code",
      "metadata": {
        "colab": {
          "base_uri": "https://localhost:8080/",
          "height": 282
        },
        "id": "93340678",
        "outputId": "4d7c57e4-e62b-42ef-cde7-1acfa66aa615"
      },
      "source": [
        "plt.plot(r.history['accuracy'], label='Accuracy')\n",
        "plt.plot(r.history['val_accuracy'], label='Val_Accuracy')\n",
        "plt.legend()"
      ],
      "id": "93340678",
      "execution_count": 15,
      "outputs": [
        {
          "output_type": "execute_result",
          "data": {
            "text/plain": [
              "<matplotlib.legend.Legend at 0x7fea2a4c4950>"
            ]
          },
          "metadata": {
            "tags": []
          },
          "execution_count": 15
        },
        {
          "output_type": "display_data",
          "data": {
            "image/png": "[encoded data removed]",
            "text/plain": [
              "<Figure size 432x288 with 1 Axes>"
            ]
          },
          "metadata": {
            "tags": [],
            "needs_background": "light"
          }
        }
      ]
    },
    {
      "cell_type": "code",
      "metadata": {
        "colab": {
          "base_uri": "https://localhost:8080/"
        },
        "id": "29328061",
        "outputId": "101701a5-1a66-4b1a-816a-d8763f2bafe5"
      },
      "source": [
        "test_loss, test_accuracy, test_auc = cnn.evaluate(test_set)"
      ],
      "id": "29328061",
      "execution_count": 16,
      "outputs": [
        {
          "output_type": "stream",
          "text": [
            "13/13 [==============================] - 8s 569ms/step - loss: 0.5519 - accuracy: 0.9167 - auc: 0.9008\n"
          ],
          "name": "stdout"
        }
      ]
    },
    {
      "cell_type": "markdown",
      "metadata": {
        "id": "qrrmQCiTnsaa"
      },
      "source": [
        "Although the model gives us great accuracy and AUC score, the model seems to be overfitting early on."
      ],
      "id": "qrrmQCiTnsaa"
    },
    {
      "cell_type": "markdown",
      "metadata": {
        "id": "e5ac2c13"
      },
      "source": [
        "## Model 2"
      ],
      "id": "e5ac2c13"
    },
    {
      "cell_type": "markdown",
      "metadata": {
        "id": "01WUcO8GoO04"
      },
      "source": [
        "In the second model, we try to increase the complexity of the model by increasing the filters of the Convulation layer and units of the Dense layer."
      ],
      "id": "01WUcO8GoO04"
    },
    {
      "cell_type": "code",
      "metadata": {
        "id": "88260147"
      },
      "source": [
        "cnn2 = Sequential([\n",
        "    Conv2D(filters=64, kernel_size=3, activation='relu', input_shape=(250,250,3)),\n",
        "    MaxPool2D(pool_size = 2, strides=2),\n",
        "    Dropout(0.25),\n",
        "    \n",
        "    Conv2D(filters=128, kernel_size=3, activation='relu'),\n",
        "    MaxPool2D(pool_size=2, strides=2),\n",
        "    Dropout(0.25),\n",
        "    \n",
        "    Conv2D(filters=128, kernel_size=3, activation='relu'),\n",
        "    MaxPool2D(pool_size=2, strides=2),\n",
        "    Dropout(0.25),\n",
        "    \n",
        "    Flatten(),\n",
        "    \n",
        "    Dense(units=512, activation='relu'),\n",
        "    Dropout(0.5),\n",
        "    Dense(units=1, activation='sigmoid')\n",
        "])"
      ],
      "id": "88260147",
      "execution_count": null,
      "outputs": []
    },
    {
      "cell_type": "code",
      "metadata": {
        "id": "d2b5ae5a",
        "outputId": "f7173af5-cca7-4588-9f8e-82772bfb0786"
      },
      "source": [
        "cnn2.summary()"
      ],
      "id": "d2b5ae5a",
      "execution_count": null,
      "outputs": [
        {
          "output_type": "stream",
          "text": [
            "Model: \"sequential_4\"\n",
            "_________________________________________________________________\n",
            "Layer (type)                 Output Shape              Param #   \n",
            "=================================================================\n",
            "conv2d_12 (Conv2D)           (None, 248, 248, 64)      1792      \n",
            "_________________________________________________________________\n",
            "max_pooling2d_10 (MaxPooling (None, 124, 124, 64)      0         \n",
            "_________________________________________________________________\n",
            "dropout_14 (Dropout)         (None, 124, 124, 64)      0         \n",
            "_________________________________________________________________\n",
            "conv2d_13 (Conv2D)           (None, 122, 122, 128)     73856     \n",
            "_________________________________________________________________\n",
            "max_pooling2d_11 (MaxPooling (None, 61, 61, 128)       0         \n",
            "_________________________________________________________________\n",
            "dropout_15 (Dropout)         (None, 61, 61, 128)       0         \n",
            "_________________________________________________________________\n",
            "conv2d_14 (Conv2D)           (None, 59, 59, 128)       147584    \n",
            "_________________________________________________________________\n",
            "max_pooling2d_12 (MaxPooling (None, 29, 29, 128)       0         \n",
            "_________________________________________________________________\n",
            "dropout_16 (Dropout)         (None, 29, 29, 128)       0         \n",
            "_________________________________________________________________\n",
            "flatten_4 (Flatten)          (None, 107648)            0         \n",
            "_________________________________________________________________\n",
            "dense_8 (Dense)              (None, 512)               55116288  \n",
            "_________________________________________________________________\n",
            "dropout_17 (Dropout)         (None, 512)               0         \n",
            "_________________________________________________________________\n",
            "dense_9 (Dense)              (None, 1)                 513       \n",
            "=================================================================\n",
            "Total params: 55,340,033\n",
            "Trainable params: 55,340,033\n",
            "Non-trainable params: 0\n",
            "_________________________________________________________________\n"
          ],
          "name": "stdout"
        }
      ]
    },
    {
      "cell_type": "code",
      "metadata": {
        "id": "b0ddcdb2"
      },
      "source": [
        "cnn2.compile(optimizer='adam', loss='binary_crossentropy', metrics=['accuracy','AUC'])"
      ],
      "id": "b0ddcdb2",
      "execution_count": null,
      "outputs": []
    },
    {
      "cell_type": "code",
      "metadata": {
        "id": "9b45de15",
        "outputId": "acb436c1-3601-422c-a267-c0c4fa5225ed"
      },
      "source": [
        "r2 = cnn2.fit(training_set, validation_data = test_set, epochs=20)"
      ],
      "id": "9b45de15",
      "execution_count": null,
      "outputs": [
        {
          "output_type": "stream",
          "text": [
            "Epoch 1/20\n",
            "22/22 [==============================] - 116s 5s/step - loss: 0.2478 - accuracy: 0.8891 - auc: 0.9301 - val_loss: 1.0812 - val_accuracy: 0.8260 - val_auc: 0.8196\n",
            "Epoch 2/20\n",
            "22/22 [==============================] - 158s 7s/step - loss: 0.2020 - accuracy: 0.9172 - auc: 0.9558 - val_loss: 1.0521 - val_accuracy: 0.8235 - val_auc: 0.8326\n",
            "Epoch 3/20\n",
            "22/22 [==============================] - 149s 7s/step - loss: 0.1834 - accuracy: 0.9231 - auc: 0.9666 - val_loss: 1.0954 - val_accuracy: 0.8725 - val_auc: 0.8449\n",
            "Epoch 4/20\n",
            "22/22 [==============================] - 143s 6s/step - loss: 0.1731 - accuracy: 0.9260 - auc: 0.9701 - val_loss: 1.0635 - val_accuracy: 0.8603 - val_auc: 0.8380\n",
            "Epoch 5/20\n",
            "22/22 [==============================] - 142s 6s/step - loss: 0.1887 - accuracy: 0.9231 - auc: 0.9626 - val_loss: 0.8488 - val_accuracy: 0.8701 - val_auc: 0.8340\n",
            "Epoch 6/20\n",
            "22/22 [==============================] - 147s 7s/step - loss: 0.1943 - accuracy: 0.9379 - auc: 0.9617 - val_loss: 0.9837 - val_accuracy: 0.8603 - val_auc: 0.8434\n",
            "Epoch 7/20\n",
            "22/22 [==============================] - 147s 7s/step - loss: 0.1895 - accuracy: 0.9305 - auc: 0.9607 - val_loss: 0.8121 - val_accuracy: 0.8725 - val_auc: 0.8501\n",
            "Epoch 8/20\n",
            "22/22 [==============================] - 134s 6s/step - loss: 0.1691 - accuracy: 0.9349 - auc: 0.9677 - val_loss: 1.1772 - val_accuracy: 0.8554 - val_auc: 0.8402\n",
            "Epoch 9/20\n",
            "22/22 [==============================] - 143s 7s/step - loss: 0.1616 - accuracy: 0.9453 - auc: 0.9728 - val_loss: 0.8927 - val_accuracy: 0.8799 - val_auc: 0.8617\n",
            "Epoch 10/20\n",
            "22/22 [==============================] - 139s 6s/step - loss: 0.1534 - accuracy: 0.9453 - auc: 0.9745 - val_loss: 0.9425 - val_accuracy: 0.8431 - val_auc: 0.8502\n",
            "Epoch 11/20\n",
            "22/22 [==============================] - 124s 6s/step - loss: 0.1387 - accuracy: 0.9497 - auc: 0.9810 - val_loss: 1.1194 - val_accuracy: 0.8382 - val_auc: 0.8457\n",
            "Epoch 12/20\n",
            "22/22 [==============================] - 116s 5s/step - loss: 0.1529 - accuracy: 0.9453 - auc: 0.9764 - val_loss: 0.9208 - val_accuracy: 0.8652 - val_auc: 0.8523\n",
            "Epoch 13/20\n",
            "22/22 [==============================] - 90s 4s/step - loss: 0.1609 - accuracy: 0.9260 - auc: 0.9697 - val_loss: 1.3413 - val_accuracy: 0.8260 - val_auc: 0.8636\n",
            "Epoch 14/20\n",
            "22/22 [==============================] - 90s 4s/step - loss: 0.1659 - accuracy: 0.9320 - auc: 0.9735 - val_loss: 0.6867 - val_accuracy: 0.8701 - val_auc: 0.8915\n",
            "Epoch 15/20\n",
            "22/22 [==============================] - 91s 4s/step - loss: 0.1492 - accuracy: 0.9408 - auc: 0.9766 - val_loss: 1.0793 - val_accuracy: 0.8578 - val_auc: 0.8590\n",
            "Epoch 16/20\n",
            "22/22 [==============================] - 91s 4s/step - loss: 0.1469 - accuracy: 0.9408 - auc: 0.9781 - val_loss: 1.1154 - val_accuracy: 0.8529 - val_auc: 0.8523\n",
            "Epoch 17/20\n",
            "22/22 [==============================] - 90s 4s/step - loss: 0.1317 - accuracy: 0.9453 - auc: 0.9832 - val_loss: 1.4305 - val_accuracy: 0.8799 - val_auc: 0.8626\n",
            "Epoch 18/20\n",
            "22/22 [==============================] - 91s 4s/step - loss: 0.1119 - accuracy: 0.9586 - auc: 0.9878 - val_loss: 1.1240 - val_accuracy: 0.8873 - val_auc: 0.8527\n",
            "Epoch 19/20\n",
            "22/22 [==============================] - 90s 4s/step - loss: 0.1168 - accuracy: 0.9393 - auc: 0.9861 - val_loss: 1.6778 - val_accuracy: 0.8627 - val_auc: 0.8597\n",
            "Epoch 20/20\n",
            "22/22 [==============================] - 90s 4s/step - loss: 0.1159 - accuracy: 0.9527 - auc: 0.9863 - val_loss: 1.0579 - val_accuracy: 0.8897 - val_auc: 0.8819\n"
          ],
          "name": "stdout"
        }
      ]
    },
    {
      "cell_type": "code",
      "metadata": {
        "id": "aff8288d",
        "outputId": "84cf2b04-72df-4fee-8dd3-904db745113b"
      },
      "source": [
        "plt.plot(r2.history['loss'], label='Loss')\n",
        "plt.plot(r2.history['val_loss'], label='Val_Loss')\n",
        "plt.legend()"
      ],
      "id": "aff8288d",
      "execution_count": null,
      "outputs": [
        {
          "output_type": "execute_result",
          "data": {
            "text/plain": [
              "<matplotlib.legend.Legend at 0x233ea03a070>"
            ]
          },
          "metadata": {
            "tags": []
          },
          "execution_count": 31
        },
        {
          "output_type": "display_data",
          "data": {
            "image/png": "[encoded data removed]",
            "text/plain": [
              "<Figure size 432x288 with 1 Axes>"
            ]
          },
          "metadata": {
            "tags": [],
            "needs_background": "light"
          }
        }
      ]
    },
    {
      "cell_type": "code",
      "metadata": {
        "id": "bc15adc2",
        "outputId": "1432ee4a-f1a3-4ed4-f40b-69cf4506c06f"
      },
      "source": [
        "plt.plot(r2.history['accuracy'], label='Accuracy')\n",
        "plt.plot(r2.history['val_accuracy'], label='Val_Accuracy')\n",
        "plt.legend()"
      ],
      "id": "bc15adc2",
      "execution_count": null,
      "outputs": [
        {
          "output_type": "execute_result",
          "data": {
            "text/plain": [
              "<matplotlib.legend.Legend at 0x233ea0bf850>"
            ]
          },
          "metadata": {
            "tags": []
          },
          "execution_count": 32
        },
        {
          "output_type": "display_data",
          "data": {
            "image/png": "[encoded data removed]",
            "text/plain": [
              "<Figure size 432x288 with 1 Axes>"
            ]
          },
          "metadata": {
            "tags": [],
            "needs_background": "light"
          }
        }
      ]
    },
    {
      "cell_type": "markdown",
      "metadata": {
        "id": "Gw54NvqXok07"
      },
      "source": [
        "The model seems to be overfitting from the very start."
      ],
      "id": "Gw54NvqXok07"
    },
    {
      "cell_type": "markdown",
      "metadata": {
        "id": "334a1599"
      },
      "source": [
        "## Model 3"
      ],
      "id": "334a1599"
    },
    {
      "cell_type": "markdown",
      "metadata": {
        "id": "7AoFK-NtozsC"
      },
      "source": [
        "In the third model, we try to reduce the number of layers."
      ],
      "id": "7AoFK-NtozsC"
    },
    {
      "cell_type": "code",
      "metadata": {
        "id": "fe3e3358"
      },
      "source": [
        "cnn3 = Sequential([\n",
        "    Conv2D(filters=64, kernel_size=3, activation='relu', input_shape=(250,250,3)),\n",
        "    MaxPool2D(),\n",
        "    Dropout(0.25),\n",
        "    \n",
        "    Conv2D(filters=128, kernel_size=3, activation='relu'),\n",
        "    MaxPool2D(),\n",
        "    Dropout(0.25),\n",
        "    \n",
        "    Flatten(),\n",
        "    \n",
        "    Dense(units=256, activation='relu'),\n",
        "    Dropout(0.5),\n",
        "    Dense(units=1, activation='sigmoid')\n",
        "])"
      ],
      "id": "fe3e3358",
      "execution_count": 17,
      "outputs": []
    },
    {
      "cell_type": "code",
      "metadata": {
        "id": "689efe42"
      },
      "source": [
        "cnn3.compile(optimizer='adam', loss='binary_crossentropy', metrics=['accuracy', 'AUC'])"
      ],
      "id": "689efe42",
      "execution_count": 18,
      "outputs": []
    },
    {
      "cell_type": "code",
      "metadata": {
        "colab": {
          "base_uri": "https://localhost:8080/"
        },
        "id": "fc267007",
        "outputId": "36ac5b53-69d3-4082-8a50-ac02e3d42056"
      },
      "source": [
        "cnn3.summary()"
      ],
      "id": "fc267007",
      "execution_count": 19,
      "outputs": [
        {
          "output_type": "stream",
          "text": [
            "Model: \"sequential_2\"\n",
            "_________________________________________________________________\n",
            "Layer (type)                 Output Shape              Param #   \n",
            "=================================================================\n",
            "conv2d_6 (Conv2D)            (None, 248, 248, 64)      1792      \n",
            "_________________________________________________________________\n",
            "max_pooling2d_4 (MaxPooling2 (None, 124, 124, 64)      0         \n",
            "_________________________________________________________________\n",
            "dropout_6 (Dropout)          (None, 124, 124, 64)      0         \n",
            "_________________________________________________________________\n",
            "conv2d_7 (Conv2D)            (None, 122, 122, 128)     73856     \n",
            "_________________________________________________________________\n",
            "max_pooling2d_5 (MaxPooling2 (None, 61, 61, 128)       0         \n",
            "_________________________________________________________________\n",
            "dropout_7 (Dropout)          (None, 61, 61, 128)       0         \n",
            "_________________________________________________________________\n",
            "flatten_2 (Flatten)          (None, 476288)            0         \n",
            "_________________________________________________________________\n",
            "dense_4 (Dense)              (None, 256)               121929984 \n",
            "_________________________________________________________________\n",
            "dropout_8 (Dropout)          (None, 256)               0         \n",
            "_________________________________________________________________\n",
            "dense_5 (Dense)              (None, 1)                 257       \n",
            "=================================================================\n",
            "Total params: 122,005,889\n",
            "Trainable params: 122,005,889\n",
            "Non-trainable params: 0\n",
            "_________________________________________________________________\n"
          ],
          "name": "stdout"
        }
      ]
    },
    {
      "cell_type": "code",
      "metadata": {
        "colab": {
          "base_uri": "https://localhost:8080/"
        },
        "id": "7197fb65",
        "outputId": "840a1247-c136-4036-b545-e25e1df79ef8"
      },
      "source": [
        "r3 = cnn3.fit(training_set, validation_data = test_set, epochs=10)"
      ],
      "id": "7197fb65",
      "execution_count": 20,
      "outputs": [
        {
          "output_type": "stream",
          "text": [
            "Epoch 1/10\n",
            "22/22 [==============================] - 33s 1s/step - loss: 3.2063 - accuracy: 0.7781 - auc: 0.5719 - val_loss: 0.6296 - val_accuracy: 0.7108 - val_auc: 0.6821\n",
            "Epoch 2/10\n",
            "22/22 [==============================] - 30s 1s/step - loss: 0.4112 - accuracy: 0.8151 - auc: 0.7786 - val_loss: 0.5567 - val_accuracy: 0.7279 - val_auc: 0.7478\n",
            "Epoch 3/10\n",
            "22/22 [==============================] - 30s 1s/step - loss: 0.3322 - accuracy: 0.8609 - auc: 0.8672 - val_loss: 0.5472 - val_accuracy: 0.8358 - val_auc: 0.8469\n",
            "Epoch 4/10\n",
            "22/22 [==============================] - 30s 1s/step - loss: 0.2987 - accuracy: 0.8698 - auc: 0.8985 - val_loss: 0.5913 - val_accuracy: 0.7892 - val_auc: 0.7826\n",
            "Epoch 5/10\n",
            "22/22 [==============================] - 30s 1s/step - loss: 0.3133 - accuracy: 0.8846 - auc: 0.8840 - val_loss: 0.7751 - val_accuracy: 0.8088 - val_auc: 0.7984\n",
            "Epoch 6/10\n",
            "22/22 [==============================] - 30s 1s/step - loss: 0.2530 - accuracy: 0.8994 - auc: 0.9297 - val_loss: 0.9845 - val_accuracy: 0.7819 - val_auc: 0.7851\n",
            "Epoch 7/10\n",
            "22/22 [==============================] - 30s 1s/step - loss: 0.2627 - accuracy: 0.8831 - auc: 0.9249 - val_loss: 0.7719 - val_accuracy: 0.8554 - val_auc: 0.8349\n",
            "Epoch 8/10\n",
            "22/22 [==============================] - 30s 1s/step - loss: 0.2618 - accuracy: 0.9127 - auc: 0.9279 - val_loss: 0.9583 - val_accuracy: 0.8088 - val_auc: 0.8210\n",
            "Epoch 9/10\n",
            "22/22 [==============================] - 30s 1s/step - loss: 0.3006 - accuracy: 0.8462 - auc: 0.9030 - val_loss: 0.7623 - val_accuracy: 0.8235 - val_auc: 0.8042\n",
            "Epoch 10/10\n",
            "22/22 [==============================] - 30s 1s/step - loss: 0.3151 - accuracy: 0.8757 - auc: 0.8870 - val_loss: 0.9223 - val_accuracy: 0.7402 - val_auc: 0.7617\n"
          ],
          "name": "stdout"
        }
      ]
    },
    {
      "cell_type": "code",
      "metadata": {
        "colab": {
          "base_uri": "https://localhost:8080/",
          "height": 282
        },
        "id": "6fada8d1",
        "outputId": "ef9fadea-28e4-412a-af99-4f243f2b102a"
      },
      "source": [
        "plt.plot(r3.history['loss'], label='Loss')\n",
        "plt.plot(r3.history['val_loss'], label='Val_Loss')\n",
        "plt.legend()"
      ],
      "id": "6fada8d1",
      "execution_count": 21,
      "outputs": [
        {
          "output_type": "execute_result",
          "data": {
            "text/plain": [
              "<matplotlib.legend.Legend at 0x7fea18399ad0>"
            ]
          },
          "metadata": {
            "tags": []
          },
          "execution_count": 21
        },
        {
          "output_type": "display_data",
          "data": {
            "image/png": "[encoded data removed]",
            "text/plain": [
              "<Figure size 432x288 with 1 Axes>"
            ]
          },
          "metadata": {
            "tags": [],
            "needs_background": "light"
          }
        }
      ]
    },
    {
      "cell_type": "code",
      "metadata": {
        "colab": {
          "base_uri": "https://localhost:8080/",
          "height": 282
        },
        "id": "8441bc10",
        "outputId": "06b07c1d-d953-40af-a75f-e3468248544c"
      },
      "source": [
        "plt.plot(r3.history['accuracy'], label='Accuracy')\n",
        "plt.plot(r3.history['val_accuracy'], label='Val_Accuracy')\n",
        "plt.legend()"
      ],
      "id": "8441bc10",
      "execution_count": 22,
      "outputs": [
        {
          "output_type": "execute_result",
          "data": {
            "text/plain": [
              "<matplotlib.legend.Legend at 0x7fea183aba90>"
            ]
          },
          "metadata": {
            "tags": []
          },
          "execution_count": 22
        },
        {
          "output_type": "display_data",
          "data": {
            "image/png": "[encoded data removed]",
            "text/plain": [
              "<Figure size 432x288 with 1 Axes>"
            ]
          },
          "metadata": {
            "tags": [],
            "needs_background": "light"
          }
        }
      ]
    },
    {
      "cell_type": "markdown",
      "metadata": {
        "id": "Nf0MO3aro4Z7"
      },
      "source": [
        "Again, this model is not giving us the convergence that we'd like from our CNN model, neither good accuracy."
      ],
      "id": "Nf0MO3aro4Z7"
    },
    {
      "cell_type": "markdown",
      "metadata": {
        "id": "2492dbc8"
      },
      "source": [
        "## Model 4"
      ],
      "id": "2492dbc8"
    },
    {
      "cell_type": "markdown",
      "metadata": {
        "id": "zIk5WmZ7pc1U"
      },
      "source": [
        "In this model, we increase the number of Dense Layers to improve the performance."
      ],
      "id": "zIk5WmZ7pc1U"
    },
    {
      "cell_type": "code",
      "metadata": {
        "id": "f88b642a"
      },
      "source": [
        "cnn4 = Sequential([\n",
        "    Conv2D(filters=64, kernel_size=3, activation='relu', input_shape=(250,250,3)),\n",
        "    MaxPool2D(),\n",
        "    Dropout(0.25),\n",
        "    \n",
        "    Conv2D(filters=128, kernel_size=3, activation='relu'),\n",
        "    MaxPool2D(),\n",
        "    Dropout(0.25),\n",
        "    \n",
        "    Flatten(),\n",
        "    \n",
        "    Dense(units=256, activation='relu'),\n",
        "    Dense(units=64, activation='relu'),\n",
        "    Dropout(0.5),\n",
        "    Dense(units=1, activation='sigmoid')\n",
        "])"
      ],
      "id": "f88b642a",
      "execution_count": 23,
      "outputs": []
    },
    {
      "cell_type": "code",
      "metadata": {
        "colab": {
          "base_uri": "https://localhost:8080/"
        },
        "id": "e6d98186",
        "outputId": "b9cab34a-b26a-4a8a-9e12-9a9ec4dda395"
      },
      "source": [
        "cnn4.summary()"
      ],
      "id": "e6d98186",
      "execution_count": 24,
      "outputs": [
        {
          "output_type": "stream",
          "text": [
            "Model: \"sequential_3\"\n",
            "_________________________________________________________________\n",
            "Layer (type)                 Output Shape              Param #   \n",
            "=================================================================\n",
            "conv2d_8 (Conv2D)            (None, 248, 248, 64)      1792      \n",
            "_________________________________________________________________\n",
            "max_pooling2d_6 (MaxPooling2 (None, 124, 124, 64)      0         \n",
            "_________________________________________________________________\n",
            "dropout_9 (Dropout)          (None, 124, 124, 64)      0         \n",
            "_________________________________________________________________\n",
            "conv2d_9 (Conv2D)            (None, 122, 122, 128)     73856     \n",
            "_________________________________________________________________\n",
            "max_pooling2d_7 (MaxPooling2 (None, 61, 61, 128)       0         \n",
            "_________________________________________________________________\n",
            "dropout_10 (Dropout)         (None, 61, 61, 128)       0         \n",
            "_________________________________________________________________\n",
            "flatten_3 (Flatten)          (None, 476288)            0         \n",
            "_________________________________________________________________\n",
            "dense_6 (Dense)              (None, 256)               121929984 \n",
            "_________________________________________________________________\n",
            "dense_7 (Dense)              (None, 64)                16448     \n",
            "_________________________________________________________________\n",
            "dropout_11 (Dropout)         (None, 64)                0         \n",
            "_________________________________________________________________\n",
            "dense_8 (Dense)              (None, 1)                 65        \n",
            "=================================================================\n",
            "Total params: 122,022,145\n",
            "Trainable params: 122,022,145\n",
            "Non-trainable params: 0\n",
            "_________________________________________________________________\n"
          ],
          "name": "stdout"
        }
      ]
    },
    {
      "cell_type": "code",
      "metadata": {
        "id": "9fdc755f"
      },
      "source": [
        "cnn4.compile(optimizer='adam',loss='binary_crossentropy', metrics=['accuracy', 'AUC'])"
      ],
      "id": "9fdc755f",
      "execution_count": 25,
      "outputs": []
    },
    {
      "cell_type": "code",
      "metadata": {
        "colab": {
          "base_uri": "https://localhost:8080/"
        },
        "id": "073ee59f",
        "outputId": "858ad0d6-1215-49c5-c91b-5352da196dff"
      },
      "source": [
        "r4 = cnn4.fit(training_set, validation_data = test_set, epochs=20)"
      ],
      "id": "073ee59f",
      "execution_count": 26,
      "outputs": [
        {
          "output_type": "stream",
          "text": [
            "Epoch 1/20\n",
            "22/22 [==============================] - 32s 1s/step - loss: 4.2716 - accuracy: 0.7175 - auc: 0.4927 - val_loss: 0.6449 - val_accuracy: 0.7108 - val_auc: 0.6106\n",
            "Epoch 2/20\n",
            "22/22 [==============================] - 30s 1s/step - loss: 0.4643 - accuracy: 0.8151 - auc: 0.6694 - val_loss: 0.7108 - val_accuracy: 0.7108 - val_auc: 0.6960\n",
            "Epoch 3/20\n",
            "22/22 [==============================] - 30s 1s/step - loss: 0.3651 - accuracy: 0.8506 - auc: 0.8445 - val_loss: 0.6056 - val_accuracy: 0.7328 - val_auc: 0.7653\n",
            "Epoch 4/20\n",
            "22/22 [==============================] - 30s 1s/step - loss: 0.3051 - accuracy: 0.8772 - auc: 0.8916 - val_loss: 0.6016 - val_accuracy: 0.8529 - val_auc: 0.8299\n",
            "Epoch 5/20\n",
            "22/22 [==============================] - 30s 1s/step - loss: 0.3732 - accuracy: 0.8402 - auc: 0.8313 - val_loss: 0.7966 - val_accuracy: 0.7132 - val_auc: 0.7177\n",
            "Epoch 6/20\n",
            "22/22 [==============================] - 30s 1s/step - loss: 0.3554 - accuracy: 0.8609 - auc: 0.8543 - val_loss: 0.6206 - val_accuracy: 0.7990 - val_auc: 0.8251\n",
            "Epoch 7/20\n",
            "22/22 [==============================] - 30s 1s/step - loss: 0.2960 - accuracy: 0.8817 - auc: 0.9012 - val_loss: 0.8566 - val_accuracy: 0.7990 - val_auc: 0.8070\n",
            "Epoch 8/20\n",
            "22/22 [==============================] - 30s 1s/step - loss: 0.2829 - accuracy: 0.9068 - auc: 0.9025 - val_loss: 0.6592 - val_accuracy: 0.8039 - val_auc: 0.8210\n",
            "Epoch 9/20\n",
            "22/22 [==============================] - 30s 1s/step - loss: 0.2379 - accuracy: 0.9157 - auc: 0.9308 - val_loss: 0.9653 - val_accuracy: 0.7745 - val_auc: 0.7839\n",
            "Epoch 10/20\n",
            "22/22 [==============================] - 30s 1s/step - loss: 0.2870 - accuracy: 0.9127 - auc: 0.9079 - val_loss: 0.4841 - val_accuracy: 0.8235 - val_auc: 0.8742\n",
            "Epoch 11/20\n",
            "22/22 [==============================] - 30s 1s/step - loss: 0.2441 - accuracy: 0.9083 - auc: 0.9314 - val_loss: 0.7083 - val_accuracy: 0.8064 - val_auc: 0.8385\n",
            "Epoch 12/20\n",
            "22/22 [==============================] - 30s 1s/step - loss: 0.2250 - accuracy: 0.9112 - auc: 0.9423 - val_loss: 0.8484 - val_accuracy: 0.7525 - val_auc: 0.8053\n",
            "Epoch 13/20\n",
            "22/22 [==============================] - 30s 1s/step - loss: 0.2366 - accuracy: 0.9112 - auc: 0.9330 - val_loss: 0.5885 - val_accuracy: 0.8235 - val_auc: 0.8697\n",
            "Epoch 14/20\n",
            "22/22 [==============================] - 30s 1s/step - loss: 0.2216 - accuracy: 0.9038 - auc: 0.9473 - val_loss: 0.6482 - val_accuracy: 0.8505 - val_auc: 0.8534\n",
            "Epoch 15/20\n",
            "22/22 [==============================] - 30s 1s/step - loss: 0.1850 - accuracy: 0.9260 - auc: 0.9689 - val_loss: 0.8050 - val_accuracy: 0.8211 - val_auc: 0.8587\n",
            "Epoch 16/20\n",
            "22/22 [==============================] - 30s 1s/step - loss: 0.1862 - accuracy: 0.9275 - auc: 0.9620 - val_loss: 0.9225 - val_accuracy: 0.8480 - val_auc: 0.8491\n",
            "Epoch 17/20\n",
            "22/22 [==============================] - 30s 1s/step - loss: 0.1865 - accuracy: 0.9290 - auc: 0.9631 - val_loss: 0.6663 - val_accuracy: 0.8627 - val_auc: 0.8763\n",
            "Epoch 18/20\n",
            "22/22 [==============================] - 30s 1s/step - loss: 0.1752 - accuracy: 0.9275 - auc: 0.9652 - val_loss: 0.7711 - val_accuracy: 0.8824 - val_auc: 0.8654\n",
            "Epoch 19/20\n",
            "22/22 [==============================] - 30s 1s/step - loss: 0.1763 - accuracy: 0.9246 - auc: 0.9656 - val_loss: 0.9048 - val_accuracy: 0.7990 - val_auc: 0.8305\n",
            "Epoch 20/20\n",
            "22/22 [==============================] - 30s 1s/step - loss: 0.1992 - accuracy: 0.9290 - auc: 0.9589 - val_loss: 0.5744 - val_accuracy: 0.8848 - val_auc: 0.9033\n"
          ],
          "name": "stdout"
        }
      ]
    },
    {
      "cell_type": "code",
      "metadata": {
        "colab": {
          "base_uri": "https://localhost:8080/",
          "height": 282
        },
        "id": "c4f77e26",
        "outputId": "b9de1dcd-3329-4570-a239-d21e0d10b851"
      },
      "source": [
        "plt.plot(r4.history['loss'], label='Loss')\n",
        "plt.plot(r4.history['val_loss'], label='Val_Loss')\n",
        "plt.legend()"
      ],
      "id": "c4f77e26",
      "execution_count": 27,
      "outputs": [
        {
          "output_type": "execute_result",
          "data": {
            "text/plain": [
              "<matplotlib.legend.Legend at 0x7fe9b26f8310>"
            ]
          },
          "metadata": {
            "tags": []
          },
          "execution_count": 27
        },
        {
          "output_type": "display_data",
          "data": {
            "image/png": "[encoded data removed]",
            "text/plain": [
              "<Figure size 432x288 with 1 Axes>"
            ]
          },
          "metadata": {
            "tags": [],
            "needs_background": "light"
          }
        }
      ]
    },
    {
      "cell_type": "code",
      "metadata": {
        "colab": {
          "base_uri": "https://localhost:8080/",
          "height": 282
        },
        "id": "1021cad5",
        "outputId": "09f4bcd5-c463-4389-df02-c2c1139003c1"
      },
      "source": [
        "plt.plot(r4.history['accuracy'], label='Accuracy')\n",
        "plt.plot(r4.history['val_accuracy'], label='Val_Accuracy')\n",
        "plt.legend()"
      ],
      "id": "1021cad5",
      "execution_count": 28,
      "outputs": [
        {
          "output_type": "execute_result",
          "data": {
            "text/plain": [
              "<matplotlib.legend.Legend at 0x7fe9b26a52d0>"
            ]
          },
          "metadata": {
            "tags": []
          },
          "execution_count": 28
        },
        {
          "output_type": "display_data",
          "data": {
            "image/png": "[encoded data removed]",
            "text/plain": [
              "<Figure size 432x288 with 1 Axes>"
            ]
          },
          "metadata": {
            "tags": [],
            "needs_background": "light"
          }
        }
      ]
    },
    {
      "cell_type": "markdown",
      "metadata": {
        "id": "5wrO_Gbd7sDL"
      },
      "source": [
        "## Model 5"
      ],
      "id": "5wrO_Gbd7sDL"
    },
    {
      "cell_type": "markdown",
      "metadata": {
        "id": "ZHvCPXHD7wZN"
      },
      "source": [
        "Our val_accuracy/loss is fluctuating a lot. We will try to fix this by changing the model structure completely, introdue a learning rate scheduler to slow down the learning rate and using a different activation function."
      ],
      "id": "ZHvCPXHD7wZN"
    },
    {
      "cell_type": "markdown",
      "metadata": {
        "id": "LfoZFanEyCNz"
      },
      "source": [
        "#### Defining a learning rate scheduler that reduces the learning from 0.001 to 0.0001 after the 10th epoch."
      ],
      "id": "LfoZFanEyCNz"
    },
    {
      "cell_type": "code",
      "metadata": {
        "id": "0c96ec03"
      },
      "source": [
        "def schedule(epoch, lr):\n",
        "    if epoch >=10:\n",
        "        return 0.0001\n",
        "    else:\n",
        "        return 0.001"
      ],
      "id": "0c96ec03",
      "execution_count": 71,
      "outputs": []
    },
    {
      "cell_type": "code",
      "metadata": {
        "id": "111e362c"
      },
      "source": [
        "scheduler = tf.keras.callbacks.LearningRateScheduler(schedule)"
      ],
      "id": "111e362c",
      "execution_count": 72,
      "outputs": []
    },
    {
      "cell_type": "code",
      "metadata": {
        "id": "5a975097"
      },
      "source": [
        "cnn5 = Sequential([\n",
        "    Conv2D(filters=32, kernel_size=3, activation='elu', input_shape=(250,250,3)),\n",
        "    MaxPool2D(),\n",
        "    Dropout(0.25),\n",
        "    \n",
        "    Conv2D(filters=32, kernel_size=3, activation='elu'),\n",
        "    MaxPool2D(),\n",
        "    Dropout(0.25),\n",
        "    \n",
        "    Conv2D(filters=64, kernel_size=3, activation='elu'),\n",
        "    MaxPool2D(),\n",
        "    Dropout(0.25),\n",
        "    \n",
        "    Conv2D(filters=64, kernel_size=3, activation='elu'),\n",
        "    MaxPool2D(),\n",
        "    Dropout(0.5),\n",
        "    \n",
        "    Conv2D(filters=128, kernel_size=3, activation='elu'),\n",
        "    MaxPool2D(),\n",
        "    Dropout(0.5),\n",
        "    \n",
        "    Flatten(),\n",
        "    \n",
        "    Dense(units=256, activation='elu'),\n",
        "    Dense(units=128, activation='elu'),\n",
        "    Dropout(0.5),\n",
        "    Dense(units=1, activation='sigmoid')\n",
        "])"
      ],
      "id": "5a975097",
      "execution_count": 81,
      "outputs": []
    },
    {
      "cell_type": "code",
      "metadata": {
        "colab": {
          "base_uri": "https://localhost:8080/"
        },
        "id": "8e54471c",
        "outputId": "6678d112-2ff7-4c6a-f4a5-a06119ef134c"
      },
      "source": [
        "cnn5.summary()"
      ],
      "id": "8e54471c",
      "execution_count": 82,
      "outputs": [
        {
          "output_type": "stream",
          "text": [
            "Model: \"sequential_11\"\n",
            "_________________________________________________________________\n",
            "Layer (type)                 Output Shape              Param #   \n",
            "=================================================================\n",
            "conv2d_39 (Conv2D)           (None, 248, 248, 32)      896       \n",
            "_________________________________________________________________\n",
            "max_pooling2d_37 (MaxPooling (None, 124, 124, 32)      0         \n",
            "_________________________________________________________________\n",
            "dropout_48 (Dropout)         (None, 124, 124, 32)      0         \n",
            "_________________________________________________________________\n",
            "conv2d_40 (Conv2D)           (None, 122, 122, 32)      9248      \n",
            "_________________________________________________________________\n",
            "max_pooling2d_38 (MaxPooling (None, 61, 61, 32)        0         \n",
            "_________________________________________________________________\n",
            "dropout_49 (Dropout)         (None, 61, 61, 32)        0         \n",
            "_________________________________________________________________\n",
            "conv2d_41 (Conv2D)           (None, 59, 59, 64)        18496     \n",
            "_________________________________________________________________\n",
            "max_pooling2d_39 (MaxPooling (None, 29, 29, 64)        0         \n",
            "_________________________________________________________________\n",
            "dropout_50 (Dropout)         (None, 29, 29, 64)        0         \n",
            "_________________________________________________________________\n",
            "conv2d_42 (Conv2D)           (None, 27, 27, 64)        36928     \n",
            "_________________________________________________________________\n",
            "max_pooling2d_40 (MaxPooling (None, 13, 13, 64)        0         \n",
            "_________________________________________________________________\n",
            "dropout_51 (Dropout)         (None, 13, 13, 64)        0         \n",
            "_________________________________________________________________\n",
            "conv2d_43 (Conv2D)           (None, 11, 11, 128)       73856     \n",
            "_________________________________________________________________\n",
            "max_pooling2d_41 (MaxPooling (None, 5, 5, 128)         0         \n",
            "_________________________________________________________________\n",
            "dropout_52 (Dropout)         (None, 5, 5, 128)         0         \n",
            "_________________________________________________________________\n",
            "flatten_11 (Flatten)         (None, 3200)              0         \n",
            "_________________________________________________________________\n",
            "dense_30 (Dense)             (None, 256)               819456    \n",
            "_________________________________________________________________\n",
            "dense_31 (Dense)             (None, 128)               32896     \n",
            "_________________________________________________________________\n",
            "dropout_53 (Dropout)         (None, 128)               0         \n",
            "_________________________________________________________________\n",
            "dense_32 (Dense)             (None, 1)                 129       \n",
            "=================================================================\n",
            "Total params: 991,905\n",
            "Trainable params: 991,905\n",
            "Non-trainable params: 0\n",
            "_________________________________________________________________\n"
          ],
          "name": "stdout"
        }
      ]
    },
    {
      "cell_type": "code",
      "metadata": {
        "id": "2babcc6e"
      },
      "source": [
        "opt = tf.keras.optimizers.Adam(0.001)"
      ],
      "id": "2babcc6e",
      "execution_count": 93,
      "outputs": []
    },
    {
      "cell_type": "code",
      "metadata": {
        "id": "842a51f9"
      },
      "source": [
        "cnn5.compile(optimizer=opt, loss='binary_crossentropy', metrics=['accuracy', 'AUC'])    "
      ],
      "id": "842a51f9",
      "execution_count": 84,
      "outputs": []
    },
    {
      "cell_type": "code",
      "metadata": {
        "colab": {
          "base_uri": "https://localhost:8080/"
        },
        "id": "aedf16ba",
        "outputId": "fd17e726-fbed-4270-846a-d4e7b95a8f26"
      },
      "source": [
        "r5 = cnn5.fit(training_set, validation_data=test_set, epochs=20, callbacks=[scheduler])"
      ],
      "id": "aedf16ba",
      "execution_count": 85,
      "outputs": [
        {
          "output_type": "stream",
          "text": [
            "Epoch 1/20\n",
            "22/22 [==============================] - 30s 1s/step - loss: 0.6958 - accuracy: 0.7426 - auc: 0.5039 - val_loss: 0.5949 - val_accuracy: 0.7108 - val_auc: 0.7594\n",
            "Epoch 2/20\n",
            "22/22 [==============================] - 29s 1s/step - loss: 0.4894 - accuracy: 0.8121 - auc: 0.5644 - val_loss: 0.9472 - val_accuracy: 0.2892 - val_auc: 0.4822\n",
            "Epoch 3/20\n",
            "22/22 [==============================] - 29s 1s/step - loss: 0.4708 - accuracy: 0.8092 - auc: 0.6398 - val_loss: 0.7003 - val_accuracy: 0.3775 - val_auc: 0.8918\n",
            "Epoch 4/20\n",
            "22/22 [==============================] - 29s 1s/step - loss: 0.4543 - accuracy: 0.8077 - auc: 0.7019 - val_loss: 0.6530 - val_accuracy: 0.6005 - val_auc: 0.8153\n",
            "Epoch 5/20\n",
            "22/22 [==============================] - 29s 1s/step - loss: 0.3360 - accuracy: 0.8669 - auc: 0.8685 - val_loss: 0.8558 - val_accuracy: 0.4461 - val_auc: 0.7861\n",
            "Epoch 6/20\n",
            "22/22 [==============================] - 29s 1s/step - loss: 0.3682 - accuracy: 0.8402 - auc: 0.8394 - val_loss: 0.3481 - val_accuracy: 0.8554 - val_auc: 0.9080\n",
            "Epoch 7/20\n",
            "22/22 [==============================] - 29s 1s/step - loss: 0.3229 - accuracy: 0.8743 - auc: 0.8840 - val_loss: 0.4625 - val_accuracy: 0.7745 - val_auc: 0.9048\n",
            "Epoch 8/20\n",
            "22/22 [==============================] - 29s 1s/step - loss: 0.3136 - accuracy: 0.8713 - auc: 0.8923 - val_loss: 0.3461 - val_accuracy: 0.8480 - val_auc: 0.9025\n",
            "Epoch 9/20\n",
            "22/22 [==============================] - 29s 1s/step - loss: 0.2700 - accuracy: 0.8950 - auc: 0.9205 - val_loss: 0.3403 - val_accuracy: 0.8725 - val_auc: 0.9189\n",
            "Epoch 10/20\n",
            "22/22 [==============================] - 29s 1s/step - loss: 0.3005 - accuracy: 0.8817 - auc: 0.8979 - val_loss: 0.3627 - val_accuracy: 0.8505 - val_auc: 0.9121\n",
            "Epoch 11/20\n",
            "22/22 [==============================] - 29s 1s/step - loss: 0.2392 - accuracy: 0.9112 - auc: 0.9362 - val_loss: 0.3684 - val_accuracy: 0.8529 - val_auc: 0.9138\n",
            "Epoch 12/20\n",
            "22/22 [==============================] - 29s 1s/step - loss: 0.2183 - accuracy: 0.9083 - auc: 0.9518 - val_loss: 0.3795 - val_accuracy: 0.8529 - val_auc: 0.9118\n",
            "Epoch 13/20\n",
            "22/22 [==============================] - 29s 1s/step - loss: 0.2439 - accuracy: 0.9068 - auc: 0.9270 - val_loss: 0.3850 - val_accuracy: 0.8603 - val_auc: 0.9133\n",
            "Epoch 14/20\n",
            "22/22 [==============================] - 29s 1s/step - loss: 0.2578 - accuracy: 0.8994 - auc: 0.9241 - val_loss: 0.3361 - val_accuracy: 0.8725 - val_auc: 0.9161\n",
            "Epoch 15/20\n",
            "22/22 [==============================] - 29s 1s/step - loss: 0.2354 - accuracy: 0.9127 - auc: 0.9401 - val_loss: 0.3434 - val_accuracy: 0.8627 - val_auc: 0.9145\n",
            "Epoch 16/20\n",
            "22/22 [==============================] - 29s 1s/step - loss: 0.2182 - accuracy: 0.9112 - auc: 0.9465 - val_loss: 0.3453 - val_accuracy: 0.8578 - val_auc: 0.9136\n",
            "Epoch 17/20\n",
            "22/22 [==============================] - 29s 1s/step - loss: 0.2435 - accuracy: 0.8979 - auc: 0.9361 - val_loss: 0.3422 - val_accuracy: 0.8578 - val_auc: 0.9153\n",
            "Epoch 18/20\n",
            "22/22 [==============================] - 29s 1s/step - loss: 0.2386 - accuracy: 0.9098 - auc: 0.9344 - val_loss: 0.3298 - val_accuracy: 0.8750 - val_auc: 0.9183\n",
            "Epoch 19/20\n",
            "22/22 [==============================] - 29s 1s/step - loss: 0.2448 - accuracy: 0.9009 - auc: 0.9332 - val_loss: 0.3614 - val_accuracy: 0.8750 - val_auc: 0.9165\n",
            "Epoch 20/20\n",
            "22/22 [==============================] - 29s 1s/step - loss: 0.2453 - accuracy: 0.8979 - auc: 0.9339 - val_loss: 0.3451 - val_accuracy: 0.8750 - val_auc: 0.9171\n"
          ],
          "name": "stdout"
        }
      ]
    },
    {
      "cell_type": "code",
      "metadata": {
        "colab": {
          "base_uri": "https://localhost:8080/",
          "height": 282
        },
        "id": "df27e73c",
        "outputId": "fc468f63-0334-4eb6-f0e5-2a2e36dbdd6b"
      },
      "source": [
        "plt.plot(r5.history['loss'], label='Loss')\n",
        "plt.plot(r5.history['val_loss'], label='Val_Loss')\n",
        "plt.legend()"
      ],
      "id": "df27e73c",
      "execution_count": 86,
      "outputs": [
        {
          "output_type": "execute_result",
          "data": {
            "text/plain": [
              "<matplotlib.legend.Legend at 0x7fea705c7a90>"
            ]
          },
          "metadata": {
            "tags": []
          },
          "execution_count": 86
        },
        {
          "output_type": "display_data",
          "data": {
            "image/png": "[encoded data removed]",
            "text/plain": [
              "<Figure size 432x288 with 1 Axes>"
            ]
          },
          "metadata": {
            "tags": [],
            "needs_background": "light"
          }
        }
      ]
    },
    {
      "cell_type": "code",
      "metadata": {
        "colab": {
          "base_uri": "https://localhost:8080/",
          "height": 282
        },
        "id": "21e9decb",
        "outputId": "f7b15edb-0326-4cd3-fd28-87d6d492411e"
      },
      "source": [
        "plt.plot(r5.history['accuracy'], label='Accuracy')\n",
        "plt.plot(r5.history['val_accuracy'], label='Val_Accuracy')\n",
        "plt.legend()"
      ],
      "id": "21e9decb",
      "execution_count": 87,
      "outputs": [
        {
          "output_type": "execute_result",
          "data": {
            "text/plain": [
              "<matplotlib.legend.Legend at 0x7fe846645e10>"
            ]
          },
          "metadata": {
            "tags": []
          },
          "execution_count": 87
        },
        {
          "output_type": "display_data",
          "data": {
            "image/png": "[encoded data removed]",
            "text/plain": [
              "<Figure size 432x288 with 1 Axes>"
            ]
          },
          "metadata": {
            "tags": [],
            "needs_background": "light"
          }
        }
      ]
    },
    {
      "cell_type": "code",
      "metadata": {
        "colab": {
          "base_uri": "https://localhost:8080/",
          "height": 282
        },
        "id": "4ad0e8e2",
        "outputId": "9d9f631d-2121-477b-d5c7-97ca4d090087"
      },
      "source": [
        "plt.plot(r5.history['auc'], label='AUC')\n",
        "plt.plot(r5.history['val_auc'], label='Val_AUC')\n",
        "plt.legend()"
      ],
      "id": "4ad0e8e2",
      "execution_count": 88,
      "outputs": [
        {
          "output_type": "execute_result",
          "data": {
            "text/plain": [
              "<matplotlib.legend.Legend at 0x7fe84657b450>"
            ]
          },
          "metadata": {
            "tags": []
          },
          "execution_count": 88
        },
        {
          "output_type": "display_data",
          "data": {
            "image/png": "[encoded data removed]",
            "text/plain": [
              "<Figure size 432x288 with 1 Axes>"
            ]
          },
          "metadata": {
            "tags": [],
            "needs_background": "light"
          }
        }
      ]
    },
    {
      "cell_type": "code",
      "metadata": {
        "colab": {
          "base_uri": "https://localhost:8080/"
        },
        "id": "c46deb5d",
        "outputId": "82726fa2-f3f4-41ef-e046-bc96551ebbb7"
      },
      "source": [
        "test_loss, test_accuracy, test_auc = cnn5.evaluate(test_set)"
      ],
      "id": "c46deb5d",
      "execution_count": 89,
      "outputs": [
        {
          "output_type": "stream",
          "text": [
            "13/13 [==============================] - 8s 564ms/step - loss: 0.3451 - accuracy: 0.8750 - auc: 0.9171\n"
          ],
          "name": "stdout"
        }
      ]
    },
    {
      "cell_type": "markdown",
      "metadata": {
        "id": "JLbSuAND8Ynj"
      },
      "source": [
        "This is the sort of converging graphs we were looking for from our model. It also gives us a great **accuracy of 87.5% and AUC score of 91.7%.**"
      ],
      "id": "JLbSuAND8Ynj"
    }
  ]
}